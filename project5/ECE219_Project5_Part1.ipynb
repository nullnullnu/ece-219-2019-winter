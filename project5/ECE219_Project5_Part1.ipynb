{
  "nbformat": 4,
  "nbformat_minor": 0,
  "metadata": {
    "colab": {
      "name": "ECE219_Project5.ipynb",
      "version": "0.3.2",
      "provenance": [],
      "collapsed_sections": []
    },
    "kernelspec": {
      "name": "python3",
      "display_name": "Python 3"
    }
  },
  "cells": [
    {
      "cell_type": "markdown",
      "metadata": {
        "id": "qheC9oSopvJM",
        "colab_type": "text"
      },
      "source": [
        "# Project 5: Application - Twitter data"
      ]
    },
    {
      "cell_type": "code",
      "metadata": {
        "id": "ibizUXGsljYa",
        "colab_type": "code",
        "colab": {}
      },
      "source": [
        "import numpy as np\n",
        "import pandas as pd\n",
        "import os\n",
        "import json\n",
        "import datetime\n",
        "import pytz\n",
        "import matplotlib.pyplot as plt\n",
        "import statsmodels.api as sm\n",
        "from scipy import stats"
      ],
      "execution_count": 0,
      "outputs": []
    },
    {
      "cell_type": "code",
      "metadata": {
        "id": "WXqnxiTj_5Sj",
        "colab_type": "code",
        "outputId": "60f666d6-ced5-414d-e223-44db1fd7b6b6",
        "colab": {
          "base_uri": "https://localhost:8080/",
          "height": 34
        }
      },
      "source": [
        "os.getcwd()"
      ],
      "execution_count": 2,
      "outputs": [
        {
          "output_type": "execute_result",
          "data": {
            "text/plain": [
              "'/content'"
            ]
          },
          "metadata": {
            "tags": []
          },
          "execution_count": 2
        }
      ]
    },
    {
      "cell_type": "code",
      "metadata": {
        "id": "hRFWl-rH0HkI",
        "colab_type": "code",
        "colab": {}
      },
      "source": [
        ""
      ],
      "execution_count": 0,
      "outputs": []
    },
    {
      "cell_type": "markdown",
      "metadata": {
        "id": "p_p1tX6LYVco",
        "colab_type": "text"
      },
      "source": [
        "## Part 1: Popularity Prediction"
      ]
    },
    {
      "cell_type": "markdown",
      "metadata": {
        "id": "3VwTuxTQYZGg",
        "colab_type": "text"
      },
      "source": [
        "### 1. A first look at the data"
      ]
    },
    {
      "cell_type": "markdown",
      "metadata": {
        "id": "LfgYKdpKQD_2",
        "colab_type": "text"
      },
      "source": [
        "\n",
        "QUESTION 1: Report the following statistics for each hashtag, i.e. each  le:  \n",
        "*  Average number of tweets per hour  \n",
        "*  Average number of followers of users posting the tweets per tweet (to make it simple, we average over the number of tweets; if a users posted twice, we count the user and the user’s followers twice as well)  \n",
        "*  Average number of retweets per tweet  "
      ]
    },
    {
      "cell_type": "code",
      "metadata": {
        "id": "7Cg_lo7H_Xh7",
        "colab_type": "code",
        "colab": {}
      },
      "source": [
        "def get_file(file_path):\n",
        "  timestamp = []\n",
        "  tweet = []\n",
        "  retweet = []\n",
        "  followers = []\n",
        "  time = []\n",
        "  month = []\n",
        "  day = []\n",
        "  hour = []\n",
        "  pst_tz = pytz.timezone('America/Los_Angeles')\n",
        "\n",
        "  with open(file_path, 'r') as json_file:  \n",
        "    for line in json_file:\n",
        "      data = json.loads(line)\n",
        "      timestamp.append(data['citation_date'])\n",
        "      tweet.append(1)\n",
        "      retweet.append(data['metrics']['citations']['total'])\n",
        "      followers.append(data['author']['followers'])\n",
        "      time.append(datetime.datetime.fromtimestamp(data['citation_date'], pst_tz))\n",
        "      month.append(datetime.datetime.fromtimestamp(data['citation_date'], pst_tz).month)\n",
        "      day.append(datetime.datetime.fromtimestamp(data['citation_date'], pst_tz).day)\n",
        "      hour.append(datetime.datetime.fromtimestamp(data['citation_date'], pst_tz).hour)\n",
        "    df = pd.DataFrame({\n",
        "        'tweet': tweet,\n",
        "        'timestamp': timestamp,\n",
        "        'retweet': retweet,\n",
        "        'followers': followers,\n",
        "        'time': time,\n",
        "        'month': month,\n",
        "        'day': day,\n",
        "        'hour': hour\n",
        "    }, columns = ['tweet', 'timestamp', 'retweet', 'followers', 'time', 'month', 'day', 'hour'])\n",
        "    \n",
        "    df.to_csv('./ECE219_tweet_data/extracted'+file_path[28:-4]+'.csv', index = False)\n",
        "    "
      ],
      "execution_count": 0,
      "outputs": []
    },
    {
      "cell_type": "code",
      "metadata": {
        "id": "-T8C2T9lMOc0",
        "colab_type": "code",
        "colab": {}
      },
      "source": [
        "get_file('./ECE219_tweet_data/tweets_#superbowl.txt')"
      ],
      "execution_count": 0,
      "outputs": []
    },
    {
      "cell_type": "code",
      "metadata": {
        "id": "swOxwdlRRQfg",
        "colab_type": "code",
        "colab": {}
      },
      "source": [
        "get_file('./ECE219_tweet_data/tweets_#gohawks.txt')"
      ],
      "execution_count": 0,
      "outputs": []
    },
    {
      "cell_type": "code",
      "metadata": {
        "id": "2lFEaS8sRfpf",
        "colab_type": "code",
        "colab": {}
      },
      "source": [
        "get_file('./ECE219_tweet_data/tweets_#gopatriots.txt')"
      ],
      "execution_count": 0,
      "outputs": []
    },
    {
      "cell_type": "code",
      "metadata": {
        "id": "6L68x5AMRsIW",
        "colab_type": "code",
        "colab": {}
      },
      "source": [
        "get_file('./ECE219_tweet_data/tweets_#nfl.txt')"
      ],
      "execution_count": 0,
      "outputs": []
    },
    {
      "cell_type": "code",
      "metadata": {
        "id": "R51y0UVbR5D_",
        "colab_type": "code",
        "colab": {}
      },
      "source": [
        "get_file('./ECE219_tweet_data/tweets_#patriots.txt')"
      ],
      "execution_count": 0,
      "outputs": []
    },
    {
      "cell_type": "code",
      "metadata": {
        "id": "Vqh56mR3R-SD",
        "colab_type": "code",
        "colab": {}
      },
      "source": [
        "get_file('./ECE219_tweet_data/tweets_#sb49.txt')"
      ],
      "execution_count": 0,
      "outputs": []
    },
    {
      "cell_type": "code",
      "metadata": {
        "id": "Uhe8MLB1UIpA",
        "colab_type": "code",
        "colab": {}
      },
      "source": [
        "superbowl = pd.read_csv('./ECE219_tweet_data/extractedsuperbowl.csv')"
      ],
      "execution_count": 0,
      "outputs": []
    },
    {
      "cell_type": "code",
      "metadata": {
        "id": "qWvv919rVTME",
        "colab_type": "code",
        "outputId": "d7892e18-aac1-4c7b-bb9f-e3950b14358f",
        "colab": {
          "base_uri": "https://localhost:8080/",
          "height": 204
        }
      },
      "source": [
        "superbowl.head()"
      ],
      "execution_count": 0,
      "outputs": [
        {
          "output_type": "execute_result",
          "data": {
            "text/plain": [
              "   tweet   timestamp  retweet  followers                       time  month  \\\n",
              "0      1  1421468497        2       22.0  2015-01-16 20:21:37-08:00      1   \n",
              "1      1  1421467579       15       22.0  2015-01-16 20:06:19-08:00      1   \n",
              "2      1  1421266957        2      858.0  2015-01-14 12:22:37-08:00      1   \n",
              "3      1  1421261298        2    14335.0  2015-01-14 10:48:18-08:00      1   \n",
              "4      1  1421316031        7     1143.0  2015-01-15 02:00:31-08:00      1   \n",
              "\n",
              "   day  hour  \n",
              "0   16    20  \n",
              "1   16    20  \n",
              "2   14    12  \n",
              "3   14    10  \n",
              "4   15     2  "
            ],
            "text/html": [
              "<div>\n",
              "<style scoped>\n",
              "    .dataframe tbody tr th:only-of-type {\n",
              "        vertical-align: middle;\n",
              "    }\n",
              "\n",
              "    .dataframe tbody tr th {\n",
              "        vertical-align: top;\n",
              "    }\n",
              "\n",
              "    .dataframe thead th {\n",
              "        text-align: right;\n",
              "    }\n",
              "</style>\n",
              "<table border=\"1\" class=\"dataframe\">\n",
              "  <thead>\n",
              "    <tr style=\"text-align: right;\">\n",
              "      <th></th>\n",
              "      <th>tweet</th>\n",
              "      <th>timestamp</th>\n",
              "      <th>retweet</th>\n",
              "      <th>followers</th>\n",
              "      <th>time</th>\n",
              "      <th>month</th>\n",
              "      <th>day</th>\n",
              "      <th>hour</th>\n",
              "    </tr>\n",
              "  </thead>\n",
              "  <tbody>\n",
              "    <tr>\n",
              "      <th>0</th>\n",
              "      <td>1</td>\n",
              "      <td>1421468497</td>\n",
              "      <td>2</td>\n",
              "      <td>22.0</td>\n",
              "      <td>2015-01-16 20:21:37-08:00</td>\n",
              "      <td>1</td>\n",
              "      <td>16</td>\n",
              "      <td>20</td>\n",
              "    </tr>\n",
              "    <tr>\n",
              "      <th>1</th>\n",
              "      <td>1</td>\n",
              "      <td>1421467579</td>\n",
              "      <td>15</td>\n",
              "      <td>22.0</td>\n",
              "      <td>2015-01-16 20:06:19-08:00</td>\n",
              "      <td>1</td>\n",
              "      <td>16</td>\n",
              "      <td>20</td>\n",
              "    </tr>\n",
              "    <tr>\n",
              "      <th>2</th>\n",
              "      <td>1</td>\n",
              "      <td>1421266957</td>\n",
              "      <td>2</td>\n",
              "      <td>858.0</td>\n",
              "      <td>2015-01-14 12:22:37-08:00</td>\n",
              "      <td>1</td>\n",
              "      <td>14</td>\n",
              "      <td>12</td>\n",
              "    </tr>\n",
              "    <tr>\n",
              "      <th>3</th>\n",
              "      <td>1</td>\n",
              "      <td>1421261298</td>\n",
              "      <td>2</td>\n",
              "      <td>14335.0</td>\n",
              "      <td>2015-01-14 10:48:18-08:00</td>\n",
              "      <td>1</td>\n",
              "      <td>14</td>\n",
              "      <td>10</td>\n",
              "    </tr>\n",
              "    <tr>\n",
              "      <th>4</th>\n",
              "      <td>1</td>\n",
              "      <td>1421316031</td>\n",
              "      <td>7</td>\n",
              "      <td>1143.0</td>\n",
              "      <td>2015-01-15 02:00:31-08:00</td>\n",
              "      <td>1</td>\n",
              "      <td>15</td>\n",
              "      <td>2</td>\n",
              "    </tr>\n",
              "  </tbody>\n",
              "</table>\n",
              "</div>"
            ]
          },
          "metadata": {
            "tags": []
          },
          "execution_count": 233
        }
      ]
    },
    {
      "cell_type": "code",
      "metadata": {
        "id": "sDc5gXEMXFka",
        "colab_type": "code",
        "colab": {}
      },
      "source": [
        "gohawks = pd.read_csv('./ECE219_tweet_data/extractedgohawks.csv')"
      ],
      "execution_count": 0,
      "outputs": []
    },
    {
      "cell_type": "code",
      "metadata": {
        "id": "4zKMq9guXpVf",
        "colab_type": "code",
        "colab": {}
      },
      "source": [
        "gopatriots = pd.read_csv('./ECE219_tweet_data/extractedgopatriots.csv')"
      ],
      "execution_count": 0,
      "outputs": []
    },
    {
      "cell_type": "code",
      "metadata": {
        "id": "glXy_smAXzOE",
        "colab_type": "code",
        "colab": {}
      },
      "source": [
        "nfl = pd.read_csv('./ECE219_tweet_data/extractednfl.csv')"
      ],
      "execution_count": 0,
      "outputs": []
    },
    {
      "cell_type": "code",
      "metadata": {
        "id": "BisjUdO1X2US",
        "colab_type": "code",
        "colab": {}
      },
      "source": [
        "patriots = pd.read_csv('./ECE219_tweet_data/extractedpatriots.csv')"
      ],
      "execution_count": 0,
      "outputs": []
    },
    {
      "cell_type": "code",
      "metadata": {
        "id": "gtrLuf58X6h2",
        "colab_type": "code",
        "colab": {}
      },
      "source": [
        "sb49 = pd.read_csv('./ECE219_tweet_data/extractedsb49.csv')"
      ],
      "execution_count": 0,
      "outputs": []
    },
    {
      "cell_type": "code",
      "metadata": {
        "id": "zcAr5ewwUVGZ",
        "colab_type": "code",
        "colab": {}
      },
      "source": [
        "#timestamp = a scalar real number which represents the number of seconds that \n",
        "#            have passed since the beginning of 00:00:00 UTC thurusday, 1 Jan 1970.\n",
        "def hashtag_stat(data):\n",
        "  tweet_hr = len(data['tweet'])/((max(data['timestamp']) - min(data['timestamp']))/3600)\n",
        "  follower_tweet = sum(data['followers']) / len(data['tweet'])\n",
        "  retweet_tweet = sum(data['retweet']) / len(data['tweet'])\n",
        "  print('Average number of tweets per hour:', round(tweet_hr, 2))\n",
        "  print('Average number of followers of users posint the tweets per tweet:', round(follower_tweet, 2))\n",
        "  print('Average number of retweets per tweet:', round(retweet_tweet, 2))"
      ],
      "execution_count": 0,
      "outputs": []
    },
    {
      "cell_type": "code",
      "metadata": {
        "id": "AoFzzDeXWn5t",
        "colab_type": "code",
        "outputId": "cae50a48-9b25-41bd-90b1-b58cc5617fc4",
        "colab": {
          "base_uri": "https://localhost:8080/",
          "height": 68
        }
      },
      "source": [
        "hashtag_stat(superbowl)"
      ],
      "execution_count": 0,
      "outputs": [
        {
          "output_type": "stream",
          "text": [
            "Average number of tweets per hour: 2072.12\n",
            "Average number of followers of users posint the tweets per tweet: 8814.97\n",
            "Average number of retweets per tweet: 2.39\n"
          ],
          "name": "stdout"
        }
      ]
    },
    {
      "cell_type": "code",
      "metadata": {
        "id": "pd4kqa9HXQEA",
        "colab_type": "code",
        "outputId": "a3e85f38-941c-4ede-92ee-0529fdc747e1",
        "colab": {
          "base_uri": "https://localhost:8080/",
          "height": 68
        }
      },
      "source": [
        "hashtag_stat(gohawks)"
      ],
      "execution_count": 0,
      "outputs": [
        {
          "output_type": "stream",
          "text": [
            "Average number of tweets per hour: 292.49\n",
            "Average number of followers of users posint the tweets per tweet: 2217.92\n",
            "Average number of retweets per tweet: 2.01\n"
          ],
          "name": "stdout"
        }
      ]
    },
    {
      "cell_type": "code",
      "metadata": {
        "id": "DRhuTZ4WXS3l",
        "colab_type": "code",
        "outputId": "9597de1e-11c6-4828-c72a-11d1105c4458",
        "colab": {
          "base_uri": "https://localhost:8080/",
          "height": 68
        }
      },
      "source": [
        "hashtag_stat(gopatriots)"
      ],
      "execution_count": 0,
      "outputs": [
        {
          "output_type": "stream",
          "text": [
            "Average number of tweets per hour: 40.95\n",
            "Average number of followers of users posint the tweets per tweet: 1427.25\n",
            "Average number of retweets per tweet: 1.41\n"
          ],
          "name": "stdout"
        }
      ]
    },
    {
      "cell_type": "code",
      "metadata": {
        "id": "wdkw75vRYC1a",
        "colab_type": "code",
        "outputId": "7f37b81a-a96f-4217-d609-5cbb4279ede7",
        "colab": {
          "base_uri": "https://localhost:8080/",
          "height": 68
        }
      },
      "source": [
        "hashtag_stat(nfl)"
      ],
      "execution_count": 0,
      "outputs": [
        {
          "output_type": "stream",
          "text": [
            "Average number of tweets per hour: 397.02\n",
            "Average number of followers of users posint the tweets per tweet: 4662.38\n",
            "Average number of retweets per tweet: 1.53\n"
          ],
          "name": "stdout"
        }
      ]
    },
    {
      "cell_type": "code",
      "metadata": {
        "id": "bKwtHlvKYFIq",
        "colab_type": "code",
        "outputId": "fe4543a2-9b71-47c8-f7e3-1ef50d3d5dc5",
        "colab": {
          "base_uri": "https://localhost:8080/",
          "height": 68
        }
      },
      "source": [
        "hashtag_stat(patriots)"
      ],
      "execution_count": 0,
      "outputs": [
        {
          "output_type": "stream",
          "text": [
            "Average number of tweets per hour: 750.89\n",
            "Average number of followers of users posint the tweets per tweet: 3280.46\n",
            "Average number of retweets per tweet: 1.79\n"
          ],
          "name": "stdout"
        }
      ]
    },
    {
      "cell_type": "code",
      "metadata": {
        "id": "miNKBQasYIyI",
        "colab_type": "code",
        "outputId": "dd5ff9b7-a613-4784-d101-54411e3cc65d",
        "colab": {
          "base_uri": "https://localhost:8080/",
          "height": 68
        }
      },
      "source": [
        "hashtag_stat(sb49)"
      ],
      "execution_count": 0,
      "outputs": [
        {
          "output_type": "stream",
          "text": [
            "Average number of tweets per hour: 1276.86\n",
            "Average number of followers of users posint the tweets per tweet: 10374.16\n",
            "Average number of retweets per tweet: 2.53\n"
          ],
          "name": "stdout"
        }
      ]
    },
    {
      "cell_type": "markdown",
      "metadata": {
        "id": "Twc7hBn5YE-U",
        "colab_type": "text"
      },
      "source": [
        "QUESTION 2: Plot “number of tweets in hour” over time for #SuperBowl and #NFL (a histogram with 1-hour bins). The tweets are stored in separate files for different hashtags and files are named as tweet_[#hashtag].txt."
      ]
    },
    {
      "cell_type": "code",
      "metadata": {
        "id": "mQT0EncspfHW",
        "colab_type": "code",
        "colab": {}
      },
      "source": [
        "import matplotlib.pyplot as plt"
      ],
      "execution_count": 0,
      "outputs": []
    },
    {
      "cell_type": "code",
      "metadata": {
        "id": "FCepudwjYS0M",
        "colab_type": "code",
        "outputId": "0525a45f-cee6-46e2-a48c-ae60030f8992",
        "colab": {
          "base_uri": "https://localhost:8080/",
          "height": 567
        }
      },
      "source": [
        "tweet_hr = np.zeros(int((max(superbowl['timestamp'])-min(superbowl['timestamp']))/3600+1))\n",
        "start_time = min(superbowl['timestamp'])\n",
        "\n",
        "for t in superbowl['timestamp']:\n",
        "  tweet_hr[int((t - start_time)/3600)] = tweet_hr[int((t - start_time)/3600)] + 1\n",
        "\n",
        "plt.figure(figsize = (12, 9))\n",
        "plt.bar(range(0, len(tweet_hr)), tweet_hr)\n",
        "plt.xlabel('Time (hours)')\n",
        "plt.ylabel('Number of Tweets')\n",
        "plt.title('Number of Tweets in Hour (#Superbowl)')\n",
        "plt.show()"
      ],
      "execution_count": 0,
      "outputs": [
        {
          "output_type": "display_data",
          "data": {
            "text/plain": [
              "<Figure size 864x648 with 1 Axes>"
            ],
            "image/png": "[encoded data removed]"
          },
          "metadata": {
            "tags": []
          }
        }
      ]
    },
    {
      "cell_type": "code",
      "metadata": {
        "id": "k_mYkDriquXp",
        "colab_type": "code",
        "outputId": "0ef963cd-8756-4a7e-e424-0e18f8c928f8",
        "colab": {
          "base_uri": "https://localhost:8080/",
          "height": 567
        }
      },
      "source": [
        "tweet_hr = np.zeros(int((max(nfl['timestamp'])-min(nfl['timestamp']))/3600+1))\n",
        "start_time = min(nfl['timestamp'])\n",
        "\n",
        "for t in nfl['timestamp']:\n",
        "  tweet_hr[int((t - start_time)/3600)] = tweet_hr[int((t - start_time)/3600)] + 1\n",
        "\n",
        "plt.figure(figsize = (12, 9))\n",
        "plt.bar(range(0, len(tweet_hr)), tweet_hr)\n",
        "plt.xlabel('Time (hours)')\n",
        "plt.ylabel('Number of Tweets')\n",
        "plt.title('Number of Tweets in Hour (#NFL)')\n",
        "plt.show()"
      ],
      "execution_count": 0,
      "outputs": [
        {
          "output_type": "display_data",
          "data": {
            "text/plain": [
              "<Figure size 864x648 with 1 Axes>"
            ],
            "image/png": "[encoded data removed]"
          },
          "metadata": {
            "tags": []
          }
        }
      ]
    },
    {
      "cell_type": "markdown",
      "metadata": {
        "id": "txe2-2d4ZQMY",
        "colab_type": "text"
      },
      "source": [
        "### 2. Linear regression"
      ]
    },
    {
      "cell_type": "markdown",
      "metadata": {
        "id": "9QKRkjzerQYx",
        "colab_type": "text"
      },
      "source": [
        "Create time windows from the data to extract features. Here, use 1-hour time window (00:00 - 01:00 am, 01:00 - 02:00 am, etc.) and calculate the features in each time window, resulting in\n",
        "<# of hours> data points.\n",
        "For each hashtag data  file,  fit a linear regression model using the following 5 features to predict number of tweets in the next hour, with features extracted from tweet data in the previous hour.\n",
        "The features you should use are:\n",
        "\n",
        "*  Number of tweets\n",
        "*  Total number of retweets\n",
        "*  Sum of the number of followers of the users posting the hashtag\n",
        "*  Maximum number of followers of the users posting the hashtag\n",
        "*  Time of the day (which could take 24 values that represent hours of the day with respect to a given time zone)  \n",
        "\n",
        "For each hashtag, you should train a separate model."
      ]
    },
    {
      "cell_type": "code",
      "metadata": {
        "id": "g4rGfsRUTv9S",
        "colab_type": "code",
        "outputId": "a729075a-9e3a-4bfb-e013-5bfe89493a1c",
        "colab": {
          "base_uri": "https://localhost:8080/",
          "height": 190
        }
      },
      "source": [
        "!pip install statsmodels"
      ],
      "execution_count": 0,
      "outputs": [
        {
          "output_type": "stream",
          "text": [
            "Requirement already satisfied: statsmodels in /Library/Frameworks/Python.framework/Versions/3.6/lib/python3.6/site-packages (0.9.0)\r\n",
            "Requirement already satisfied: pandas in /Library/Frameworks/Python.framework/Versions/3.6/lib/python3.6/site-packages (from statsmodels) (0.23.4)\r\n",
            "Requirement already satisfied: patsy in /Library/Frameworks/Python.framework/Versions/3.6/lib/python3.6/site-packages (from statsmodels) (0.5.1)\r\n",
            "Requirement already satisfied: pytz>=2011k in /Library/Frameworks/Python.framework/Versions/3.6/lib/python3.6/site-packages (from pandas->statsmodels) (2018.4)\r\n",
            "Requirement already satisfied: python-dateutil>=2.5.0 in /Library/Frameworks/Python.framework/Versions/3.6/lib/python3.6/site-packages (from pandas->statsmodels) (2.7.3)\r\n",
            "Requirement already satisfied: numpy>=1.9.0 in /Library/Frameworks/Python.framework/Versions/3.6/lib/python3.6/site-packages (from pandas->statsmodels) (1.14.3)\r\n",
            "Requirement already satisfied: six in /Library/Frameworks/Python.framework/Versions/3.6/lib/python3.6/site-packages (from patsy->statsmodels) (1.11.0)\n",
            "\u001b[33mYou are using pip version 18.1, however version 19.0.3 is available.\n",
            "You should consider upgrading via the 'pip install --upgrade pip' command.\u001b[0m\n"
          ],
          "name": "stdout"
        }
      ]
    },
    {
      "cell_type": "code",
      "metadata": {
        "id": "E9Ie_jhBMhxU",
        "colab_type": "code",
        "colab": {}
      },
      "source": [
        "import statsmodels.api as sm\n",
        "from scipy import stats"
      ],
      "execution_count": 0,
      "outputs": []
    },
    {
      "cell_type": "code",
      "metadata": {
        "id": "UazcNw4rwdRU",
        "colab_type": "code",
        "colab": {}
      },
      "source": [
        ""
      ],
      "execution_count": 0,
      "outputs": []
    },
    {
      "cell_type": "code",
      "metadata": {
        "id": "xpUkWfNAwiPY",
        "colab_type": "code",
        "colab": {}
      },
      "source": [
        ""
      ],
      "execution_count": 0,
      "outputs": []
    },
    {
      "cell_type": "code",
      "metadata": {
        "id": "XXA0ALClS8X0",
        "colab_type": "code",
        "colab": {}
      },
      "source": [
        "def ols_tweets(data):\n",
        "  df = data.groupby(by=['month', 'day', 'hour']).agg({'tweet': np.sum, \n",
        "                                                      'retweet': np.sum,\n",
        "                                                      'followers':{\n",
        "                                                          'sum_followers': np.sum,\n",
        "                                                          'max_followers': max}\n",
        "                                                     })\n",
        "  df = df.reset_index(level=2)\n",
        "  y = df.values[1:,1]\n",
        "  X = df.values[:-1,:]\n",
        "  X = sm.add_constant(X)\n",
        "  results = sm.OLS(y, X).fit()\n",
        "  print('==============================================================================')\n",
        "  print(results.summary())\n",
        "  print('MSE = ',results.mse_model)\n",
        "  "
      ],
      "execution_count": 0,
      "outputs": []
    },
    {
      "cell_type": "markdown",
      "metadata": {
        "id": "ARoTkNA7ZRWX",
        "colab_type": "text"
      },
      "source": [
        "QUESTION 3: For each of your models, report your model’s Mean Squared Error (MSE) and R-squared measure. Also, analyse the significance of each feature using the t-test and p-value. You may use the OLS in the libarary statsmodels in Python."
      ]
    },
    {
      "cell_type": "code",
      "metadata": {
        "id": "_3cltgfDTjJu",
        "colab_type": "code",
        "outputId": "a8e99480-f670-4f9e-f5ae-c4bbcdc336ab",
        "colab": {
          "base_uri": "https://localhost:8080/",
          "height": 632
        }
      },
      "source": [
        "ols_tweets(superbowl)"
      ],
      "execution_count": 0,
      "outputs": [
        {
          "output_type": "stream",
          "text": [
            "/Library/Frameworks/Python.framework/Versions/3.6/lib/python3.6/site-packages/pandas/core/groupby/groupby.py:4656: FutureWarning: using a dict with renaming is deprecated and will be removed in a future version\n",
            "  return super(DataFrameGroupBy, self).aggregate(arg, *args, **kwargs)\n"
          ],
          "name": "stderr"
        },
        {
          "output_type": "stream",
          "text": [
            "==============================================================================\n",
            "                            OLS Regression Results                            \n",
            "==============================================================================\n",
            "Dep. Variable:                      y   R-squared:                       0.800\n",
            "Model:                            OLS   Adj. R-squared:                  0.798\n",
            "Method:                 Least Squares   F-statistic:                     463.5\n",
            "Date:                Tue, 19 Mar 2019   Prob (F-statistic):          6.72e-200\n",
            "Time:                        14:01:51   Log-Likelihood:                -6039.9\n",
            "No. Observations:                 586   AIC:                         1.209e+04\n",
            "Df Residuals:                     580   BIC:                         1.212e+04\n",
            "Df Model:                           5                                         \n",
            "Covariance Type:            nonrobust                                         \n",
            "==============================================================================\n",
            "                 coef    std err          t      P>|t|      [0.025      0.975]\n",
            "------------------------------------------------------------------------------\n",
            "const       -149.5572    605.382     -0.247      0.805   -1338.565    1039.451\n",
            "x1           -20.4965     43.624     -0.470      0.639    -106.177      65.184\n",
            "x2             2.2766      0.080     28.537      0.000       2.120       2.433\n",
            "x3            -0.2543      0.046     -5.544      0.000      -0.344      -0.164\n",
            "x4            -0.0001    2.2e-05     -6.265      0.000      -0.000   -9.47e-05\n",
            "x5             0.0007      0.000      4.889      0.000       0.000       0.001\n",
            "==============================================================================\n",
            "Omnibus:                      973.862   Durbin-Watson:                   2.283\n",
            "Prob(Omnibus):                  0.000   Jarque-Bera (JB):          1787388.254\n",
            "Skew:                           9.272   Prob(JB):                         0.00\n",
            "Kurtosis:                     272.925   Cond. No.                     2.21e+08\n",
            "==============================================================================\n",
            "\n",
            "Warnings:\n",
            "[1] Standard Errors assume that the covariance matrix of the errors is correctly specified.\n",
            "[2] The condition number is large, 2.21e+08. This might indicate that there are\n",
            "strong multicollinearity or other numerical problems.\n",
            "MSE =  24579710705.824547\n"
          ],
          "name": "stdout"
        }
      ]
    },
    {
      "cell_type": "code",
      "metadata": {
        "id": "w8cU2KQ5rMIj",
        "colab_type": "code",
        "outputId": "052d5ac6-e2b1-463d-eefc-5ce68b0a4d5b",
        "colab": {
          "base_uri": "https://localhost:8080/",
          "height": 632
        }
      },
      "source": [
        "ols_tweets(gohawks)"
      ],
      "execution_count": 0,
      "outputs": [
        {
          "output_type": "stream",
          "text": [
            "==============================================================================\n",
            "                            OLS Regression Results                            \n",
            "==============================================================================\n",
            "Dep. Variable:                      y   R-squared:                       0.476\n",
            "Model:                            OLS   Adj. R-squared:                  0.471\n",
            "Method:                 Least Squares   F-statistic:                     102.3\n",
            "Date:                Tue, 19 Mar 2019   Prob (F-statistic):           1.10e-76\n",
            "Time:                        14:01:54   Log-Likelihood:                -4663.7\n",
            "No. Observations:                 569   AIC:                             9339.\n",
            "Df Residuals:                     563   BIC:                             9365.\n",
            "Df Model:                           5                                         \n",
            "Covariance Type:            nonrobust                                         \n",
            "==============================================================================\n",
            "                 coef    std err          t      P>|t|      [0.025      0.975]\n",
            "------------------------------------------------------------------------------\n",
            "const         99.5479     72.676      1.370      0.171     -43.202     242.298\n",
            "x1             1.3860      5.451      0.254      0.799      -9.321      12.093\n",
            "x2             1.2823      0.165      7.767      0.000       0.958       1.607\n",
            "x3            -0.1364      0.044     -3.113      0.002      -0.222      -0.050\n",
            "x4            -0.0002   8.06e-05     -2.407      0.016      -0.000   -3.57e-05\n",
            "x5          6.044e-05      0.000      0.402      0.687      -0.000       0.000\n",
            "==============================================================================\n",
            "Omnibus:                      899.587   Durbin-Watson:                   2.216\n",
            "Prob(Omnibus):                  0.000   Jarque-Bera (JB):           747082.685\n",
            "Skew:                           8.625   Prob(JB):                         0.00\n",
            "Kurtosis:                     179.674   Cond. No.                     5.24e+06\n",
            "==============================================================================\n",
            "\n",
            "Warnings:\n",
            "[1] Standard Errors assume that the covariance matrix of the errors is correctly specified.\n",
            "[2] The condition number is large, 5.24e+06. This might indicate that there are\n",
            "strong multicollinearity or other numerical problems.\n",
            "MSE =  79669859.83590713\n"
          ],
          "name": "stdout"
        },
        {
          "output_type": "stream",
          "text": [
            "/Library/Frameworks/Python.framework/Versions/3.6/lib/python3.6/site-packages/pandas/core/groupby/groupby.py:4656: FutureWarning: using a dict with renaming is deprecated and will be removed in a future version\n",
            "  return super(DataFrameGroupBy, self).aggregate(arg, *args, **kwargs)\n"
          ],
          "name": "stderr"
        }
      ]
    },
    {
      "cell_type": "code",
      "metadata": {
        "id": "K7gv9zZwMczn",
        "colab_type": "code",
        "outputId": "0096fd8e-45c7-464d-8bca-abe46f69a06d",
        "colab": {
          "base_uri": "https://localhost:8080/",
          "height": 632
        }
      },
      "source": [
        "ols_tweets(gopatriots)"
      ],
      "execution_count": 0,
      "outputs": [
        {
          "output_type": "stream",
          "text": [
            "==============================================================================\n",
            "                            OLS Regression Results                            \n",
            "==============================================================================\n",
            "Dep. Variable:                      y   R-squared:                       0.627\n",
            "Model:                            OLS   Adj. R-squared:                  0.623\n",
            "Method:                 Least Squares   F-statistic:                     145.9\n",
            "Date:                Tue, 19 Mar 2019   Prob (F-statistic):           1.37e-90\n",
            "Time:                        14:01:57   Log-Likelihood:                -2932.2\n",
            "No. Observations:                 440   AIC:                             5876.\n",
            "Df Residuals:                     434   BIC:                             5901.\n",
            "Df Model:                           5                                         \n",
            "Covariance Type:            nonrobust                                         \n",
            "==============================================================================\n",
            "                 coef    std err          t      P>|t|      [0.025      0.975]\n",
            "------------------------------------------------------------------------------\n",
            "const         13.2200     18.907      0.699      0.485     -23.941      50.381\n",
            "x1            -0.3349      1.413     -0.237      0.813      -3.112       2.442\n",
            "x2             0.3055      0.326      0.938      0.349      -0.334       0.945\n",
            "x3             0.4868      0.219      2.219      0.027       0.056       0.918\n",
            "x4            -0.0001      0.000     -0.421      0.674      -0.001       0.000\n",
            "x5         -2.911e-05      0.000     -0.116      0.908      -0.001       0.000\n",
            "==============================================================================\n",
            "Omnibus:                      346.644   Durbin-Watson:                   1.909\n",
            "Prob(Omnibus):                  0.000   Jarque-Bera (JB):           128866.477\n",
            "Skew:                           2.205   Prob(JB):                         0.00\n",
            "Kurtosis:                      86.724   Cond. No.                     9.12e+05\n",
            "==============================================================================\n",
            "\n",
            "Warnings:\n",
            "[1] Standard Errors assume that the covariance matrix of the errors is correctly specified.\n",
            "[2] The condition number is large, 9.12e+05. This might indicate that there are\n",
            "strong multicollinearity or other numerical problems.\n",
            "MSE =  5320955.630294414\n"
          ],
          "name": "stdout"
        },
        {
          "output_type": "stream",
          "text": [
            "/Library/Frameworks/Python.framework/Versions/3.6/lib/python3.6/site-packages/pandas/core/groupby/groupby.py:4656: FutureWarning: using a dict with renaming is deprecated and will be removed in a future version\n",
            "  return super(DataFrameGroupBy, self).aggregate(arg, *args, **kwargs)\n"
          ],
          "name": "stderr"
        }
      ]
    },
    {
      "cell_type": "code",
      "metadata": {
        "id": "KQoPEUTWQpOx",
        "colab_type": "code",
        "outputId": "0ae5946c-67a5-4fbb-8c87-fa1d578470a1",
        "colab": {
          "base_uri": "https://localhost:8080/",
          "height": 632
        }
      },
      "source": [
        "ols_tweets(nfl)"
      ],
      "execution_count": 0,
      "outputs": [
        {
          "output_type": "stream",
          "text": [
            "==============================================================================\n",
            "                            OLS Regression Results                            \n",
            "==============================================================================\n",
            "Dep. Variable:                      y   R-squared:                       0.570\n",
            "Model:                            OLS   Adj. R-squared:                  0.567\n",
            "Method:                 Least Squares   F-statistic:                     152.9\n",
            "Date:                Tue, 19 Mar 2019   Prob (F-statistic):          3.58e-103\n",
            "Time:                        14:01:59   Log-Likelihood:                -4467.0\n",
            "No. Observations:                 582   AIC:                             8946.\n",
            "Df Residuals:                     576   BIC:                             8972.\n",
            "Df Model:                           5                                         \n",
            "Covariance Type:            nonrobust                                         \n",
            "==============================================================================\n",
            "                 coef    std err          t      P>|t|      [0.025      0.975]\n",
            "------------------------------------------------------------------------------\n",
            "const        126.4288     43.356      2.916      0.004      41.273     211.585\n",
            "x1             0.2952      3.176      0.093      0.926      -5.942       6.533\n",
            "x2             0.5651      0.135      4.173      0.000       0.299       0.831\n",
            "x3            -0.1650      0.064     -2.578      0.010      -0.291      -0.039\n",
            "x4             0.0001   2.51e-05      4.573      0.000    6.54e-05       0.000\n",
            "x5            -0.0001   3.32e-05     -3.527      0.000      -0.000    -5.2e-05\n",
            "==============================================================================\n",
            "Omnibus:                      665.434   Durbin-Watson:                   2.373\n",
            "Prob(Omnibus):                  0.000   Jarque-Bera (JB):           343912.180\n",
            "Skew:                           4.594   Prob(JB):                         0.00\n",
            "Kurtosis:                     121.733   Cond. No.                     8.66e+06\n",
            "==============================================================================\n",
            "\n",
            "Warnings:\n",
            "[1] Standard Errors assume that the covariance matrix of the errors is correctly specified.\n",
            "[2] The condition number is large, 8.66e+06. This might indicate that there are\n",
            "strong multicollinearity or other numerical problems.\n",
            "MSE =  41976324.96352415\n"
          ],
          "name": "stdout"
        },
        {
          "output_type": "stream",
          "text": [
            "/Library/Frameworks/Python.framework/Versions/3.6/lib/python3.6/site-packages/pandas/core/groupby/groupby.py:4656: FutureWarning: using a dict with renaming is deprecated and will be removed in a future version\n",
            "  return super(DataFrameGroupBy, self).aggregate(arg, *args, **kwargs)\n"
          ],
          "name": "stderr"
        }
      ]
    },
    {
      "cell_type": "code",
      "metadata": {
        "id": "cHyBrAChRJnL",
        "colab_type": "code",
        "outputId": "94c34319-b111-421f-a693-46877acfa421",
        "colab": {
          "base_uri": "https://localhost:8080/",
          "height": 632
        }
      },
      "source": [
        "ols_tweets(patriots)"
      ],
      "execution_count": 0,
      "outputs": [
        {
          "output_type": "stream",
          "text": [
            "/Library/Frameworks/Python.framework/Versions/3.6/lib/python3.6/site-packages/pandas/core/groupby/groupby.py:4656: FutureWarning: using a dict with renaming is deprecated and will be removed in a future version\n",
            "  return super(DataFrameGroupBy, self).aggregate(arg, *args, **kwargs)\n"
          ],
          "name": "stderr"
        },
        {
          "output_type": "stream",
          "text": [
            "==============================================================================\n",
            "                            OLS Regression Results                            \n",
            "==============================================================================\n",
            "Dep. Variable:                      y   R-squared:                       0.668\n",
            "Model:                            OLS   Adj. R-squared:                  0.666\n",
            "Method:                 Least Squares   F-statistic:                     233.8\n",
            "Date:                Tue, 19 Mar 2019   Prob (F-statistic):          1.91e-136\n",
            "Time:                        14:02:02   Log-Likelihood:                -5361.4\n",
            "No. Observations:                 586   AIC:                         1.073e+04\n",
            "Df Residuals:                     580   BIC:                         1.076e+04\n",
            "Df Model:                           5                                         \n",
            "Covariance Type:            nonrobust                                         \n",
            "==============================================================================\n",
            "                 coef    std err          t      P>|t|      [0.025      0.975]\n",
            "------------------------------------------------------------------------------\n",
            "const        180.1751    183.925      0.980      0.328    -181.066     541.416\n",
            "x1            -5.8597     13.765     -0.426      0.670     -32.896      21.176\n",
            "x2             0.9145      0.071     12.937      0.000       0.776       1.053\n",
            "x3            -0.0681      0.058     -1.178      0.239      -0.181       0.045\n",
            "x4         -1.098e-05   2.63e-05     -0.417      0.677   -6.27e-05    4.07e-05\n",
            "x5             0.0001   9.17e-05      1.340      0.181   -5.72e-05       0.000\n",
            "==============================================================================\n",
            "Omnibus:                      887.682   Durbin-Watson:                   1.998\n",
            "Prob(Omnibus):                  0.000   Jarque-Bera (JB):           690539.222\n",
            "Skew:                           7.937   Prob(JB):                         0.00\n",
            "Kurtosis:                     170.420   Cond. No.                     1.60e+07\n",
            "==============================================================================\n",
            "\n",
            "Warnings:\n",
            "[1] Standard Errors assume that the covariance matrix of the errors is correctly specified.\n",
            "[2] The condition number is large, 1.6e+07. This might indicate that there are\n",
            "strong multicollinearity or other numerical problems.\n",
            "MSE =  1224056732.6249557\n"
          ],
          "name": "stdout"
        }
      ]
    },
    {
      "cell_type": "code",
      "metadata": {
        "id": "i-rkJ7PNUWYE",
        "colab_type": "code",
        "outputId": "f2c19dd7-d825-4310-965c-9aad0b4622eb",
        "colab": {
          "base_uri": "https://localhost:8080/",
          "height": 632
        }
      },
      "source": [
        "ols_tweets(sb49)"
      ],
      "execution_count": 0,
      "outputs": [
        {
          "output_type": "stream",
          "text": [
            "/Library/Frameworks/Python.framework/Versions/3.6/lib/python3.6/site-packages/pandas/core/groupby/groupby.py:4656: FutureWarning: using a dict with renaming is deprecated and will be removed in a future version\n",
            "  return super(DataFrameGroupBy, self).aggregate(arg, *args, **kwargs)\n"
          ],
          "name": "stderr"
        },
        {
          "output_type": "stream",
          "text": [
            "==============================================================================\n",
            "                            OLS Regression Results                            \n",
            "==============================================================================\n",
            "Dep. Variable:                      y   R-squared:                       0.804\n",
            "Model:                            OLS   Adj. R-squared:                  0.802\n",
            "Method:                 Least Squares   F-statistic:                     435.6\n",
            "Date:                Tue, 19 Mar 2019   Prob (F-statistic):          4.54e-185\n",
            "Time:                        14:02:04   Log-Likelihood:                -5231.3\n",
            "No. Observations:                 536   AIC:                         1.047e+04\n",
            "Df Residuals:                     530   BIC:                         1.050e+04\n",
            "Df Model:                           5                                         \n",
            "Covariance Type:            nonrobust                                         \n",
            "==============================================================================\n",
            "                 coef    std err          t      P>|t|      [0.025      0.975]\n",
            "------------------------------------------------------------------------------\n",
            "const        235.2366    365.931      0.643      0.521    -483.616     954.089\n",
            "x1           -17.9341     26.914     -0.666      0.505     -70.805      34.937\n",
            "x2             1.1361      0.091     12.485      0.000       0.957       1.315\n",
            "x3            -0.1602      0.082     -1.953      0.051      -0.321       0.001\n",
            "x4          9.695e-06    1.3e-05      0.743      0.458   -1.59e-05    3.53e-05\n",
            "x5          9.417e-05   4.58e-05      2.055      0.040    4.16e-06       0.000\n",
            "==============================================================================\n",
            "Omnibus:                     1070.760   Durbin-Watson:                   1.674\n",
            "Prob(Omnibus):                  0.000   Jarque-Bera (JB):          1720660.261\n",
            "Skew:                          13.993   Prob(JB):                         0.00\n",
            "Kurtosis:                     279.154   Cond. No.                     1.67e+08\n",
            "==============================================================================\n",
            "\n",
            "Warnings:\n",
            "[1] Standard Errors assume that the covariance matrix of the errors is correctly specified.\n",
            "[2] The condition number is large, 1.67e+08. This might indicate that there are\n",
            "strong multicollinearity or other numerical problems.\n",
            "MSE =  7742522928.1265335\n"
          ],
          "name": "stdout"
        }
      ]
    },
    {
      "cell_type": "markdown",
      "metadata": {
        "id": "b4EcVXj9ZW9w",
        "colab_type": "text"
      },
      "source": [
        "### Feature analysis"
      ]
    },
    {
      "cell_type": "code",
      "metadata": {
        "id": "xn4Z8q-UxCeL",
        "colab_type": "code",
        "colab": {}
      },
      "source": [
        ""
      ],
      "execution_count": 0,
      "outputs": []
    },
    {
      "cell_type": "code",
      "metadata": {
        "id": "3h5t45ilUY49",
        "colab_type": "code",
        "colab": {}
      },
      "source": [
        "def get_file_new_feature(file_path):\n",
        "  timestamp = []\n",
        "  tweet = []\n",
        "  retweet = []\n",
        "  followers = []\n",
        "  time = []\n",
        "  month = []\n",
        "  day = []\n",
        "  hour = []\n",
        "  location = []\n",
        "  favorited = []\n",
        "  followers_count = []\n",
        "  listed_count = []\n",
        "  statuses_count = []\n",
        "  hashtag_count = []\n",
        "  rank_score = []\n",
        "  pst_tz = pytz.timezone('America/Los_Angeles')\n",
        "\n",
        "  with open(file_path, 'r') as json_file:  \n",
        "    for line in json_file:\n",
        "      data = json.loads(line)\n",
        "      timestamp.append(data['citation_date'])\n",
        "      tweet.append(1)\n",
        "      retweet.append(data['metrics']['citations']['total'])\n",
        "      followers.append(data['author']['followers'])\n",
        "      time.append(datetime.datetime.fromtimestamp(data['citation_date'], pst_tz))\n",
        "      month.append(datetime.datetime.fromtimestamp(data['citation_date'], pst_tz).month)\n",
        "      day.append(datetime.datetime.fromtimestamp(data['citation_date'], pst_tz).day)\n",
        "      hour.append(datetime.datetime.fromtimestamp(data['citation_date'], pst_tz).hour)\n",
        "      location.append(data['tweet']['user']['location'])\n",
        "      favorited.append(data['tweet']['favorited'])\n",
        "      followers_count.append(data['tweet']['user']['followers_count'])\n",
        "      listed_count.append(data['tweet']['user']['listed_count'])\n",
        "      statuses_count.append(data['tweet']['user']['statuses_count'])\n",
        "      hashtag_count.append(data['title'].count('#'))\n",
        "      rank_score.append(data['metrics']['ranking_score'])\n",
        "    df = pd.DataFrame({\n",
        "        'tweet': tweet,\n",
        "        'timestamp': timestamp,\n",
        "        'retweet': retweet,\n",
        "        'followers': followers,\n",
        "        'time': time,\n",
        "        'month': month,\n",
        "        'day': day,\n",
        "        'hour': hour,\n",
        "        'location': location,\n",
        "        'favorited': favorited,\n",
        "        'follwers_count': followers_count,\n",
        "        'listed_count': listed_count,\n",
        "        'statuses_count': statuses_count,\n",
        "        'hashtag_count': hashtag_count,\n",
        "        'rank_score': rank_score\n",
        "    }, columns = ['tweet', 'timestamp', 'retweet', 'followers', 'time', 'month', 'day', 'hour',\n",
        "                 'location','favorited','followers_count','listed_count', 'statuses_count', 'hashtag_count','rank_score'])\n",
        "    \n",
        "    df.to_csv('./ECE219_tweet_data/extractedfeature'+file_path[27:-4]+'.csv', index = False,encoding='utf-8')\n",
        "    "
      ],
      "execution_count": 0,
      "outputs": []
    },
    {
      "cell_type": "code",
      "metadata": {
        "id": "_BbEViIDo8rV",
        "colab_type": "code",
        "colab": {}
      },
      "source": [
        "get_file_new_feature('./ECE219_tweet_data/tweets_#gohawks.txt')"
      ],
      "execution_count": 0,
      "outputs": []
    },
    {
      "cell_type": "code",
      "metadata": {
        "id": "o3e5XCiJZj9e",
        "colab_type": "code",
        "colab": {}
      },
      "source": [
        "get_file_new_feature('./ECE219_tweet_data/tweets_#gopatriots.txt')"
      ],
      "execution_count": 0,
      "outputs": []
    },
    {
      "cell_type": "code",
      "metadata": {
        "id": "Jhz7YB5f74dY",
        "colab_type": "code",
        "colab": {}
      },
      "source": [
        "get_file_new_feature('./ECE219_tweet_data/tweets_#nfl.txt')"
      ],
      "execution_count": 0,
      "outputs": []
    },
    {
      "cell_type": "code",
      "metadata": {
        "id": "VXruXeMa77d1",
        "colab_type": "code",
        "colab": {}
      },
      "source": [
        "get_file_new_feature('./ECE219_tweet_data/tweets_#patriots.txt')"
      ],
      "execution_count": 0,
      "outputs": []
    },
    {
      "cell_type": "code",
      "metadata": {
        "id": "tNXh1Sjz79Ek",
        "colab_type": "code",
        "colab": {}
      },
      "source": [
        "get_file_new_feature('./ECE219_tweet_data/tweets_#sb49.txt')"
      ],
      "execution_count": 0,
      "outputs": []
    },
    {
      "cell_type": "code",
      "metadata": {
        "id": "R5F83cmk8-H0",
        "colab_type": "code",
        "colab": {}
      },
      "source": [
        "get_file_new_feature('./ECE219_tweet_data/tweets_#superbowl.txt')"
      ],
      "execution_count": 0,
      "outputs": []
    },
    {
      "cell_type": "code",
      "metadata": {
        "id": "vJGaxiJM8hSu",
        "colab_type": "code",
        "colab": {}
      },
      "source": [
        "gohawks1 = pd.read_csv('./ECE219_tweet_data/extractedfeature#gohawks.csv')\n",
        "gopatriots1 = pd.read_csv('./ECE219_tweet_data/extractedfeature#gopatriots.csv')\n",
        "nfl1 = pd.read_csv('./ECE219_tweet_data/extractedfeature#nfl.csv')\n",
        "patriots1 = pd.read_csv('./ECE219_tweet_data/extractedfeature#patriots.csv')\n",
        "sb491 = pd.read_csv('./ECE219_tweet_data/extractedfeature#sb49.csv')\n",
        "superbowl1 = pd.read_csv('./ECE219_tweet_data/extractedfeature#superbowl.csv')"
      ],
      "execution_count": 0,
      "outputs": []
    },
    {
      "cell_type": "code",
      "metadata": {
        "id": "XO7zdgEaCbsq",
        "colab_type": "code",
        "outputId": "001f429c-80c0-4f4a-e43b-7cbb295e7cb5",
        "colab": {
          "base_uri": "https://localhost:8080/",
          "height": 479
        }
      },
      "source": [
        "superbowl1.head()"
      ],
      "execution_count": 0,
      "outputs": [
        {
          "output_type": "execute_result",
          "data": {
            "text/plain": [
              "   tweet   timestamp  retweet  followers                       time  month  \\\n",
              "0      1  1421468497        2       22.0  2015-01-16 20:21:37-08:00      1   \n",
              "1      1  1421467579       15       22.0  2015-01-16 20:06:19-08:00      1   \n",
              "2      1  1421266957        2      858.0  2015-01-14 12:22:37-08:00      1   \n",
              "3      1  1421261298        2    14335.0  2015-01-14 10:48:18-08:00      1   \n",
              "4      1  1421316031        7     1143.0  2015-01-15 02:00:31-08:00      1   \n",
              "\n",
              "   day  hour    location  favorited  followers_count  listed_count  \\\n",
              "0   16    20         NaN      False              NaN          21.0   \n",
              "1   16    20  k-town Ak.      False              NaN           2.0   \n",
              "2   14    12      Brazil      False              NaN           2.0   \n",
              "3   14    10        Iowa      False              NaN           8.0   \n",
              "4   15     2     Cloud 9      False              NaN         103.0   \n",
              "\n",
              "   statuses_count  hashtag_count  rank_score  \n",
              "0           82505              8    3.229207  \n",
              "1             427              6    4.033474  \n",
              "2            5463              5    6.944451  \n",
              "3              60              4    6.660640  \n",
              "4            4598              2    3.856183  "
            ],
            "text/html": [
              "<div>\n",
              "<style scoped>\n",
              "    .dataframe tbody tr th:only-of-type {\n",
              "        vertical-align: middle;\n",
              "    }\n",
              "\n",
              "    .dataframe tbody tr th {\n",
              "        vertical-align: top;\n",
              "    }\n",
              "\n",
              "    .dataframe thead th {\n",
              "        text-align: right;\n",
              "    }\n",
              "</style>\n",
              "<table border=\"1\" class=\"dataframe\">\n",
              "  <thead>\n",
              "    <tr style=\"text-align: right;\">\n",
              "      <th></th>\n",
              "      <th>tweet</th>\n",
              "      <th>timestamp</th>\n",
              "      <th>retweet</th>\n",
              "      <th>followers</th>\n",
              "      <th>time</th>\n",
              "      <th>month</th>\n",
              "      <th>day</th>\n",
              "      <th>hour</th>\n",
              "      <th>location</th>\n",
              "      <th>favorited</th>\n",
              "      <th>followers_count</th>\n",
              "      <th>listed_count</th>\n",
              "      <th>statuses_count</th>\n",
              "      <th>hashtag_count</th>\n",
              "      <th>rank_score</th>\n",
              "    </tr>\n",
              "  </thead>\n",
              "  <tbody>\n",
              "    <tr>\n",
              "      <th>0</th>\n",
              "      <td>1</td>\n",
              "      <td>1421468497</td>\n",
              "      <td>2</td>\n",
              "      <td>22.0</td>\n",
              "      <td>2015-01-16 20:21:37-08:00</td>\n",
              "      <td>1</td>\n",
              "      <td>16</td>\n",
              "      <td>20</td>\n",
              "      <td>NaN</td>\n",
              "      <td>False</td>\n",
              "      <td>NaN</td>\n",
              "      <td>21.0</td>\n",
              "      <td>82505</td>\n",
              "      <td>8</td>\n",
              "      <td>3.229207</td>\n",
              "    </tr>\n",
              "    <tr>\n",
              "      <th>1</th>\n",
              "      <td>1</td>\n",
              "      <td>1421467579</td>\n",
              "      <td>15</td>\n",
              "      <td>22.0</td>\n",
              "      <td>2015-01-16 20:06:19-08:00</td>\n",
              "      <td>1</td>\n",
              "      <td>16</td>\n",
              "      <td>20</td>\n",
              "      <td>k-town Ak.</td>\n",
              "      <td>False</td>\n",
              "      <td>NaN</td>\n",
              "      <td>2.0</td>\n",
              "      <td>427</td>\n",
              "      <td>6</td>\n",
              "      <td>4.033474</td>\n",
              "    </tr>\n",
              "    <tr>\n",
              "      <th>2</th>\n",
              "      <td>1</td>\n",
              "      <td>1421266957</td>\n",
              "      <td>2</td>\n",
              "      <td>858.0</td>\n",
              "      <td>2015-01-14 12:22:37-08:00</td>\n",
              "      <td>1</td>\n",
              "      <td>14</td>\n",
              "      <td>12</td>\n",
              "      <td>Brazil</td>\n",
              "      <td>False</td>\n",
              "      <td>NaN</td>\n",
              "      <td>2.0</td>\n",
              "      <td>5463</td>\n",
              "      <td>5</td>\n",
              "      <td>6.944451</td>\n",
              "    </tr>\n",
              "    <tr>\n",
              "      <th>3</th>\n",
              "      <td>1</td>\n",
              "      <td>1421261298</td>\n",
              "      <td>2</td>\n",
              "      <td>14335.0</td>\n",
              "      <td>2015-01-14 10:48:18-08:00</td>\n",
              "      <td>1</td>\n",
              "      <td>14</td>\n",
              "      <td>10</td>\n",
              "      <td>Iowa</td>\n",
              "      <td>False</td>\n",
              "      <td>NaN</td>\n",
              "      <td>8.0</td>\n",
              "      <td>60</td>\n",
              "      <td>4</td>\n",
              "      <td>6.660640</td>\n",
              "    </tr>\n",
              "    <tr>\n",
              "      <th>4</th>\n",
              "      <td>1</td>\n",
              "      <td>1421316031</td>\n",
              "      <td>7</td>\n",
              "      <td>1143.0</td>\n",
              "      <td>2015-01-15 02:00:31-08:00</td>\n",
              "      <td>1</td>\n",
              "      <td>15</td>\n",
              "      <td>2</td>\n",
              "      <td>Cloud 9</td>\n",
              "      <td>False</td>\n",
              "      <td>NaN</td>\n",
              "      <td>103.0</td>\n",
              "      <td>4598</td>\n",
              "      <td>2</td>\n",
              "      <td>3.856183</td>\n",
              "    </tr>\n",
              "  </tbody>\n",
              "</table>\n",
              "</div>"
            ]
          },
          "metadata": {
            "tags": []
          },
          "execution_count": 157
        }
      ]
    },
    {
      "cell_type": "code",
      "metadata": {
        "id": "d3F53qVh9_8I",
        "colab_type": "code",
        "colab": {}
      },
      "source": [
        "gohawks1['followers_count']=gohawks1['followers_count'].fillna(0)\n",
        "gohawks1['listed_count']=gohawks1['listed_count'].fillna(0)\n",
        "gohawks1['statuses_count']=gohawks1['statuses_count'].fillna(0)"
      ],
      "execution_count": 0,
      "outputs": []
    },
    {
      "cell_type": "code",
      "metadata": {
        "id": "fdt89qCi-XGS",
        "colab_type": "code",
        "colab": {}
      },
      "source": [
        "gopatriots1['followers_count']=gopatriots1['followers_count'].fillna(0)\n",
        "gopatriots1['listed_count']=gopatriots1['listed_count'].fillna(0)\n",
        "gopatriots1['statuses_count']=gopatriots1['statuses_count'].fillna(0)"
      ],
      "execution_count": 0,
      "outputs": []
    },
    {
      "cell_type": "code",
      "metadata": {
        "id": "NIo6PCp9_zEC",
        "colab_type": "code",
        "colab": {}
      },
      "source": [
        "nfl1['followers_count']=nfl1['followers_count'].fillna(0)\n",
        "nfl1['listed_count']=nfl1['listed_count'].fillna(0)\n",
        "nfl1['statuses_count']=nfl1['statuses_count'].fillna(0)"
      ],
      "execution_count": 0,
      "outputs": []
    },
    {
      "cell_type": "code",
      "metadata": {
        "id": "8IFV_xkd_2RO",
        "colab_type": "code",
        "colab": {}
      },
      "source": [
        "patriots1['followers_count']=patriots1['followers_count'].fillna(0)\n",
        "patriots1['listed_count']=patriots1['listed_count'].fillna(0)\n",
        "patriots1['statuses_count']=patriots1['statuses_count'].fillna(0)"
      ],
      "execution_count": 0,
      "outputs": []
    },
    {
      "cell_type": "code",
      "metadata": {
        "id": "2ozSPAPmBbkW",
        "colab_type": "code",
        "colab": {}
      },
      "source": [
        "sb491['followers_count']=sb491['followers_count'].fillna(0)\n",
        "sb491['listed_count']=sb491['listed_count'].fillna(0)\n",
        "sb491['statuses_count']=sb491['statuses_count'].fillna(0)"
      ],
      "execution_count": 0,
      "outputs": []
    },
    {
      "cell_type": "code",
      "metadata": {
        "id": "lK5PosgKBb0Z",
        "colab_type": "code",
        "colab": {}
      },
      "source": [
        "superbowl1['followers_count']=superbowl1['followers_count'].fillna(0)\n",
        "superbowl1['listed_count']=superbowl1['listed_count'].fillna(0)\n",
        "superbowl1['statuses_count']=superbowl1['statuses_count'].fillna(0)"
      ],
      "execution_count": 0,
      "outputs": []
    },
    {
      "cell_type": "code",
      "metadata": {
        "id": "UtWckRs_3OFy",
        "colab_type": "code",
        "colab": {}
      },
      "source": [
        "\n"
      ],
      "execution_count": 0,
      "outputs": []
    },
    {
      "cell_type": "code",
      "metadata": {
        "id": "yidljI-F3SU8",
        "colab_type": "code",
        "colab": {}
      },
      "source": [
        ""
      ],
      "execution_count": 0,
      "outputs": []
    },
    {
      "cell_type": "code",
      "metadata": {
        "id": "Vu3HQqsP3URL",
        "colab_type": "code",
        "colab": {}
      },
      "source": [
        ""
      ],
      "execution_count": 0,
      "outputs": []
    },
    {
      "cell_type": "markdown",
      "metadata": {
        "id": "HAEuqPGtZatj",
        "colab_type": "text"
      },
      "source": [
        "QUESTION 4: Design a regression model using any features from the papers you and or other new features you may  find useful for this problem. Fit your model on the data of each hashtag and report  fitting MSE and significance of features."
      ]
    },
    {
      "cell_type": "code",
      "metadata": {
        "id": "sQyb7Z_PCH44",
        "colab_type": "code",
        "colab": {}
      },
      "source": [
        "def df_features(data):\n",
        "  df = data.groupby(by=['month', 'day', 'hour']).agg({'tweet': np.sum, \n",
        "                                                      'retweet': np.sum,\n",
        "                                                      'followers':max,\n",
        "                                                      'listed_count':{\n",
        "                                                          'sum_listed_count': np.sum,\n",
        "                                                          'max_listed_count': max\n",
        "                                                      },\n",
        "                                                      'statuses_count':max,\n",
        "                                                      'hashtag_count': sum,\n",
        "                                                      'rank_score': max\n",
        "                                                     })\n",
        "  df = df.reset_index(level=2)\n",
        "  y = df.values[1:,1]\n",
        "  X = df.values[:-1,1:]\n",
        "  X = sm.add_constant(X)\n",
        "  #df_X = pd.concat([df['tweet'].iloc[1:].reset_index(drop=True), df.iloc[:-1].reset_index(drop=True)], axis=1)  #smf.ols(formula='Lottery ~ Literacy + Wealth + C(Region)', data=df).fit()\n",
        "  #df_X.columns = ['y', 'hour', 'tweet', 'retweet', 'sum_followers', 'max_followers', \n",
        "  #              'sum_listed_count', 'max_listed_count','sum_statuses_count', 'max_statuses_count']\n",
        "  #return df_X\n",
        "\n",
        "  results = sm.OLS(y, X).fit()\n",
        "  print('==============================================================================')\n",
        "  print(results.summary())\n",
        "  print('MSE = ',results.mse_model)"
      ],
      "execution_count": 0,
      "outputs": []
    },
    {
      "cell_type": "code",
      "metadata": {
        "id": "vS8m92RCJY2q",
        "colab_type": "code",
        "outputId": "6be67837-7d1b-4695-98b1-e7ec97ff40f1",
        "colab": {
          "base_uri": "https://localhost:8080/",
          "height": 683
        }
      },
      "source": [
        "df_features(superbowl1)"
      ],
      "execution_count": 0,
      "outputs": [
        {
          "output_type": "stream",
          "text": [
            "/Library/Frameworks/Python.framework/Versions/3.6/lib/python3.6/site-packages/pandas/core/groupby/groupby.py:4656: FutureWarning: using a dict with renaming is deprecated and will be removed in a future version\n",
            "  return super(DataFrameGroupBy, self).aggregate(arg, *args, **kwargs)\n"
          ],
          "name": "stderr"
        },
        {
          "output_type": "stream",
          "text": [
            "==============================================================================\n",
            "                            OLS Regression Results                            \n",
            "==============================================================================\n",
            "Dep. Variable:                      y   R-squared:                       0.844\n",
            "Model:                            OLS   Adj. R-squared:                  0.842\n",
            "Method:                 Least Squares   F-statistic:                     390.1\n",
            "Date:                Tue, 19 Mar 2019   Prob (F-statistic):          4.46e-227\n",
            "Time:                        16:29:44   Log-Likelihood:                -5966.9\n",
            "No. Observations:                 586   AIC:                         1.195e+04\n",
            "Df Residuals:                     577   BIC:                         1.199e+04\n",
            "Df Model:                           8                                         \n",
            "Covariance Type:            nonrobust                                         \n",
            "==============================================================================\n",
            "                 coef    std err          t      P>|t|      [0.025      0.975]\n",
            "------------------------------------------------------------------------------\n",
            "const       3802.7864   2628.994      1.446      0.149   -1360.779    8966.352\n",
            "x1            -3.0734      0.469     -6.558      0.000      -3.994      -2.153\n",
            "x2            -1.2712      0.076    -16.750      0.000      -1.420      -1.122\n",
            "x3            -0.0004      0.000     -2.674      0.008      -0.001      -0.000\n",
            "x4             0.0290      0.003     11.064      0.000       0.024       0.034\n",
            "x5            -0.0640      0.019     -3.303      0.001      -0.102      -0.026\n",
            "x6            -0.0032      0.001     -2.915      0.004      -0.005      -0.001\n",
            "x7             2.6568      0.243     10.954      0.000       2.180       3.133\n",
            "x8          -350.5528    342.571     -1.023      0.307   -1023.391     322.286\n",
            "==============================================================================\n",
            "Omnibus:                      840.300   Durbin-Watson:                   2.119\n",
            "Prob(Omnibus):                  0.000   Jarque-Bera (JB):           617883.006\n",
            "Skew:                           7.095   Prob(JB):                         0.00\n",
            "Kurtosis:                     161.444   Cond. No.                     4.06e+07\n",
            "==============================================================================\n",
            "\n",
            "Warnings:\n",
            "[1] Standard Errors assume that the covariance matrix of the errors is correctly specified.\n",
            "[2] The condition number is large, 4.06e+07. This might indicate that there are\n",
            "strong multicollinearity or other numerical problems.\n",
            "MSE =  16209488451.069672\n"
          ],
          "name": "stdout"
        }
      ]
    },
    {
      "cell_type": "code",
      "metadata": {
        "id": "81yJSmBMNVFp",
        "colab_type": "code",
        "outputId": "f0d6e6c3-6c64-4784-c792-d41df7d70e7b",
        "colab": {
          "base_uri": "https://localhost:8080/",
          "height": 683
        }
      },
      "source": [
        "df_features(gohawks1)"
      ],
      "execution_count": 0,
      "outputs": [
        {
          "output_type": "stream",
          "text": [
            "==============================================================================\n",
            "                            OLS Regression Results                            \n",
            "==============================================================================\n",
            "Dep. Variable:                      y   R-squared:                       0.580\n",
            "Model:                            OLS   Adj. R-squared:                  0.574\n",
            "Method:                 Least Squares   F-statistic:                     96.67\n",
            "Date:                Tue, 19 Mar 2019   Prob (F-statistic):          2.36e-100\n",
            "Time:                        16:29:56   Log-Likelihood:                -4600.8\n",
            "No. Observations:                 569   AIC:                             9220.\n",
            "Df Residuals:                     560   BIC:                             9259.\n",
            "Df Model:                           8                                         \n",
            "Covariance Type:            nonrobust                                         \n",
            "==============================================================================\n",
            "                 coef    std err          t      P>|t|      [0.025      0.975]\n",
            "------------------------------------------------------------------------------\n",
            "const       -354.2746    191.951     -1.846      0.065    -731.307      22.758\n",
            "x1            -1.9538      0.366     -5.342      0.000      -2.672      -1.235\n",
            "x2            -0.0988      0.041     -2.384      0.017      -0.180      -0.017\n",
            "x3            -0.0003      0.000     -2.986      0.003      -0.001      -0.000\n",
            "x4             0.0421      0.007      6.119      0.000       0.029       0.056\n",
            "x5            -0.0590      0.018     -3.325      0.001      -0.094      -0.024\n",
            "x6            -0.0007      0.000     -1.546      0.123      -0.002       0.000\n",
            "x7             0.8637      0.204      4.233      0.000       0.463       1.264\n",
            "x8            69.9009     29.347      2.382      0.018      12.258     127.544\n",
            "==============================================================================\n",
            "Omnibus:                     1138.924   Durbin-Watson:                   2.151\n",
            "Prob(Omnibus):                  0.000   Jarque-Bera (JB):          1802031.345\n",
            "Skew:                          14.214   Prob(JB):                         0.00\n",
            "Kurtosis:                     277.227   Cond. No.                     2.95e+06\n",
            "==============================================================================\n",
            "\n",
            "Warnings:\n",
            "[1] Standard Errors assume that the covariance matrix of the errors is correctly specified.\n",
            "[2] The condition number is large, 2.95e+06. This might indicate that there are\n",
            "strong multicollinearity or other numerical problems.\n",
            "MSE =  60661562.094714575\n"
          ],
          "name": "stdout"
        },
        {
          "output_type": "stream",
          "text": [
            "/Library/Frameworks/Python.framework/Versions/3.6/lib/python3.6/site-packages/pandas/core/groupby/groupby.py:4656: FutureWarning: using a dict with renaming is deprecated and will be removed in a future version\n",
            "  return super(DataFrameGroupBy, self).aggregate(arg, *args, **kwargs)\n"
          ],
          "name": "stderr"
        }
      ]
    },
    {
      "cell_type": "code",
      "metadata": {
        "id": "NrwvfMmwOgF7",
        "colab_type": "code",
        "outputId": "c982994b-0788-41ec-b5ea-b7248810e798",
        "colab": {
          "base_uri": "https://localhost:8080/",
          "height": 683
        }
      },
      "source": [
        "df_features(gopatriots1)"
      ],
      "execution_count": 0,
      "outputs": [
        {
          "output_type": "stream",
          "text": [
            "==============================================================================\n",
            "                            OLS Regression Results                            \n",
            "==============================================================================\n",
            "Dep. Variable:                      y   R-squared:                       0.746\n",
            "Model:                            OLS   Adj. R-squared:                  0.741\n",
            "Method:                 Least Squares   F-statistic:                     158.4\n",
            "Date:                Tue, 19 Mar 2019   Prob (F-statistic):          3.44e-123\n",
            "Time:                        16:30:01   Log-Likelihood:                -2847.6\n",
            "No. Observations:                 440   AIC:                             5713.\n",
            "Df Residuals:                     431   BIC:                             5750.\n",
            "Df Model:                           8                                         \n",
            "Covariance Type:            nonrobust                                         \n",
            "==============================================================================\n",
            "                 coef    std err          t      P>|t|      [0.025      0.975]\n",
            "------------------------------------------------------------------------------\n",
            "const        -25.5221     31.203     -0.818      0.414     -86.851      35.807\n",
            "x1            -6.7995      0.670    -10.153      0.000      -8.116      -5.483\n",
            "x2            -1.5331      0.269     -5.707      0.000      -2.061      -1.005\n",
            "x3         -3.248e-05   9.57e-05     -0.339      0.734      -0.000       0.000\n",
            "x4             0.1818      0.026      7.064      0.000       0.131       0.232\n",
            "x5            -0.1700      0.028     -5.966      0.000      -0.226      -0.114\n",
            "x6             0.0003      0.000      1.498      0.135   -8.58e-05       0.001\n",
            "x7             3.5536      0.311     11.437      0.000       2.943       4.164\n",
            "x8             4.7869      5.963      0.803      0.423      -6.933      16.506\n",
            "==============================================================================\n",
            "Omnibus:                      311.483   Durbin-Watson:                   2.002\n",
            "Prob(Omnibus):                  0.000   Jarque-Bera (JB):            60875.832\n",
            "Skew:                           1.968   Prob(JB):                         0.00\n",
            "Kurtosis:                      60.489   Cond. No.                     7.55e+05\n",
            "==============================================================================\n",
            "\n",
            "Warnings:\n",
            "[1] Standard Errors assume that the covariance matrix of the errors is correctly specified.\n",
            "[2] The condition number is large, 7.55e+05. This might indicate that there are\n",
            "strong multicollinearity or other numerical problems.\n",
            "MSE =  3957448.833982535\n"
          ],
          "name": "stdout"
        },
        {
          "output_type": "stream",
          "text": [
            "/Library/Frameworks/Python.framework/Versions/3.6/lib/python3.6/site-packages/pandas/core/groupby/groupby.py:4656: FutureWarning: using a dict with renaming is deprecated and will be removed in a future version\n",
            "  return super(DataFrameGroupBy, self).aggregate(arg, *args, **kwargs)\n"
          ],
          "name": "stderr"
        }
      ]
    },
    {
      "cell_type": "code",
      "metadata": {
        "id": "S-Ja8FzbJWGv",
        "colab_type": "code",
        "outputId": "9656de01-580d-4939-f092-537337d55081",
        "colab": {
          "base_uri": "https://localhost:8080/",
          "height": 683
        }
      },
      "source": [
        "df_features(nfl1)"
      ],
      "execution_count": 0,
      "outputs": [
        {
          "output_type": "stream",
          "text": [
            "==============================================================================\n",
            "                            OLS Regression Results                            \n",
            "==============================================================================\n",
            "Dep. Variable:                      y   R-squared:                       0.669\n",
            "Model:                            OLS   Adj. R-squared:                  0.664\n",
            "Method:                 Least Squares   F-statistic:                     144.6\n",
            "Date:                Tue, 19 Mar 2019   Prob (F-statistic):          4.27e-132\n",
            "Time:                        16:30:05   Log-Likelihood:                -4391.3\n",
            "No. Observations:                 582   AIC:                             8801.\n",
            "Df Residuals:                     573   BIC:                             8840.\n",
            "Df Model:                           8                                         \n",
            "Covariance Type:            nonrobust                                         \n",
            "==============================================================================\n",
            "                 coef    std err          t      P>|t|      [0.025      0.975]\n",
            "------------------------------------------------------------------------------\n",
            "const       -252.2840    249.122     -1.013      0.312    -741.587     237.019\n",
            "x1            -2.3974      0.275     -8.706      0.000      -2.938      -1.856\n",
            "x2            -0.3794      0.061     -6.203      0.000      -0.500      -0.259\n",
            "x3         -1.914e-05   2.32e-05     -0.824      0.410   -6.48e-05    2.65e-05\n",
            "x4             0.0173      0.002      8.437      0.000       0.013       0.021\n",
            "x5            -0.0175      0.005     -3.270      0.001      -0.028      -0.007\n",
            "x6             0.0002   7.67e-05      3.075      0.002    8.52e-05       0.000\n",
            "x7             0.9659      0.081     11.881      0.000       0.806       1.126\n",
            "x8            29.9814     33.401      0.898      0.370     -35.623      95.586\n",
            "==============================================================================\n",
            "Omnibus:                      684.914   Durbin-Watson:                   2.496\n",
            "Prob(Omnibus):                  0.000   Jarque-Bera (JB):           119780.059\n",
            "Skew:                           5.301   Prob(JB):                         0.00\n",
            "Kurtosis:                      72.476   Cond. No.                     1.85e+07\n",
            "==============================================================================\n",
            "\n",
            "Warnings:\n",
            "[1] Standard Errors assume that the covariance matrix of the errors is correctly specified.\n",
            "[2] The condition number is large, 1.85e+07. This might indicate that there are\n",
            "strong multicollinearity or other numerical problems.\n",
            "MSE =  30760615.20227333\n"
          ],
          "name": "stdout"
        },
        {
          "output_type": "stream",
          "text": [
            "/Library/Frameworks/Python.framework/Versions/3.6/lib/python3.6/site-packages/pandas/core/groupby/groupby.py:4656: FutureWarning: using a dict with renaming is deprecated and will be removed in a future version\n",
            "  return super(DataFrameGroupBy, self).aggregate(arg, *args, **kwargs)\n"
          ],
          "name": "stderr"
        }
      ]
    },
    {
      "cell_type": "code",
      "metadata": {
        "id": "E0wQBHeWJiEd",
        "colab_type": "code",
        "outputId": "44d50aa4-5073-4f50-ea3f-34e0ad0fe1b2",
        "colab": {
          "base_uri": "https://localhost:8080/",
          "height": 683
        }
      },
      "source": [
        "df_features(patriots1)"
      ],
      "execution_count": 0,
      "outputs": [
        {
          "output_type": "stream",
          "text": [
            "/Library/Frameworks/Python.framework/Versions/3.6/lib/python3.6/site-packages/pandas/core/groupby/groupby.py:4656: FutureWarning: using a dict with renaming is deprecated and will be removed in a future version\n",
            "  return super(DataFrameGroupBy, self).aggregate(arg, *args, **kwargs)\n"
          ],
          "name": "stderr"
        },
        {
          "output_type": "stream",
          "text": [
            "==============================================================================\n",
            "                            OLS Regression Results                            \n",
            "==============================================================================\n",
            "Dep. Variable:                      y   R-squared:                       0.704\n",
            "Model:                            OLS   Adj. R-squared:                  0.700\n",
            "Method:                 Least Squares   F-statistic:                     171.7\n",
            "Date:                Tue, 19 Mar 2019   Prob (F-statistic):          3.41e-147\n",
            "Time:                        16:30:18   Log-Likelihood:                -5328.0\n",
            "No. Observations:                 586   AIC:                         1.067e+04\n",
            "Df Residuals:                     577   BIC:                         1.071e+04\n",
            "Df Model:                           8                                         \n",
            "Covariance Type:            nonrobust                                         \n",
            "==============================================================================\n",
            "                 coef    std err          t      P>|t|      [0.025      0.975]\n",
            "------------------------------------------------------------------------------\n",
            "const        260.6506   1047.800      0.249      0.804   -1797.317    2318.619\n",
            "x1             3.3722      0.351      9.613      0.000       2.683       4.061\n",
            "x2            -0.2981      0.076     -3.926      0.000      -0.447      -0.149\n",
            "x3            -0.0001      0.000     -1.457      0.146      -0.000    5.14e-05\n",
            "x4             0.0152      0.003      4.389      0.000       0.008       0.022\n",
            "x5             0.0261      0.017      1.504      0.133      -0.008       0.060\n",
            "x6             0.0002      0.000      0.450      0.653      -0.001       0.001\n",
            "x7            -1.0409      0.150     -6.943      0.000      -1.335      -0.746\n",
            "x8           -28.4826    138.658     -0.205      0.837    -300.818     243.853\n",
            "==============================================================================\n",
            "Omnibus:                     1004.938   Durbin-Watson:                   1.922\n",
            "Prob(Omnibus):                  0.000   Jarque-Bera (JB):           881684.451\n",
            "Skew:                          10.319   Prob(JB):                         0.00\n",
            "Kurtosis:                     191.902   Cond. No.                     1.66e+07\n",
            "==============================================================================\n",
            "\n",
            "Warnings:\n",
            "[1] Standard Errors assume that the covariance matrix of the errors is correctly specified.\n",
            "[2] The condition number is large, 1.66e+07. This might indicate that there are\n",
            "strong multicollinearity or other numerical problems.\n",
            "MSE =  805999972.0914781\n"
          ],
          "name": "stdout"
        }
      ]
    },
    {
      "cell_type": "code",
      "metadata": {
        "id": "azIO8px6EoJU",
        "colab_type": "code",
        "outputId": "61728d90-bfb5-4df7-bd1f-d7eda66625ca",
        "colab": {
          "base_uri": "https://localhost:8080/",
          "height": 683
        }
      },
      "source": [
        "df_features(sb491)"
      ],
      "execution_count": 0,
      "outputs": [
        {
          "output_type": "stream",
          "text": [
            "/Library/Frameworks/Python.framework/Versions/3.6/lib/python3.6/site-packages/pandas/core/groupby/groupby.py:4656: FutureWarning: using a dict with renaming is deprecated and will be removed in a future version\n",
            "  return super(DataFrameGroupBy, self).aggregate(arg, *args, **kwargs)\n"
          ],
          "name": "stderr"
        },
        {
          "output_type": "stream",
          "text": [
            "==============================================================================\n",
            "                            OLS Regression Results                            \n",
            "==============================================================================\n",
            "Dep. Variable:                      y   R-squared:                       0.812\n",
            "Model:                            OLS   Adj. R-squared:                  0.809\n",
            "Method:                 Least Squares   F-statistic:                     285.1\n",
            "Date:                Tue, 19 Mar 2019   Prob (F-statistic):          6.16e-186\n",
            "Time:                        16:30:43   Log-Likelihood:                -5220.1\n",
            "No. Observations:                 536   AIC:                         1.046e+04\n",
            "Df Residuals:                     527   BIC:                         1.050e+04\n",
            "Df Model:                           8                                         \n",
            "Covariance Type:            nonrobust                                         \n",
            "==============================================================================\n",
            "                 coef    std err          t      P>|t|      [0.025      0.975]\n",
            "------------------------------------------------------------------------------\n",
            "const        920.7440    886.570      1.039      0.299    -820.902    2662.390\n",
            "x1             2.3616      0.479      4.926      0.000       1.420       3.303\n",
            "x2             0.0839      0.101      0.826      0.409      -0.115       0.283\n",
            "x3          -4.38e-05   7.05e-05     -0.621      0.535      -0.000    9.48e-05\n",
            "x4            -0.0032      0.002     -2.079      0.038      -0.006      -0.000\n",
            "x5             0.0490      0.012      4.080      0.000       0.025       0.073\n",
            "x6             0.0001      0.001      0.086      0.931      -0.003       0.003\n",
            "x7            -0.7336      0.232     -3.162      0.002      -1.189      -0.278\n",
            "x8          -147.6446    127.958     -1.154      0.249    -399.016     103.727\n",
            "==============================================================================\n",
            "Omnibus:                     1076.665   Durbin-Watson:                   1.802\n",
            "Prob(Omnibus):                  0.000   Jarque-Bera (JB):          1676882.555\n",
            "Skew:                          14.195   Prob(JB):                         0.00\n",
            "Kurtosis:                     275.540   Cond. No.                     2.59e+07\n",
            "==============================================================================\n",
            "\n",
            "Warnings:\n",
            "[1] Standard Errors assume that the covariance matrix of the errors is correctly specified.\n",
            "[2] The condition number is large, 2.59e+07. This might indicate that there are\n",
            "strong multicollinearity or other numerical problems.\n",
            "MSE =  4887262041.214731\n"
          ],
          "name": "stdout"
        }
      ]
    },
    {
      "cell_type": "markdown",
      "metadata": {
        "id": "jWfyVsyCZknn",
        "colab_type": "text"
      },
      "source": [
        "QUESTION 5: For each of the top 3 features (i.e. with the smallest p-values) in your measurements, draw a scatter plot of predictant (number of tweets for next hour) versus value of that feature, using all the samples you have extracted, and analyze it.\n",
        "Do the regression coefficients agree with the trends in the plots? If not, why?"
      ]
    },
    {
      "cell_type": "code",
      "metadata": {
        "id": "KNtDealhHZTS",
        "colab_type": "code",
        "colab": {}
      },
      "source": [
        "def features(data):\n",
        "  df = data.groupby(by=['month', 'day', 'hour']).agg({'tweet': np.sum, \n",
        "                                                      'retweet': np.sum,\n",
        "                                                      'followers':max,\n",
        "                                                      'listed_count':{\n",
        "                                                          'sum_listed_count': np.sum,\n",
        "                                                          'max_listed_count': max\n",
        "                                                      },\n",
        "                                                      'statuses_count':max,\n",
        "                                                      'hashtag_count': sum,\n",
        "                                                      'rank_score': max\n",
        "                                                     })\n",
        "  df = df.reset_index(level=2)\n",
        "  #y = df.values[1:,1]\n",
        "  #X = df.values[:-1,1:]\n",
        "  #X = sm.add_constant(X)\n",
        "  df_X = pd.concat([df['tweet'].iloc[1:].reset_index(drop=True), df.iloc[:-1].reset_index(drop=True)], axis=1)  #smf.ols(formula='Lottery ~ Literacy + Wealth + C(Region)', data=df).fit()\n",
        "  df_X.columns = ['y', 'hour', 'tweet', 'retweet', 'max_followers', 'sum_listed_count', \n",
        "                  'max_listed_count','max_statuses_count', 'sum_hashtag_count', 'max_rank_score']\n",
        "  return df_X"
      ],
      "execution_count": 0,
      "outputs": []
    },
    {
      "cell_type": "code",
      "metadata": {
        "id": "YLkKKepcHjT6",
        "colab_type": "code",
        "outputId": "92e1a5fc-8071-4ae0-fc78-57df2cdeea79",
        "colab": {
          "base_uri": "https://localhost:8080/",
          "height": 71
        }
      },
      "source": [
        "df_superbowl = features(superbowl1)\n",
        "df_gohawks = features(gohawks1)\n",
        "df_gopatriots = features(gopatriots1)\n",
        "df_nfl = features(nfl1)\n",
        "df_patriots = features(patriots1)\n",
        "df_sb49 = features(sb491)"
      ],
      "execution_count": 0,
      "outputs": [
        {
          "output_type": "stream",
          "text": [
            "/Library/Frameworks/Python.framework/Versions/3.6/lib/python3.6/site-packages/pandas/core/groupby/groupby.py:4656: FutureWarning: using a dict with renaming is deprecated and will be removed in a future version\n",
            "  return super(DataFrameGroupBy, self).aggregate(arg, *args, **kwargs)\n"
          ],
          "name": "stderr"
        }
      ]
    },
    {
      "cell_type": "code",
      "metadata": {
        "id": "LNeYIyOpE69C",
        "colab_type": "code",
        "outputId": "65792d4a-5166-4fce-9024-7dd0533796e3",
        "colab": {
          "base_uri": "https://localhost:8080/",
          "height": 204
        }
      },
      "source": [
        "df_superbowl.head()\n",
        "#x1 = tweet          \n",
        "#x2 = retweet\n",
        "#x3 = max_followers\n",
        "#x4 = sum_listed_count  \n",
        "#x5 = max_listed_count    \n",
        "#x6 = max_statuses_count\n",
        "#x7 = sum_hashtag_count  \n",
        "#x8 = max_rank_score"
      ],
      "execution_count": 0,
      "outputs": [
        {
          "output_type": "execute_result",
          "data": {
            "text/plain": [
              "    y  hour  tweet  retweet  max_followers  sum_listed_count  \\\n",
              "0   6     0      8        9         1495.0              75.0   \n",
              "1  12     1      6        8         7605.0             173.0   \n",
              "2  10     2     12       75      1362401.0           10235.0   \n",
              "3  11     3     10       10         1557.0             101.0   \n",
              "4  10     4     11       16         9902.0             516.0   \n",
              "\n",
              "   max_listed_count  max_statuses_count  sum_hashtag_count  max_rank_score  \n",
              "0              35.0              144179                 20        5.429007  \n",
              "1              86.0              274788                 17        4.449657  \n",
              "2            9440.0               85766                 22        8.610539  \n",
              "3              76.0               12078                 26        4.465033  \n",
              "4             283.0              306903                 30        7.333055  "
            ],
            "text/html": [
              "<div>\n",
              "<style scoped>\n",
              "    .dataframe tbody tr th:only-of-type {\n",
              "        vertical-align: middle;\n",
              "    }\n",
              "\n",
              "    .dataframe tbody tr th {\n",
              "        vertical-align: top;\n",
              "    }\n",
              "\n",
              "    .dataframe thead th {\n",
              "        text-align: right;\n",
              "    }\n",
              "</style>\n",
              "<table border=\"1\" class=\"dataframe\">\n",
              "  <thead>\n",
              "    <tr style=\"text-align: right;\">\n",
              "      <th></th>\n",
              "      <th>y</th>\n",
              "      <th>hour</th>\n",
              "      <th>tweet</th>\n",
              "      <th>retweet</th>\n",
              "      <th>max_followers</th>\n",
              "      <th>sum_listed_count</th>\n",
              "      <th>max_listed_count</th>\n",
              "      <th>max_statuses_count</th>\n",
              "      <th>sum_hashtag_count</th>\n",
              "      <th>max_rank_score</th>\n",
              "    </tr>\n",
              "  </thead>\n",
              "  <tbody>\n",
              "    <tr>\n",
              "      <th>0</th>\n",
              "      <td>6</td>\n",
              "      <td>0</td>\n",
              "      <td>8</td>\n",
              "      <td>9</td>\n",
              "      <td>1495.0</td>\n",
              "      <td>75.0</td>\n",
              "      <td>35.0</td>\n",
              "      <td>144179</td>\n",
              "      <td>20</td>\n",
              "      <td>5.429007</td>\n",
              "    </tr>\n",
              "    <tr>\n",
              "      <th>1</th>\n",
              "      <td>12</td>\n",
              "      <td>1</td>\n",
              "      <td>6</td>\n",
              "      <td>8</td>\n",
              "      <td>7605.0</td>\n",
              "      <td>173.0</td>\n",
              "      <td>86.0</td>\n",
              "      <td>274788</td>\n",
              "      <td>17</td>\n",
              "      <td>4.449657</td>\n",
              "    </tr>\n",
              "    <tr>\n",
              "      <th>2</th>\n",
              "      <td>10</td>\n",
              "      <td>2</td>\n",
              "      <td>12</td>\n",
              "      <td>75</td>\n",
              "      <td>1362401.0</td>\n",
              "      <td>10235.0</td>\n",
              "      <td>9440.0</td>\n",
              "      <td>85766</td>\n",
              "      <td>22</td>\n",
              "      <td>8.610539</td>\n",
              "    </tr>\n",
              "    <tr>\n",
              "      <th>3</th>\n",
              "      <td>11</td>\n",
              "      <td>3</td>\n",
              "      <td>10</td>\n",
              "      <td>10</td>\n",
              "      <td>1557.0</td>\n",
              "      <td>101.0</td>\n",
              "      <td>76.0</td>\n",
              "      <td>12078</td>\n",
              "      <td>26</td>\n",
              "      <td>4.465033</td>\n",
              "    </tr>\n",
              "    <tr>\n",
              "      <th>4</th>\n",
              "      <td>10</td>\n",
              "      <td>4</td>\n",
              "      <td>11</td>\n",
              "      <td>16</td>\n",
              "      <td>9902.0</td>\n",
              "      <td>516.0</td>\n",
              "      <td>283.0</td>\n",
              "      <td>306903</td>\n",
              "      <td>30</td>\n",
              "      <td>7.333055</td>\n",
              "    </tr>\n",
              "  </tbody>\n",
              "</table>\n",
              "</div>"
            ]
          },
          "metadata": {
            "tags": []
          },
          "execution_count": 394
        }
      ]
    },
    {
      "cell_type": "code",
      "metadata": {
        "id": "20BaSVc9F1ua",
        "colab_type": "code",
        "colab": {}
      },
      "source": [
        "import matplotlib.pyplot as plt"
      ],
      "execution_count": 0,
      "outputs": []
    },
    {
      "cell_type": "code",
      "metadata": {
        "id": "bf2h5p8XFRAK",
        "colab_type": "code",
        "outputId": "6beaf937-7553-495e-d303-cb89ec1d7de5",
        "colab": {
          "base_uri": "https://localhost:8080/",
          "height": 312
        }
      },
      "source": [
        "#superbowl\n",
        "#x1 = tweet\n",
        "plt.figure()\n",
        "plt.scatter(df_superbowl['tweet'], df_superbowl['y'], s=5)\n",
        "plt.xlabel('number of tweet this hour')\n",
        "plt.ylabel('number of tweet next hour')\n",
        "plt.title('Relationship between current number of tweet and number of tweet next hour (Superbowl)')"
      ],
      "execution_count": 0,
      "outputs": [
        {
          "output_type": "execute_result",
          "data": {
            "text/plain": [
              "Text(0.5,1,'Relationship between current number of tweet and number of tweet next hour (Superbowl)')"
            ]
          },
          "metadata": {
            "tags": []
          },
          "execution_count": 406
        },
        {
          "output_type": "display_data",
          "data": {
            "text/plain": [
              "<Figure size 432x288 with 1 Axes>"
            ],
            "image/png": "[encoded data removed]"
          },
          "metadata": {
            "tags": []
          }
        }
      ]
    },
    {
      "cell_type": "code",
      "metadata": {
        "id": "JaAaQc_2Zn60",
        "colab_type": "code",
        "outputId": "6b0f26c3-1a96-43db-b347-115076417bbb",
        "colab": {
          "base_uri": "https://localhost:8080/",
          "height": 312
        }
      },
      "source": [
        "#x2 = retweet\n",
        "plt.figure()\n",
        "plt.scatter(df_superbowl['retweet'], df_superbowl['y'], s=5)\n",
        "plt.xlabel('number of retweet')\n",
        "plt.ylabel('number of tweet next hour')\n",
        "plt.title('Relationship between number of retweet and number of tweet next hour (Superbowl)')"
      ],
      "execution_count": 0,
      "outputs": [
        {
          "output_type": "execute_result",
          "data": {
            "text/plain": [
              "Text(0.5,1,'Relationship between number of retweet and number of tweet next hour (Superbowl)')"
            ]
          },
          "metadata": {
            "tags": []
          },
          "execution_count": 407
        },
        {
          "output_type": "display_data",
          "data": {
            "text/plain": [
              "<Figure size 432x288 with 1 Axes>"
            ],
            "image/png": "[encoded data removed]"
          },
          "metadata": {
            "tags": []
          }
        }
      ]
    },
    {
      "cell_type": "code",
      "metadata": {
        "id": "9kpDPANyYGQX",
        "colab_type": "code",
        "outputId": "a98c2c12-a16e-4e20-af10-8dae019cd95f",
        "colab": {
          "base_uri": "https://localhost:8080/",
          "height": 312
        }
      },
      "source": [
        "#x7 = sum_hashtag_count\n",
        "plt.figure()\n",
        "plt.scatter(df_superbowl['sum_hashtag_count'], df_superbowl['y'], s=5)\n",
        "plt.xlabel('sum of hashtag count')\n",
        "plt.ylabel('number of tweet next hour')\n",
        "plt.title('Relationship between sum of hashtag count and number of tweet next hour (Superbowl)')"
      ],
      "execution_count": 0,
      "outputs": [
        {
          "output_type": "execute_result",
          "data": {
            "text/plain": [
              "Text(0.5,1,'Relationship between sum of hashtag count and number of tweet next hour (Superbowl)')"
            ]
          },
          "metadata": {
            "tags": []
          },
          "execution_count": 437
        },
        {
          "output_type": "display_data",
          "data": {
            "text/plain": [
              "<Figure size 432x288 with 1 Axes>"
            ],
            "image/png": "[encoded data removed]"
          },
          "metadata": {
            "tags": []
          }
        }
      ]
    },
    {
      "cell_type": "code",
      "metadata": {
        "id": "fcdzVYuwaimB",
        "colab_type": "code",
        "outputId": "d9b90641-16fb-43c5-c237-536b838b0d72",
        "colab": {
          "base_uri": "https://localhost:8080/",
          "height": 312
        }
      },
      "source": [
        "#go hawks\n",
        "#x1\n",
        "plt.figure()\n",
        "plt.scatter(df_gohawks['tweet'], df_gohawks['y'], s=5)\n",
        "plt.xlabel('number of tweet this hour')\n",
        "plt.ylabel('number of tweet next hour')\n",
        "plt.title('Relationship between number of tweet this hour and number of tweet next hour (#gohawks)')"
      ],
      "execution_count": 0,
      "outputs": [
        {
          "output_type": "execute_result",
          "data": {
            "text/plain": [
              "Text(0.5,1,'Relationship between number of tweet this hour and number of tweet next hour (#gohawks)')"
            ]
          },
          "metadata": {
            "tags": []
          },
          "execution_count": 414
        },
        {
          "output_type": "display_data",
          "data": {
            "text/plain": [
              "<Figure size 432x288 with 1 Axes>"
            ],
            "image/png": "[encoded data removed]"
          },
          "metadata": {
            "tags": []
          }
        }
      ]
    },
    {
      "cell_type": "code",
      "metadata": {
        "id": "uMYW9uURa-Ff",
        "colab_type": "code",
        "outputId": "70cdb16f-00dc-46a8-a76e-5562adb705f9",
        "colab": {
          "base_uri": "https://localhost:8080/",
          "height": 312
        }
      },
      "source": [
        "plt.figure()\n",
        "plt.scatter(df_gohawks['sum_listed_count'], df_gohawks['y'], s=5)\n",
        "plt.xlabel('sum of list count')\n",
        "plt.ylabel('number of tweet next hour')\n",
        "plt.title('Relationship between sum of list count and number of tweet next hour (#gohawks)')"
      ],
      "execution_count": 0,
      "outputs": [
        {
          "output_type": "execute_result",
          "data": {
            "text/plain": [
              "Text(0.5,1,'Relationship between sum of list count and number of tweet next hour (#gohawks)')"
            ]
          },
          "metadata": {
            "tags": []
          },
          "execution_count": 436
        },
        {
          "output_type": "display_data",
          "data": {
            "text/plain": [
              "<Figure size 432x288 with 1 Axes>"
            ],
            "image/png": "[encoded data removed]"
          },
          "metadata": {
            "tags": []
          }
        }
      ]
    },
    {
      "cell_type": "code",
      "metadata": {
        "id": "VycCbGxFbGb8",
        "colab_type": "code",
        "outputId": "507bb3ff-5ecb-474c-fad1-9ee735acd59d",
        "colab": {
          "base_uri": "https://localhost:8080/",
          "height": 312
        }
      },
      "source": [
        "plt.figure()\n",
        "plt.scatter(df_gohawks['sum_hashtag_count'], df_gohawks['y'], s=5)\n",
        "plt.xlabel('sum of hashtag count')\n",
        "plt.ylabel('number of tweet next hour')\n",
        "plt.title('Relationship between sum of hashtag count and number of tweet next hour (#gohawks)')"
      ],
      "execution_count": 0,
      "outputs": [
        {
          "output_type": "execute_result",
          "data": {
            "text/plain": [
              "Text(0.5,1,'Relationship between sum of hashtag count and number of tweet next hour (#gohawks)')"
            ]
          },
          "metadata": {
            "tags": []
          },
          "execution_count": 435
        },
        {
          "output_type": "display_data",
          "data": {
            "text/plain": [
              "<Figure size 432x288 with 1 Axes>"
            ],
            "image/png": "[encoded data removed]"
          },
          "metadata": {
            "tags": []
          }
        }
      ]
    },
    {
      "cell_type": "code",
      "metadata": {
        "id": "HusPd5j5bOot",
        "colab_type": "code",
        "outputId": "3d3750ad-8281-4f20-b9b4-3af46a9f1641",
        "colab": {
          "base_uri": "https://localhost:8080/",
          "height": 312
        }
      },
      "source": [
        "#go patriots\n",
        "#x1\n",
        "plt.figure()\n",
        "plt.scatter(df_gopatriots['tweet'], df_gopatriots['y'], s=5)\n",
        "plt.xlabel('number of tweet this hour')\n",
        "plt.ylabel('number of tweet next hour')\n",
        "plt.title('Relationship between number of tweet this hour and number of tweet next hour (#gopatriots)')"
      ],
      "execution_count": 0,
      "outputs": [
        {
          "output_type": "execute_result",
          "data": {
            "text/plain": [
              "Text(0.5,1,'Relationship between number of tweet this hour and number of tweet next hour (#gopatriots)')"
            ]
          },
          "metadata": {
            "tags": []
          },
          "execution_count": 415
        },
        {
          "output_type": "display_data",
          "data": {
            "text/plain": [
              "<Figure size 432x288 with 1 Axes>"
            ],
            "image/png": "[encoded data removed]"
          },
          "metadata": {
            "tags": []
          }
        }
      ]
    },
    {
      "cell_type": "code",
      "metadata": {
        "id": "UabunQf1bqoZ",
        "colab_type": "code",
        "outputId": "4de374ba-80dd-460f-84ee-5572c0b3ccb2",
        "colab": {
          "base_uri": "https://localhost:8080/",
          "height": 312
        }
      },
      "source": [
        "#sum_listed_count\n",
        "plt.figure()\n",
        "plt.scatter(df_gopatriots['sum_listed_count'], df_gopatriots['y'], s=5)\n",
        "plt.xlabel('sum of listed count')\n",
        "plt.ylabel('number of tweet next hour')\n",
        "plt.title('Relationship between sum of listed count and number of tweet next hour (#gopatriots)')"
      ],
      "execution_count": 0,
      "outputs": [
        {
          "output_type": "execute_result",
          "data": {
            "text/plain": [
              "Text(0.5,1,'Relationship between sum of listed count and number of tweet next hour (#gopatriots)')"
            ]
          },
          "metadata": {
            "tags": []
          },
          "execution_count": 434
        },
        {
          "output_type": "display_data",
          "data": {
            "text/plain": [
              "<Figure size 432x288 with 1 Axes>"
            ],
            "image/png": "[encoded data removed]"
          },
          "metadata": {
            "tags": []
          }
        }
      ]
    },
    {
      "cell_type": "code",
      "metadata": {
        "id": "DPM1ddA9bz3d",
        "colab_type": "code",
        "outputId": "21efbc18-1873-445c-833a-b8ac1fec53bd",
        "colab": {
          "base_uri": "https://localhost:8080/",
          "height": 312
        }
      },
      "source": [
        "plt.figure()\n",
        "plt.scatter(df_gopatriots['sum_hashtag_count'], df_gopatriots['y'], s=5)\n",
        "plt.xlabel('sum of hashtag count')\n",
        "plt.ylabel('number of tweet next hour')\n",
        "plt.title('Relationship between sum of hashtag count and number of tweet next hour (#gopatriots)')"
      ],
      "execution_count": 0,
      "outputs": [
        {
          "output_type": "execute_result",
          "data": {
            "text/plain": [
              "Text(0.5,1,'Relationship between sum of hashtag count and number of tweet next hour (#gopatriots)')"
            ]
          },
          "metadata": {
            "tags": []
          },
          "execution_count": 433
        },
        {
          "output_type": "display_data",
          "data": {
            "text/plain": [
              "<Figure size 432x288 with 1 Axes>"
            ],
            "image/png": "[encoded data removed]"
          },
          "metadata": {
            "tags": []
          }
        }
      ]
    },
    {
      "cell_type": "code",
      "metadata": {
        "id": "edh4fOzKcDgq",
        "colab_type": "code",
        "outputId": "a7f69e7b-ac49-4d60-ae70-f71c1d37413f",
        "colab": {
          "base_uri": "https://localhost:8080/",
          "height": 312
        }
      },
      "source": [
        "#nfl\n",
        "plt.figure()\n",
        "plt.scatter(df_nfl['tweet'], df_nfl['y'], s=5)\n",
        "plt.xlabel('number of tweet this hour')\n",
        "plt.ylabel('number of tweet next hour')\n",
        "plt.title('Relationship between number of tweet this hour and number of tweet next hour (#nfl)')"
      ],
      "execution_count": 0,
      "outputs": [
        {
          "output_type": "execute_result",
          "data": {
            "text/plain": [
              "Text(0.5,1,'Relationship between number of tweet this hour and number of tweet next hour (#nfl)')"
            ]
          },
          "metadata": {
            "tags": []
          },
          "execution_count": 418
        },
        {
          "output_type": "display_data",
          "data": {
            "text/plain": [
              "<Figure size 432x288 with 1 Axes>"
            ],
            "image/png": "[encoded data removed]"
          },
          "metadata": {
            "tags": []
          }
        }
      ]
    },
    {
      "cell_type": "code",
      "metadata": {
        "id": "0enbHBTDcOI8",
        "colab_type": "code",
        "outputId": "488353fc-d18a-4869-f7c3-041cb55f83df",
        "colab": {
          "base_uri": "https://localhost:8080/",
          "height": 312
        }
      },
      "source": [
        "#nfl\n",
        "plt.figure()\n",
        "plt.scatter(df_nfl['retweet'], df_nfl['y'], s=5)\n",
        "plt.xlabel('number of retweet')\n",
        "plt.ylabel('number of tweet next hour')\n",
        "plt.title('Relationship between number of retweet and number of tweet next hour (#nfl)')"
      ],
      "execution_count": 0,
      "outputs": [
        {
          "output_type": "execute_result",
          "data": {
            "text/plain": [
              "Text(0.5,1,'Relationship between number of retweet and number of tweet next hour (#nfl)')"
            ]
          },
          "metadata": {
            "tags": []
          },
          "execution_count": 419
        },
        {
          "output_type": "display_data",
          "data": {
            "text/plain": [
              "<Figure size 432x288 with 1 Axes>"
            ],
            "image/png": "[encoded data removed]"
          },
          "metadata": {
            "tags": []
          }
        }
      ]
    },
    {
      "cell_type": "code",
      "metadata": {
        "id": "jz4FOqtdcl3A",
        "colab_type": "code",
        "outputId": "64979761-b51d-4f73-d888-9e55946d802d",
        "colab": {
          "base_uri": "https://localhost:8080/",
          "height": 312
        }
      },
      "source": [
        "plt.figure()\n",
        "plt.scatter(df_nfl['sum_listed_count'], df_nfl['y'], s=5)\n",
        "plt.xlabel('sum of listed count')\n",
        "plt.ylabel('number of tweet next hour')\n",
        "plt.title('Relationship between sum of listed count and number of tweet next hour (#nfl)')"
      ],
      "execution_count": 0,
      "outputs": [
        {
          "output_type": "execute_result",
          "data": {
            "text/plain": [
              "Text(0.5,1,'Relationship between sum of listed count and number of tweet next hour (#nfl)')"
            ]
          },
          "metadata": {
            "tags": []
          },
          "execution_count": 432
        },
        {
          "output_type": "display_data",
          "data": {
            "text/plain": [
              "<Figure size 432x288 with 1 Axes>"
            ],
            "image/png": "[encoded data removed]"
          },
          "metadata": {
            "tags": []
          }
        }
      ]
    },
    {
      "cell_type": "code",
      "metadata": {
        "id": "sw2NOxHYctQS",
        "colab_type": "code",
        "outputId": "f3500cfe-a713-4790-fe1a-dbf6d593e6f9",
        "colab": {
          "base_uri": "https://localhost:8080/",
          "height": 312
        }
      },
      "source": [
        "#patriots\n",
        "plt.figure()\n",
        "plt.scatter(df_patriots['tweet'], df_patriots['y'], s=5)\n",
        "plt.xlabel('number of tweet this hour')\n",
        "plt.ylabel('number of tweet next hour')\n",
        "plt.title('Relationship between number of tweet this hour and number of tweet next hour (#patriots)')"
      ],
      "execution_count": 0,
      "outputs": [
        {
          "output_type": "execute_result",
          "data": {
            "text/plain": [
              "Text(0.5,1,'Relationship between number of tweet this hour and number of tweet next hour (#patriots)')"
            ]
          },
          "metadata": {
            "tags": []
          },
          "execution_count": 425
        },
        {
          "output_type": "display_data",
          "data": {
            "text/plain": [
              "<Figure size 432x288 with 1 Axes>"
            ],
            "image/png": "[encoded data removed]"
          },
          "metadata": {
            "tags": []
          }
        }
      ]
    },
    {
      "cell_type": "code",
      "metadata": {
        "id": "PvNsjzV5c5RV",
        "colab_type": "code",
        "outputId": "1ec6e438-95d4-45a2-c43a-ded2c8c65a45",
        "colab": {
          "base_uri": "https://localhost:8080/",
          "height": 312
        }
      },
      "source": [
        "plt.figure()\n",
        "plt.scatter(df_patriots['retweet'], df_patriots['y'], s=5)\n",
        "plt.xlabel('number of retweet')\n",
        "plt.ylabel('number of tweet next hour')\n",
        "plt.title('Relationship between number of retweet and number of tweet next hour (#patriots)')"
      ],
      "execution_count": 0,
      "outputs": [
        {
          "output_type": "execute_result",
          "data": {
            "text/plain": [
              "Text(0.5,1,'Relationship between number of retweet and number of tweet next hour (#patriots)')"
            ]
          },
          "metadata": {
            "tags": []
          },
          "execution_count": 426
        },
        {
          "output_type": "display_data",
          "data": {
            "text/plain": [
              "<Figure size 432x288 with 1 Axes>"
            ],
            "image/png": "[encoded data removed]"
          },
          "metadata": {
            "tags": []
          }
        }
      ]
    },
    {
      "cell_type": "code",
      "metadata": {
        "id": "uHEzu2yidBAM",
        "colab_type": "code",
        "outputId": "dc22fc86-ab08-4dda-e7ac-f534d1bdb5ae",
        "colab": {
          "base_uri": "https://localhost:8080/",
          "height": 312
        }
      },
      "source": [
        "plt.figure()\n",
        "plt.scatter(df_patriots['sum_listed_count'], df_patriots['y'], s=5)\n",
        "plt.xlabel('sum of listed count')\n",
        "plt.ylabel('number of tweet next hour')\n",
        "plt.title('Relationship between sum of listed count and number of tweet next hour (#patriots)')"
      ],
      "execution_count": 0,
      "outputs": [
        {
          "output_type": "execute_result",
          "data": {
            "text/plain": [
              "Text(0.5,1,'Relationship between sum of listed count and number of tweet next hour (#patriots)')"
            ]
          },
          "metadata": {
            "tags": []
          },
          "execution_count": 431
        },
        {
          "output_type": "display_data",
          "data": {
            "text/plain": [
              "<Figure size 432x288 with 1 Axes>"
            ],
            "image/png": "[encoded data removed]"
          },
          "metadata": {
            "tags": []
          }
        }
      ]
    },
    {
      "cell_type": "code",
      "metadata": {
        "id": "40zUAwjfdPWm",
        "colab_type": "code",
        "outputId": "1c750876-82d3-4c82-a3fa-ac4e00f39c90",
        "colab": {
          "base_uri": "https://localhost:8080/",
          "height": 312
        }
      },
      "source": [
        "#sb49\n",
        "plt.figure()\n",
        "plt.scatter(df_sb49['tweet'], df_sb49['y'], s=5)\n",
        "plt.xlabel('number of tweet this hour')\n",
        "plt.ylabel('number of tweet next hour')\n",
        "plt.title('Relationship between number of tweet this hour and number of tweet next hour (#sb49)')"
      ],
      "execution_count": 0,
      "outputs": [
        {
          "output_type": "execute_result",
          "data": {
            "text/plain": [
              "Text(0.5,1,'Relationship between number of tweet this hour and number of tweet next hour (#sb49)')"
            ]
          },
          "metadata": {
            "tags": []
          },
          "execution_count": 428
        },
        {
          "output_type": "display_data",
          "data": {
            "text/plain": [
              "<Figure size 432x288 with 1 Axes>"
            ],
            "image/png": "[encoded data removed]"
          },
          "metadata": {
            "tags": []
          }
        }
      ]
    },
    {
      "cell_type": "code",
      "metadata": {
        "id": "qET19IX1da0p",
        "colab_type": "code",
        "outputId": "63ee041b-9f3a-4b86-bd5c-a979309760b4",
        "colab": {
          "base_uri": "https://localhost:8080/",
          "height": 312
        }
      },
      "source": [
        "plt.figure()\n",
        "plt.scatter(df_sb49['max_listed_count'], df_sb49['y'], s=5)\n",
        "plt.xlabel('maximum listed count')\n",
        "plt.ylabel('number of tweet next hour')\n",
        "plt.title('Relationship between maximum listed count and number of tweet next hour (#sb49)')"
      ],
      "execution_count": 0,
      "outputs": [
        {
          "output_type": "execute_result",
          "data": {
            "text/plain": [
              "Text(0.5,1,'Relationship between maximum listed count and number of tweet next hour (#sb49)')"
            ]
          },
          "metadata": {
            "tags": []
          },
          "execution_count": 429
        },
        {
          "output_type": "display_data",
          "data": {
            "text/plain": [
              "<Figure size 432x288 with 1 Axes>"
            ],
            "image/png": "[encoded data removed]"
          },
          "metadata": {
            "tags": []
          }
        }
      ]
    },
    {
      "cell_type": "code",
      "metadata": {
        "id": "bz_ortMzdmgZ",
        "colab_type": "code",
        "outputId": "31a3db7b-196c-489f-f39a-257cc97dc3f9",
        "colab": {
          "base_uri": "https://localhost:8080/",
          "height": 312
        }
      },
      "source": [
        "plt.figure()\n",
        "plt.scatter(df_sb49['sum_hashtag_count'], df_sb49['y'], s=5)\n",
        "plt.xlabel('sum of hashtag count')\n",
        "plt.ylabel('number of tweet next hour')\n",
        "plt.title('Relationship between sum of hashtag count and number of tweet next hour (#sb49)')"
      ],
      "execution_count": 0,
      "outputs": [
        {
          "output_type": "execute_result",
          "data": {
            "text/plain": [
              "Text(0.5,1,'Relationship between sum of hashtag count and number of tweet next hour (#sb49)')"
            ]
          },
          "metadata": {
            "tags": []
          },
          "execution_count": 430
        },
        {
          "output_type": "display_data",
          "data": {
            "text/plain": [
              "<Figure size 432x288 with 1 Axes>"
            ],
            "image/png": "[encoded data removed]"
          },
          "metadata": {
            "tags": []
          }
        }
      ]
    },
    {
      "cell_type": "markdown",
      "metadata": {
        "id": "7VaTORk-Z1zI",
        "colab_type": "text"
      },
      "source": [
        "### 4. Piece-wise linear regression"
      ]
    },
    {
      "cell_type": "markdown",
      "metadata": {
        "id": "dBAutM2jZ3jN",
        "colab_type": "text"
      },
      "source": [
        "QUESTION 6: We define three time periods and their corresponding window length as follows:\n",
        "*  Before Feb. 1, 8:00 a.m.: 1-hour window\n",
        "*  Between Feb. 1, 8:00 a.m. and 8:00 p.m.: 5-minute window 3. \n",
        "*  After Feb. 1, 8:00 p.m.: 1-hour window  \n",
        "\n",
        "For each hashtag, train 3 regression models, one for each of these time periods (the times are all in PST). Report the MSE and R-squared score for each case.\n"
      ]
    },
    {
      "cell_type": "code",
      "metadata": {
        "id": "5SvgXcpDZ2qi",
        "colab_type": "code",
        "colab": {}
      },
      "source": [
        "# gohawks1 = pd.read_csv('./ECE219_tweet_data/extractedfeature#gohawks.csv', parse_dates = ['time'])\n",
        "# gopatriots1 = pd.read_csv('./ECE219_tweet_data/extractedfeature#gopatriots.csv', parse_dates = ['time'])\n",
        "# nfl1 = pd.read_csv('./ECE219_tweet_data/extractedfeature#nfl.csv', parse_dates = ['time'])\n",
        "# patriots1 = pd.read_csv('./ECE219_tweet_data/extractedfeature#patriots.csv', parse_dates = ['time'])\n",
        "# sb491 = pd.read_csv('./ECE219_tweet_data/extractedfeature#sb49.csv', parse_dates = ['time'])\n",
        "# superbowl1 = pd.read_csv('./ECE219_tweet_data/extractedfeature#superbowl.csv', parse_dates = ['time'])"
      ],
      "execution_count": 0,
      "outputs": []
    },
    {
      "cell_type": "code",
      "metadata": {
        "id": "ibQeOMx5GOQB",
        "colab_type": "code",
        "colab": {}
      },
      "source": [
        "def grouping(data, time_option):\n",
        "  start = datetime.datetime(2015, 2, 1, 8, 0, 0).timestamp()\n",
        "  end = datetime.datetime(2015, 2, 1, 20, 0, 0).timestamp()\n",
        "  if(time_option == 'pre'):\n",
        "    data_pre = data.loc[data['timestamp'] < start]\n",
        "    df = data_pre.groupby(by=['month', 'day', 'hour']).agg({'tweet': sum,\n",
        "                                                       'retweet': sum,\n",
        "                                                       'followers': sum,\n",
        "                                                       'listed_count': sum,\n",
        "                                                       'hashtag_count': sum,\n",
        "                                                       'rank_score': sum\n",
        "                                                       })\n",
        "    \n",
        "  elif(time_option == 'feb1'):\n",
        "    data_feb1 = data.loc[(data['timestamp'] >= start) & (data['timestamp'] <= end)]\n",
        "    data_feb1.index = pd.to_datetime(data_feb1.time)\n",
        "    df = data_feb1[['tweet', 'retweet', 'followers','listed_count','hashtag_count', 'rank_score']].resample('5T').sum()\n",
        "    \n",
        "  elif(time_option == 'post'):\n",
        "    data_post = data.loc[data['timestamp'] > end]\n",
        "    df = data_post.groupby(by=['month', 'day', 'hour']).agg({'tweet': sum,\n",
        "                                                   'retweet': sum,\n",
        "                                                   'followers': sum,\n",
        "                                                   'listed_count': sum,\n",
        "                                                   'hashtag_count': sum,\n",
        "                                                   'rank_score': sum\n",
        "                                                   })\n",
        "\n",
        "  y = df.values[1:, 0]\n",
        "  X = df.values[:-1, 0:]\n",
        "  results = sm.OLS(y,X).fit()\n",
        "  print(results.summary())\n",
        "  print('MSE = ', results.mse_model)"
      ],
      "execution_count": 0,
      "outputs": []
    },
    {
      "cell_type": "code",
      "metadata": {
        "id": "GTHO7ywh15SA",
        "colab_type": "code",
        "colab": {}
      },
      "source": [
        ""
      ],
      "execution_count": 0,
      "outputs": []
    },
    {
      "cell_type": "code",
      "metadata": {
        "id": "gr9590ux2d7N",
        "colab_type": "code",
        "colab": {}
      },
      "source": [
        ""
      ],
      "execution_count": 0,
      "outputs": []
    },
    {
      "cell_type": "code",
      "metadata": {
        "id": "pl2dFs4Z2fmo",
        "colab_type": "code",
        "colab": {}
      },
      "source": [
        ""
      ],
      "execution_count": 0,
      "outputs": []
    },
    {
      "cell_type": "code",
      "metadata": {
        "id": "_cJJs2QN2hg5",
        "colab_type": "code",
        "colab": {}
      },
      "source": [
        ""
      ],
      "execution_count": 0,
      "outputs": []
    },
    {
      "cell_type": "code",
      "metadata": {
        "id": "mUcoecBHpP1u",
        "colab_type": "code",
        "outputId": "d3fdf9f8-614e-42c8-a4a5-0bd450f66363",
        "colab": {
          "base_uri": "https://localhost:8080/",
          "height": 561
        }
      },
      "source": [
        "grouping(gohawks1, 'pre')"
      ],
      "execution_count": 0,
      "outputs": [
        {
          "output_type": "stream",
          "text": [
            "                            OLS Regression Results                            \n",
            "==============================================================================\n",
            "Dep. Variable:                      y   R-squared:                       0.471\n",
            "Model:                            OLS   Adj. R-squared:                  0.464\n",
            "Method:                 Least Squares   F-statistic:                     64.26\n",
            "Date:                Wed, 20 Mar 2019   Prob (F-statistic):           7.11e-57\n",
            "Time:                        23:11:01   Log-Likelihood:                -3534.5\n",
            "No. Observations:                 439   AIC:                             7081.\n",
            "Df Residuals:                     433   BIC:                             7106.\n",
            "Df Model:                           6                                         \n",
            "Covariance Type:            nonrobust                                         \n",
            "==============================================================================\n",
            "                 coef    std err          t      P>|t|      [0.025      0.975]\n",
            "------------------------------------------------------------------------------\n",
            "x1           -20.2142      4.246     -4.761      0.000     -28.560     -11.869\n",
            "x2            -0.2503      0.104     -2.402      0.017      -0.455      -0.045\n",
            "x3            -0.0005   8.72e-05     -5.798      0.000      -0.001      -0.000\n",
            "x4             0.0611      0.008      7.459      0.000       0.045       0.077\n",
            "x5             0.8084      0.382      2.119      0.035       0.059       1.558\n",
            "x6             4.1017      0.802      5.111      0.000       2.524       5.679\n",
            "==============================================================================\n",
            "Omnibus:                      777.396   Durbin-Watson:                   2.135\n",
            "Prob(Omnibus):                  0.000   Jarque-Bera (JB):           578737.634\n",
            "Skew:                          10.611   Prob(JB):                         0.00\n",
            "Kurtosis:                     179.604   Cond. No.                     2.53e+05\n",
            "==============================================================================\n",
            "\n",
            "Warnings:\n",
            "[1] Standard Errors assume that the covariance matrix of the errors is correctly specified.\n",
            "[2] The condition number is large, 2.53e+05. This might indicate that there are\n",
            "strong multicollinearity or other numerical problems.\n",
            "MSE =  37556417.21448729\n"
          ],
          "name": "stdout"
        }
      ]
    },
    {
      "cell_type": "code",
      "metadata": {
        "id": "itHyU7PmlbEk",
        "colab_type": "code",
        "outputId": "375200da-5e29-4830-cbfb-e2cf3bc03f8f",
        "colab": {
          "base_uri": "https://localhost:8080/",
          "height": 561
        }
      },
      "source": [
        "grouping(gohawks1, 'feb1')"
      ],
      "execution_count": 0,
      "outputs": [
        {
          "output_type": "stream",
          "text": [
            "                            OLS Regression Results                            \n",
            "==============================================================================\n",
            "Dep. Variable:                      y   R-squared:                       0.742\n",
            "Model:                            OLS   Adj. R-squared:                  0.730\n",
            "Method:                 Least Squares   F-statistic:                     65.59\n",
            "Date:                Wed, 20 Mar 2019   Prob (F-statistic):           7.19e-38\n",
            "Time:                        23:11:05   Log-Likelihood:                -1008.2\n",
            "No. Observations:                 143   AIC:                             2028.\n",
            "Df Residuals:                     137   BIC:                             2046.\n",
            "Df Model:                           6                                         \n",
            "Covariance Type:            nonrobust                                         \n",
            "==============================================================================\n",
            "                 coef    std err          t      P>|t|      [0.025      0.975]\n",
            "------------------------------------------------------------------------------\n",
            "x1            -0.4919      3.871     -0.127      0.899      -8.147       7.164\n",
            "x2             0.0665      0.197      0.338      0.736      -0.323       0.456\n",
            "x3         -4.668e-05   5.06e-05     -0.923      0.357      -0.000    5.33e-05\n",
            "x4            -0.0024      0.007     -0.317      0.752      -0.017       0.012\n",
            "x5             0.6447      0.284      2.266      0.025       0.082       1.207\n",
            "x6             0.0183      0.745      0.025      0.980      -1.455       1.492\n",
            "==============================================================================\n",
            "Omnibus:                       96.716   Durbin-Watson:                   1.973\n",
            "Prob(Omnibus):                  0.000   Jarque-Bera (JB):              830.469\n",
            "Skew:                           2.290   Prob(JB):                    4.63e-181\n",
            "Kurtosis:                      13.882   Cond. No.                     2.32e+05\n",
            "==============================================================================\n",
            "\n",
            "Warnings:\n",
            "[1] Standard Errors assume that the covariance matrix of the errors is correctly specified.\n",
            "[2] The condition number is large, 2.32e+05. This might indicate that there are\n",
            "strong multicollinearity or other numerical problems.\n",
            "MSE =  5329729.002562429\n"
          ],
          "name": "stdout"
        }
      ]
    },
    {
      "cell_type": "code",
      "metadata": {
        "id": "BgSS9iMg0jit",
        "colab_type": "code",
        "outputId": "20e073d6-3ae2-431f-c995-5334ea2b0a73",
        "colab": {
          "base_uri": "https://localhost:8080/",
          "height": 561
        }
      },
      "source": [
        "grouping(gohawks1, 'post')"
      ],
      "execution_count": 0,
      "outputs": [
        {
          "output_type": "stream",
          "text": [
            "                            OLS Regression Results                            \n",
            "==============================================================================\n",
            "Dep. Variable:                      y   R-squared:                       0.833\n",
            "Model:                            OLS   Adj. R-squared:                  0.824\n",
            "Method:                 Least Squares   F-statistic:                     92.57\n",
            "Date:                Wed, 20 Mar 2019   Prob (F-statistic):           7.12e-41\n",
            "Time:                        23:11:08   Log-Likelihood:                -616.52\n",
            "No. Observations:                 117   AIC:                             1245.\n",
            "Df Residuals:                     111   BIC:                             1262.\n",
            "Df Model:                           6                                         \n",
            "Covariance Type:            nonrobust                                         \n",
            "==============================================================================\n",
            "                 coef    std err          t      P>|t|      [0.025      0.975]\n",
            "------------------------------------------------------------------------------\n",
            "x1            -6.2383      4.527     -1.378      0.171     -15.209       2.732\n",
            "x2             0.0174      0.016      1.078      0.283      -0.015       0.049\n",
            "x3         -4.835e-05   8.68e-05     -0.557      0.579      -0.000       0.000\n",
            "x4            -0.0104      0.003     -3.046      0.003      -0.017      -0.004\n",
            "x5            -0.2604      0.209     -1.247      0.215      -0.674       0.153\n",
            "x6             1.7937      1.004      1.786      0.077      -0.196       3.783\n",
            "==============================================================================\n",
            "Omnibus:                       42.800   Durbin-Watson:                   1.735\n",
            "Prob(Omnibus):                  0.000   Jarque-Bera (JB):             1333.996\n",
            "Skew:                           0.010   Prob(JB):                    2.12e-290\n",
            "Kurtosis:                      19.542   Cond. No.                     2.94e+05\n",
            "==============================================================================\n",
            "\n",
            "Warnings:\n",
            "[1] Standard Errors assume that the covariance matrix of the errors is correctly specified.\n",
            "[2] The condition number is large, 2.94e+05. This might indicate that there are\n",
            "strong multicollinearity or other numerical problems.\n",
            "MSE =  215682.65129238475\n"
          ],
          "name": "stdout"
        }
      ]
    },
    {
      "cell_type": "code",
      "metadata": {
        "id": "MnCWyVYD0vbq",
        "colab_type": "code",
        "outputId": "ec31c21c-7e4a-4c5c-858e-a0f2e18ab0a4",
        "colab": {
          "base_uri": "https://localhost:8080/",
          "height": 561
        }
      },
      "source": [
        "grouping(gopatriots1, 'pre')"
      ],
      "execution_count": 0,
      "outputs": [
        {
          "output_type": "stream",
          "text": [
            "                            OLS Regression Results                            \n",
            "==============================================================================\n",
            "Dep. Variable:                      y   R-squared:                       0.579\n",
            "Model:                            OLS   Adj. R-squared:                  0.573\n",
            "Method:                 Least Squares   F-statistic:                     86.52\n",
            "Date:                Wed, 20 Mar 2019   Prob (F-statistic):           8.07e-68\n",
            "Time:                        23:11:11   Log-Likelihood:                -2004.9\n",
            "No. Observations:                 383   AIC:                             4022.\n",
            "Df Residuals:                     377   BIC:                             4045.\n",
            "Df Model:                           6                                         \n",
            "Covariance Type:            nonrobust                                         \n",
            "==============================================================================\n",
            "                 coef    std err          t      P>|t|      [0.025      0.975]\n",
            "------------------------------------------------------------------------------\n",
            "x1             5.4502      2.579      2.114      0.035       0.380      10.520\n",
            "x2            -0.4255      0.130     -3.265      0.001      -0.682      -0.169\n",
            "x3            -0.0002   3.88e-05     -3.928      0.000      -0.000   -7.61e-05\n",
            "x4             0.0256      0.006      4.356      0.000       0.014       0.037\n",
            "x5            -0.5731      0.226     -2.538      0.012      -1.017      -0.129\n",
            "x6            -0.6207      0.498     -1.247      0.213      -1.600       0.358\n",
            "==============================================================================\n",
            "Omnibus:                      684.942   Durbin-Watson:                   2.104\n",
            "Prob(Omnibus):                  0.000   Jarque-Bera (JB):           344943.085\n",
            "Skew:                          10.760   Prob(JB):                         0.00\n",
            "Kurtosis:                     148.438   Cond. No.                     2.27e+05\n",
            "==============================================================================\n",
            "\n",
            "Warnings:\n",
            "[1] Standard Errors assume that the covariance matrix of the errors is correctly specified.\n",
            "[2] The condition number is large, 2.27e+05. This might indicate that there are\n",
            "strong multicollinearity or other numerical problems.\n",
            "MSE =  181233.80621390385\n"
          ],
          "name": "stdout"
        }
      ]
    },
    {
      "cell_type": "code",
      "metadata": {
        "id": "UMeDNGG50s2L",
        "colab_type": "code",
        "outputId": "37d5a3a9-0ece-4d69-d8f9-4e530c6ded49",
        "colab": {
          "base_uri": "https://localhost:8080/",
          "height": 561
        }
      },
      "source": [
        "grouping(gopatriots1, 'feb1')"
      ],
      "execution_count": 0,
      "outputs": [
        {
          "output_type": "stream",
          "text": [
            "                            OLS Regression Results                            \n",
            "==============================================================================\n",
            "Dep. Variable:                      y   R-squared:                       0.606\n",
            "Model:                            OLS   Adj. R-squared:                  0.589\n",
            "Method:                 Least Squares   F-statistic:                     35.16\n",
            "Date:                Wed, 20 Mar 2019   Prob (F-statistic):           1.72e-25\n",
            "Time:                        23:11:13   Log-Likelihood:                -892.81\n",
            "No. Observations:                 143   AIC:                             1798.\n",
            "Df Residuals:                     137   BIC:                             1815.\n",
            "Df Model:                           6                                         \n",
            "Covariance Type:            nonrobust                                         \n",
            "==============================================================================\n",
            "                 coef    std err          t      P>|t|      [0.025      0.975]\n",
            "------------------------------------------------------------------------------\n",
            "x1             3.9475      3.348      1.179      0.240      -2.672      10.567\n",
            "x2             0.7818      0.301      2.601      0.010       0.187       1.376\n",
            "x3         -8.904e-05   9.88e-05     -0.902      0.369      -0.000       0.000\n",
            "x4             0.0048      0.011      0.438      0.662      -0.017       0.027\n",
            "x5             0.1136      0.325      0.349      0.727      -0.529       0.756\n",
            "x6            -0.9067      0.647     -1.402      0.163      -2.186       0.372\n",
            "==============================================================================\n",
            "Omnibus:                      143.631   Durbin-Watson:                   2.127\n",
            "Prob(Omnibus):                  0.000   Jarque-Bera (JB):             2258.515\n",
            "Skew:                           3.710   Prob(JB):                         0.00\n",
            "Kurtosis:                      21.000   Cond. No.                     8.70e+04\n",
            "==============================================================================\n",
            "\n",
            "Warnings:\n",
            "[1] Standard Errors assume that the covariance matrix of the errors is correctly specified.\n",
            "[2] The condition number is large, 8.7e+04. This might indicate that there are\n",
            "strong multicollinearity or other numerical problems.\n",
            "MSE =  568985.0195461552\n"
          ],
          "name": "stdout"
        }
      ]
    },
    {
      "cell_type": "code",
      "metadata": {
        "id": "Ys0YEHw90yTE",
        "colab_type": "code",
        "outputId": "7ec6b969-f7bc-43ab-cc7b-453ab60b96bd",
        "colab": {
          "base_uri": "https://localhost:8080/",
          "height": 561
        }
      },
      "source": [
        "grouping(gopatriots1, 'post')"
      ],
      "execution_count": 0,
      "outputs": [
        {
          "output_type": "stream",
          "text": [
            "                            OLS Regression Results                            \n",
            "==============================================================================\n",
            "Dep. Variable:                      y   R-squared:                       0.842\n",
            "Model:                            OLS   Adj. R-squared:                  0.817\n",
            "Method:                 Least Squares   F-statistic:                     33.81\n",
            "Date:                Wed, 20 Mar 2019   Prob (F-statistic):           8.77e-14\n",
            "Time:                        23:11:16   Log-Likelihood:                -161.14\n",
            "No. Observations:                  44   AIC:                             334.3\n",
            "Df Residuals:                      38   BIC:                             345.0\n",
            "Df Model:                           6                                         \n",
            "Covariance Type:            nonrobust                                         \n",
            "==============================================================================\n",
            "                 coef    std err          t      P>|t|      [0.025      0.975]\n",
            "------------------------------------------------------------------------------\n",
            "x1            -2.1333      1.613     -1.323      0.194      -5.399       1.132\n",
            "x2             0.0980      0.040      2.437      0.020       0.017       0.179\n",
            "x3            -0.0001      0.000     -0.703      0.486      -0.000       0.000\n",
            "x4            -0.0142      0.004     -3.659      0.001      -0.022      -0.006\n",
            "x5            -0.1726      0.193     -0.894      0.377      -0.564       0.218\n",
            "x6             0.7415      0.322      2.299      0.027       0.089       1.394\n",
            "==============================================================================\n",
            "Omnibus:                        8.131   Durbin-Watson:                   1.867\n",
            "Prob(Omnibus):                  0.017   Jarque-Bera (JB):                8.839\n",
            "Skew:                           0.611   Prob(JB):                       0.0120\n",
            "Kurtosis:                       4.824   Cond. No.                     3.14e+04\n",
            "==============================================================================\n",
            "\n",
            "Warnings:\n",
            "[1] Standard Errors assume that the covariance matrix of the errors is correctly specified.\n",
            "[2] The condition number is large, 3.14e+04. This might indicate that there are\n",
            "strong multicollinearity or other numerical problems.\n",
            "MSE =  3477.058887595009\n"
          ],
          "name": "stdout"
        }
      ]
    },
    {
      "cell_type": "code",
      "metadata": {
        "id": "jAeXSmi001L-",
        "colab_type": "code",
        "outputId": "3b4d4212-cdf1-40df-ce35-3d63417be967",
        "colab": {
          "base_uri": "https://localhost:8080/",
          "height": 561
        }
      },
      "source": [
        "grouping(nfl1, 'pre')"
      ],
      "execution_count": 0,
      "outputs": [
        {
          "output_type": "stream",
          "text": [
            "                            OLS Regression Results                            \n",
            "==============================================================================\n",
            "Dep. Variable:                      y   R-squared:                       0.680\n",
            "Model:                            OLS   Adj. R-squared:                  0.676\n",
            "Method:                 Least Squares   F-statistic:                     153.4\n",
            "Date:                Wed, 20 Mar 2019   Prob (F-statistic):          7.81e-104\n",
            "Time:                        23:11:18   Log-Likelihood:                -3063.6\n",
            "No. Observations:                 439   AIC:                             6139.\n",
            "Df Residuals:                     433   BIC:                             6164.\n",
            "Df Model:                           6                                         \n",
            "Covariance Type:            nonrobust                                         \n",
            "==============================================================================\n",
            "                 coef    std err          t      P>|t|      [0.025      0.975]\n",
            "------------------------------------------------------------------------------\n",
            "x1             3.2801      1.109      2.959      0.003       1.101       5.459\n",
            "x2            -0.0131      0.047     -0.277      0.782      -0.106       0.080\n",
            "x3         -1.136e-05   1.27e-05     -0.897      0.370   -3.63e-05    1.35e-05\n",
            "x4             0.0076      0.002      4.056      0.000       0.004       0.011\n",
            "x5             0.0894      0.101      0.885      0.377      -0.109       0.288\n",
            "x6            -0.6708      0.240     -2.796      0.005      -1.142      -0.199\n",
            "==============================================================================\n",
            "Omnibus:                      707.350   Durbin-Watson:                   2.291\n",
            "Prob(Omnibus):                  0.000   Jarque-Bera (JB):           400098.151\n",
            "Skew:                           8.769   Prob(JB):                         0.00\n",
            "Kurtosis:                     149.853   Cond. No.                     2.36e+05\n",
            "==============================================================================\n",
            "\n",
            "Warnings:\n",
            "[1] Standard Errors assume that the covariance matrix of the errors is correctly specified.\n",
            "[2] The condition number is large, 2.36e+05. This might indicate that there are\n",
            "strong multicollinearity or other numerical problems.\n",
            "MSE =  10491016.440397756\n"
          ],
          "name": "stdout"
        }
      ]
    },
    {
      "cell_type": "code",
      "metadata": {
        "id": "DmbCkcxn0-9T",
        "colab_type": "code",
        "outputId": "6016a1a5-cc99-4fa9-e33b-6bb14dc5b108",
        "colab": {
          "base_uri": "https://localhost:8080/",
          "height": 561
        }
      },
      "source": [
        "grouping(nfl1, 'feb1')"
      ],
      "execution_count": 0,
      "outputs": [
        {
          "output_type": "stream",
          "text": [
            "                            OLS Regression Results                            \n",
            "==============================================================================\n",
            "Dep. Variable:                      y   R-squared:                       0.912\n",
            "Model:                            OLS   Adj. R-squared:                  0.908\n",
            "Method:                 Least Squares   F-statistic:                     236.6\n",
            "Date:                Wed, 20 Mar 2019   Prob (F-statistic):           1.02e-69\n",
            "Time:                        23:11:22   Log-Likelihood:                -909.58\n",
            "No. Observations:                 143   AIC:                             1831.\n",
            "Df Residuals:                     137   BIC:                             1849.\n",
            "Df Model:                           6                                         \n",
            "Covariance Type:            nonrobust                                         \n",
            "==============================================================================\n",
            "                 coef    std err          t      P>|t|      [0.025      0.975]\n",
            "------------------------------------------------------------------------------\n",
            "x1            -6.6411      2.289     -2.902      0.004     -11.167      -2.115\n",
            "x2            -0.2006      0.069     -2.912      0.004      -0.337      -0.064\n",
            "x3         -5.417e-05    1.6e-05     -3.378      0.001   -8.59e-05   -2.25e-05\n",
            "x4             0.0052      0.002      2.236      0.027       0.001       0.010\n",
            "x5             0.2582      0.114      2.271      0.025       0.033       0.483\n",
            "x6             1.5796      0.446      3.545      0.001       0.698       2.461\n",
            "==============================================================================\n",
            "Omnibus:                       39.799   Durbin-Watson:                   2.166\n",
            "Prob(Omnibus):                  0.000   Jarque-Bera (JB):              286.233\n",
            "Skew:                           0.686   Prob(JB):                     7.00e-63\n",
            "Kurtosis:                       9.794   Cond. No.                     4.40e+05\n",
            "==============================================================================\n",
            "\n",
            "Warnings:\n",
            "[1] Standard Errors assume that the covariance matrix of the errors is correctly specified.\n",
            "[2] The condition number is large, 4.4e+05. This might indicate that there are\n",
            "strong multicollinearity or other numerical problems.\n",
            "MSE =  4841559.396382773\n"
          ],
          "name": "stdout"
        }
      ]
    },
    {
      "cell_type": "code",
      "metadata": {
        "id": "R-oSrEIw1Bmb",
        "colab_type": "code",
        "outputId": "146ee24b-1ea6-488c-84cc-4ed20a1b8c24",
        "colab": {
          "base_uri": "https://localhost:8080/",
          "height": 561
        }
      },
      "source": [
        "grouping(nfl1, 'post')"
      ],
      "execution_count": 0,
      "outputs": [
        {
          "output_type": "stream",
          "text": [
            "                            OLS Regression Results                            \n",
            "==============================================================================\n",
            "Dep. Variable:                      y   R-squared:                       0.944\n",
            "Model:                            OLS   Adj. R-squared:                  0.942\n",
            "Method:                 Least Squares   F-statistic:                     351.5\n",
            "Date:                Wed, 20 Mar 2019   Prob (F-statistic):           2.62e-75\n",
            "Time:                        23:11:25   Log-Likelihood:                -822.07\n",
            "No. Observations:                 130   AIC:                             1656.\n",
            "Df Residuals:                     124   BIC:                             1673.\n",
            "Df Model:                           6                                         \n",
            "Covariance Type:            nonrobust                                         \n",
            "==============================================================================\n",
            "                 coef    std err          t      P>|t|      [0.025      0.975]\n",
            "------------------------------------------------------------------------------\n",
            "x1            -0.4838      0.957     -0.506      0.614      -2.378       1.410\n",
            "x2            -0.0148      0.057     -0.259      0.796      -0.128       0.098\n",
            "x3          1.701e-05   1.88e-05      0.903      0.368   -2.03e-05    5.43e-05\n",
            "x4            -0.0025      0.003     -0.924      0.357      -0.008       0.003\n",
            "x5            -0.0115      0.067     -0.172      0.863      -0.144       0.121\n",
            "x6             0.3498      0.213      1.639      0.104      -0.073       0.772\n",
            "==============================================================================\n",
            "Omnibus:                       29.714   Durbin-Watson:                   2.067\n",
            "Prob(Omnibus):                  0.000   Jarque-Bera (JB):               81.986\n",
            "Skew:                           0.834   Prob(JB):                     1.57e-18\n",
            "Kurtosis:                       6.514   Cond. No.                     2.28e+05\n",
            "==============================================================================\n",
            "\n",
            "Warnings:\n",
            "[1] Standard Errors assume that the covariance matrix of the errors is correctly specified.\n",
            "[2] The condition number is large, 2.28e+05. This might indicate that there are\n",
            "strong multicollinearity or other numerical problems.\n",
            "MSE =  6707544.134882121\n"
          ],
          "name": "stdout"
        }
      ]
    },
    {
      "cell_type": "code",
      "metadata": {
        "id": "zE1KMGSk1EL_",
        "colab_type": "code",
        "outputId": "e0016499-a179-4108-bac8-af76d2038b70",
        "colab": {
          "base_uri": "https://localhost:8080/",
          "height": 561
        }
      },
      "source": [
        "grouping(patriots1, 'pre')"
      ],
      "execution_count": 0,
      "outputs": [
        {
          "output_type": "stream",
          "text": [
            "                            OLS Regression Results                            \n",
            "==============================================================================\n",
            "Dep. Variable:                      y   R-squared:                       0.598\n",
            "Model:                            OLS   Adj. R-squared:                  0.593\n",
            "Method:                 Least Squares   F-statistic:                     107.5\n",
            "Date:                Wed, 20 Mar 2019   Prob (F-statistic):           1.47e-82\n",
            "Time:                        23:11:27   Log-Likelihood:                -3426.3\n",
            "No. Observations:                 439   AIC:                             6865.\n",
            "Df Residuals:                     433   BIC:                             6889.\n",
            "Df Model:                           6                                         \n",
            "Covariance Type:            nonrobust                                         \n",
            "==============================================================================\n",
            "                 coef    std err          t      P>|t|      [0.025      0.975]\n",
            "------------------------------------------------------------------------------\n",
            "x1            -8.9556      3.093     -2.895      0.004     -15.036      -2.876\n",
            "x2             0.0616      0.080      0.767      0.444      -0.096       0.219\n",
            "x3          5.279e-05   2.59e-05      2.037      0.042    1.86e-06       0.000\n",
            "x4             0.0014      0.003      0.529      0.597      -0.004       0.007\n",
            "x5            -0.0396      0.166     -0.238      0.812      -0.366       0.287\n",
            "x6             2.0145      0.611      3.300      0.001       0.815       3.214\n",
            "==============================================================================\n",
            "Omnibus:                      625.728   Durbin-Watson:                   2.078\n",
            "Prob(Omnibus):                  0.000   Jarque-Bera (JB):           228355.505\n",
            "Skew:                           6.977   Prob(JB):                         0.00\n",
            "Kurtosis:                     113.858   Cond. No.                     4.49e+05\n",
            "==============================================================================\n",
            "\n",
            "Warnings:\n",
            "[1] Standard Errors assume that the covariance matrix of the errors is correctly specified.\n",
            "[2] The condition number is large, 4.49e+05. This might indicate that there are\n",
            "strong multicollinearity or other numerical problems.\n",
            "MSE =  38374894.26477408\n"
          ],
          "name": "stdout"
        }
      ]
    },
    {
      "cell_type": "code",
      "metadata": {
        "id": "XtXKjw_q1Gul",
        "colab_type": "code",
        "outputId": "c3ec0a0e-8f69-4360-bad7-1bc8bb25633f",
        "colab": {
          "base_uri": "https://localhost:8080/",
          "height": 561
        }
      },
      "source": [
        "grouping(patriots1, 'feb1')"
      ],
      "execution_count": 0,
      "outputs": [
        {
          "output_type": "stream",
          "text": [
            "                            OLS Regression Results                            \n",
            "==============================================================================\n",
            "Dep. Variable:                      y   R-squared:                       0.877\n",
            "Model:                            OLS   Adj. R-squared:                  0.872\n",
            "Method:                 Least Squares   F-statistic:                     163.3\n",
            "Date:                Wed, 20 Mar 2019   Prob (F-statistic):           7.07e-60\n",
            "Time:                        23:11:36   Log-Likelihood:                -1170.4\n",
            "No. Observations:                 143   AIC:                             2353.\n",
            "Df Residuals:                     137   BIC:                             2370.\n",
            "Df Model:                           6                                         \n",
            "Covariance Type:            nonrobust                                         \n",
            "==============================================================================\n",
            "                 coef    std err          t      P>|t|      [0.025      0.975]\n",
            "------------------------------------------------------------------------------\n",
            "x1             2.6952      1.448      1.862      0.065      -0.167       5.558\n",
            "x2            -0.1162      0.237     -0.491      0.625      -0.585       0.352\n",
            "x3         -1.025e-05   7.69e-05     -0.133      0.894      -0.000       0.000\n",
            "x4             0.0012      0.008      0.142      0.887      -0.015       0.018\n",
            "x5             0.0296      0.154      0.193      0.847      -0.274       0.334\n",
            "x6            -0.3946      0.365     -1.081      0.281      -1.116       0.327\n",
            "==============================================================================\n",
            "Omnibus:                      114.894   Durbin-Watson:                   2.057\n",
            "Prob(Omnibus):                  0.000   Jarque-Bera (JB):             1065.897\n",
            "Skew:                           2.887   Prob(JB):                    3.50e-232\n",
            "Kurtosis:                      15.064   Cond. No.                     1.03e+05\n",
            "==============================================================================\n",
            "\n",
            "Warnings:\n",
            "[1] Standard Errors assume that the covariance matrix of the errors is correctly specified.\n",
            "[2] The condition number is large, 1.03e+05. This might indicate that there are\n",
            "strong multicollinearity or other numerical problems.\n",
            "MSE =  128244454.48960054\n"
          ],
          "name": "stdout"
        }
      ]
    },
    {
      "cell_type": "code",
      "metadata": {
        "id": "swnxiXyU1JvB",
        "colab_type": "code",
        "outputId": "9b794392-3d03-42fd-c05e-67404d78bd3f",
        "colab": {
          "base_uri": "https://localhost:8080/",
          "height": 561
        }
      },
      "source": [
        "grouping(patriots1, 'post')"
      ],
      "execution_count": 0,
      "outputs": [
        {
          "output_type": "stream",
          "text": [
            "                            OLS Regression Results                            \n",
            "==============================================================================\n",
            "Dep. Variable:                      y   R-squared:                       0.920\n",
            "Model:                            OLS   Adj. R-squared:                  0.916\n",
            "Method:                 Least Squares   F-statistic:                     244.7\n",
            "Date:                Wed, 20 Mar 2019   Prob (F-statistic):           1.33e-67\n",
            "Time:                        23:12:13   Log-Likelihood:                -803.19\n",
            "No. Observations:                 134   AIC:                             1618.\n",
            "Df Residuals:                     128   BIC:                             1636.\n",
            "Df Model:                           6                                         \n",
            "Covariance Type:            nonrobust                                         \n",
            "==============================================================================\n",
            "                 coef    std err          t      P>|t|      [0.025      0.975]\n",
            "------------------------------------------------------------------------------\n",
            "x1             0.4967      1.104      0.450      0.653      -1.688       2.681\n",
            "x2            -0.1020      0.010    -10.374      0.000      -0.121      -0.083\n",
            "x3          -1.39e-05   7.91e-06     -1.757      0.081   -2.96e-05    1.75e-06\n",
            "x4             0.0050      0.001      5.205      0.000       0.003       0.007\n",
            "x5             0.0013      0.127      0.010      0.992      -0.249       0.252\n",
            "x6             0.0545      0.184      0.296      0.768      -0.310       0.419\n",
            "==============================================================================\n",
            "Omnibus:                       37.880   Durbin-Watson:                   2.454\n",
            "Prob(Omnibus):                  0.000   Jarque-Bera (JB):              458.695\n",
            "Skew:                           0.421   Prob(JB):                    2.49e-100\n",
            "Kurtosis:                      12.025   Cond. No.                     4.11e+05\n",
            "==============================================================================\n",
            "\n",
            "Warnings:\n",
            "[1] Standard Errors assume that the covariance matrix of the errors is correctly specified.\n",
            "[2] The condition number is large, 4.11e+05. This might indicate that there are\n",
            "strong multicollinearity or other numerical problems.\n",
            "MSE =  2411796.2274158695\n"
          ],
          "name": "stdout"
        }
      ]
    },
    {
      "cell_type": "code",
      "metadata": {
        "id": "v4hiMUog1OCv",
        "colab_type": "code",
        "outputId": "6d20e842-8894-4622-b9d4-2a00cf42c353",
        "colab": {
          "base_uri": "https://localhost:8080/",
          "height": 561
        }
      },
      "source": [
        "grouping(sb491, 'pre')"
      ],
      "execution_count": 0,
      "outputs": [
        {
          "output_type": "stream",
          "text": [
            "                            OLS Regression Results                            \n",
            "==============================================================================\n",
            "Dep. Variable:                      y   R-squared:                       0.897\n",
            "Model:                            OLS   Adj. R-squared:                  0.896\n",
            "Method:                 Least Squares   F-statistic:                     557.0\n",
            "Date:                Wed, 20 Mar 2019   Prob (F-statistic):          9.79e-186\n",
            "Time:                        23:12:16   Log-Likelihood:                -2275.4\n",
            "No. Observations:                 389   AIC:                             4563.\n",
            "Df Residuals:                     383   BIC:                             4587.\n",
            "Df Model:                           6                                         \n",
            "Covariance Type:            nonrobust                                         \n",
            "==============================================================================\n",
            "                 coef    std err          t      P>|t|      [0.025      0.975]\n",
            "------------------------------------------------------------------------------\n",
            "x1            -2.5501      0.712     -3.582      0.000      -3.950      -1.150\n",
            "x2             0.0218      0.005      4.079      0.000       0.011       0.032\n",
            "x3          1.256e-06   1.97e-06      0.637      0.525   -2.62e-06    5.13e-06\n",
            "x4            -0.0015      0.000     -4.289      0.000      -0.002      -0.001\n",
            "x5            -0.3052      0.081     -3.762      0.000      -0.465      -0.146\n",
            "x6             0.9988      0.162      6.148      0.000       0.679       1.318\n",
            "==============================================================================\n",
            "Omnibus:                      187.529   Durbin-Watson:                   1.498\n",
            "Prob(Omnibus):                  0.000   Jarque-Bera (JB):             4420.794\n",
            "Skew:                           1.487   Prob(JB):                         0.00\n",
            "Kurtosis:                      19.245   Cond. No.                     1.64e+06\n",
            "==============================================================================\n",
            "\n",
            "Warnings:\n",
            "[1] Standard Errors assume that the covariance matrix of the errors is correctly specified.\n",
            "[2] The condition number is large, 1.64e+06. This might indicate that there are\n",
            "strong multicollinearity or other numerical problems.\n",
            "MSE =  3988565.0280795656\n"
          ],
          "name": "stdout"
        }
      ]
    },
    {
      "cell_type": "code",
      "metadata": {
        "id": "OI_Bd1JW1Tit",
        "colab_type": "code",
        "outputId": "d560096e-0134-4686-8259-07ef7fb9e597",
        "colab": {
          "base_uri": "https://localhost:8080/",
          "height": 561
        }
      },
      "source": [
        "grouping(sb491, 'feb1')"
      ],
      "execution_count": 0,
      "outputs": [
        {
          "output_type": "stream",
          "text": [
            "                            OLS Regression Results                            \n",
            "==============================================================================\n",
            "Dep. Variable:                      y   R-squared:                       0.955\n",
            "Model:                            OLS   Adj. R-squared:                  0.953\n",
            "Method:                 Least Squares   F-statistic:                     486.9\n",
            "Date:                Wed, 20 Mar 2019   Prob (F-statistic):           9.05e-90\n",
            "Time:                        23:12:31   Log-Likelihood:                -1211.9\n",
            "No. Observations:                 143   AIC:                             2436.\n",
            "Df Residuals:                     137   BIC:                             2454.\n",
            "Df Model:                           6                                         \n",
            "Covariance Type:            nonrobust                                         \n",
            "==============================================================================\n",
            "                 coef    std err          t      P>|t|      [0.025      0.975]\n",
            "------------------------------------------------------------------------------\n",
            "x1             1.4753      1.080      1.367      0.174      -0.660       3.610\n",
            "x2            -0.0193      0.041     -0.477      0.634      -0.099       0.061\n",
            "x3          1.303e-05   1.38e-05      0.945      0.346   -1.42e-05    4.03e-05\n",
            "x4            -0.0012      0.002     -0.769      0.443      -0.004       0.002\n",
            "x5            -0.1024      0.176     -0.581      0.562      -0.451       0.246\n",
            "x6            -0.0621      0.235     -0.265      0.792      -0.527       0.402\n",
            "==============================================================================\n",
            "Omnibus:                       44.790   Durbin-Watson:                   2.370\n",
            "Prob(Omnibus):                  0.000   Jarque-Bera (JB):              688.909\n",
            "Skew:                          -0.495   Prob(JB):                    2.54e-150\n",
            "Kurtosis:                      13.707   Cond. No.                     5.41e+05\n",
            "==============================================================================\n",
            "\n",
            "Warnings:\n",
            "[1] Standard Errors assume that the covariance matrix of the errors is correctly specified.\n",
            "[2] The condition number is large, 5.41e+05. This might indicate that there are\n",
            "strong multicollinearity or other numerical problems.\n",
            "MSE =  683468363.5443547\n"
          ],
          "name": "stdout"
        }
      ]
    },
    {
      "cell_type": "code",
      "metadata": {
        "id": "hvVu_-7_1V13",
        "colab_type": "code",
        "outputId": "e5f58349-6816-4805-ec57-9de2432386ed",
        "colab": {
          "base_uri": "https://localhost:8080/",
          "height": 561
        }
      },
      "source": [
        "grouping(sb491, 'post')"
      ],
      "execution_count": 0,
      "outputs": [
        {
          "output_type": "stream",
          "text": [
            "                            OLS Regression Results                            \n",
            "==============================================================================\n",
            "Dep. Variable:                      y   R-squared:                       0.902\n",
            "Model:                            OLS   Adj. R-squared:                  0.898\n",
            "Method:                 Least Squares   F-statistic:                     197.2\n",
            "Date:                Wed, 20 Mar 2019   Prob (F-statistic):           3.76e-62\n",
            "Time:                        23:12:38   Log-Likelihood:                -913.63\n",
            "No. Observations:                 134   AIC:                             1839.\n",
            "Df Residuals:                     128   BIC:                             1857.\n",
            "Df Model:                           6                                         \n",
            "Covariance Type:            nonrobust                                         \n",
            "==============================================================================\n",
            "                 coef    std err          t      P>|t|      [0.025      0.975]\n",
            "------------------------------------------------------------------------------\n",
            "x1           -16.8252      2.294     -7.335      0.000     -21.364     -12.287\n",
            "x2             0.0149      0.011      1.420      0.158      -0.006       0.036\n",
            "x3          -4.01e-06    4.4e-06     -0.912      0.364   -1.27e-05    4.69e-06\n",
            "x4             0.0011      0.001      1.511      0.133      -0.000       0.002\n",
            "x5             1.2658      0.317      3.992      0.000       0.638       1.893\n",
            "x6             3.2916      0.415      7.929      0.000       2.470       4.113\n",
            "==============================================================================\n",
            "Omnibus:                       98.711   Durbin-Watson:                   1.971\n",
            "Prob(Omnibus):                  0.000   Jarque-Bera (JB):             3431.689\n",
            "Skew:                           1.898   Prob(JB):                         0.00\n",
            "Kurtosis:                      27.500   Cond. No.                     2.21e+06\n",
            "==============================================================================\n",
            "\n",
            "Warnings:\n",
            "[1] Standard Errors assume that the covariance matrix of the errors is correctly specified.\n",
            "[2] The condition number is large, 2.21e+06. This might indicate that there are\n",
            "strong multicollinearity or other numerical problems.\n",
            "MSE =  10103917.168603303\n"
          ],
          "name": "stdout"
        }
      ]
    },
    {
      "cell_type": "code",
      "metadata": {
        "id": "d5KYems11Zv1",
        "colab_type": "code",
        "outputId": "3dbe590b-817f-452e-f564-08b85f2edb49",
        "colab": {
          "base_uri": "https://localhost:8080/",
          "height": 561
        }
      },
      "source": [
        "grouping(superbowl1, 'pre')"
      ],
      "execution_count": 0,
      "outputs": [
        {
          "output_type": "stream",
          "text": [
            "                            OLS Regression Results                            \n",
            "==============================================================================\n",
            "Dep. Variable:                      y   R-squared:                       0.524\n",
            "Model:                            OLS   Adj. R-squared:                  0.517\n",
            "Method:                 Least Squares   F-statistic:                     79.46\n",
            "Date:                Wed, 20 Mar 2019   Prob (F-statistic):           1.02e-66\n",
            "Time:                        23:12:41   Log-Likelihood:                -3504.5\n",
            "No. Observations:                 439   AIC:                             7021.\n",
            "Df Residuals:                     433   BIC:                             7045.\n",
            "Df Model:                           6                                         \n",
            "Covariance Type:            nonrobust                                         \n",
            "==============================================================================\n",
            "                 coef    std err          t      P>|t|      [0.025      0.975]\n",
            "------------------------------------------------------------------------------\n",
            "x1             2.3041      1.881      1.225      0.221      -1.393       6.001\n",
            "x2            -0.1269      0.074     -1.709      0.088      -0.273       0.019\n",
            "x3          4.537e-06   1.06e-05      0.428      0.669   -1.63e-05    2.54e-05\n",
            "x4             0.0024      0.001      1.940      0.053   -3.16e-05       0.005\n",
            "x5             0.3681      0.090      4.081      0.000       0.191       0.545\n",
            "x6            -0.5546      0.442     -1.256      0.210      -1.423       0.313\n",
            "==============================================================================\n",
            "Omnibus:                      616.172   Durbin-Watson:                   2.010\n",
            "Prob(Omnibus):                  0.000   Jarque-Bera (JB):           114750.150\n",
            "Skew:                           7.100   Prob(JB):                         0.00\n",
            "Kurtosis:                      80.921   Cond. No.                     7.92e+05\n",
            "==============================================================================\n",
            "\n",
            "Warnings:\n",
            "[1] Standard Errors assume that the covariance matrix of the errors is correctly specified.\n",
            "[2] The condition number is large, 7.92e+05. This might indicate that there are\n",
            "strong multicollinearity or other numerical problems.\n",
            "MSE =  40507492.13286132\n"
          ],
          "name": "stdout"
        }
      ]
    },
    {
      "cell_type": "code",
      "metadata": {
        "id": "QWmW1o3M1cAZ",
        "colab_type": "code",
        "outputId": "5b8d62a0-1153-4613-98e3-b5bf45b07150",
        "colab": {
          "base_uri": "https://localhost:8080/",
          "height": 561
        }
      },
      "source": [
        "grouping(superbowl1, 'feb1')"
      ],
      "execution_count": 0,
      "outputs": [
        {
          "output_type": "stream",
          "text": [
            "                            OLS Regression Results                            \n",
            "==============================================================================\n",
            "Dep. Variable:                      y   R-squared:                       0.953\n",
            "Model:                            OLS   Adj. R-squared:                  0.951\n",
            "Method:                 Least Squares   F-statistic:                     463.9\n",
            "Date:                Wed, 20 Mar 2019   Prob (F-statistic):           2.15e-88\n",
            "Time:                        23:13:44   Log-Likelihood:                -1304.1\n",
            "No. Observations:                 143   AIC:                             2620.\n",
            "Df Residuals:                     137   BIC:                             2638.\n",
            "Df Model:                           6                                         \n",
            "Covariance Type:            nonrobust                                         \n",
            "==============================================================================\n",
            "                 coef    std err          t      P>|t|      [0.025      0.975]\n",
            "------------------------------------------------------------------------------\n",
            "x1            -0.8981      2.702     -0.332      0.740      -6.241       4.445\n",
            "x2            -0.2624      0.037     -7.008      0.000      -0.336      -0.188\n",
            "x3          -2.94e-05   1.11e-05     -2.638      0.009   -5.14e-05   -7.37e-06\n",
            "x4             0.0097      0.001      6.456      0.000       0.007       0.013\n",
            "x5            -0.2343      0.187     -1.253      0.212      -0.604       0.136\n",
            "x6             0.5376      0.537      1.002      0.318      -0.524       1.599\n",
            "==============================================================================\n",
            "Omnibus:                       22.434   Durbin-Watson:                   2.095\n",
            "Prob(Omnibus):                  0.000   Jarque-Bera (JB):               83.541\n",
            "Skew:                           0.421   Prob(JB):                     7.23e-19\n",
            "Kurtosis:                       6.649   Cond. No.                     1.00e+06\n",
            "==============================================================================\n",
            "\n",
            "Warnings:\n",
            "[1] Standard Errors assume that the covariance matrix of the errors is correctly specified.\n",
            "[2] The condition number is large,  1e+06. This might indicate that there are\n",
            "strong multicollinearity or other numerical problems.\n",
            "MSE =  2365072120.8940716\n"
          ],
          "name": "stdout"
        }
      ]
    },
    {
      "cell_type": "code",
      "metadata": {
        "id": "Hh_Snwyl1e-m",
        "colab_type": "code",
        "outputId": "0ab49fda-4fed-4a0a-e91e-198fa1328c82",
        "colab": {
          "base_uri": "https://localhost:8080/",
          "height": 561
        }
      },
      "source": [
        "grouping(superbowl1, 'post')"
      ],
      "execution_count": 0,
      "outputs": [
        {
          "output_type": "stream",
          "text": [
            "                            OLS Regression Results                            \n",
            "==============================================================================\n",
            "Dep. Variable:                      y   R-squared:                       0.904\n",
            "Model:                            OLS   Adj. R-squared:                  0.900\n",
            "Method:                 Least Squares   F-statistic:                     201.1\n",
            "Date:                Wed, 20 Mar 2019   Prob (F-statistic):           1.21e-62\n",
            "Time:                        23:13:55   Log-Likelihood:                -970.04\n",
            "No. Observations:                 134   AIC:                             1952.\n",
            "Df Residuals:                     128   BIC:                             1969.\n",
            "Df Model:                           6                                         \n",
            "Covariance Type:            nonrobust                                         \n",
            "==============================================================================\n",
            "                 coef    std err          t      P>|t|      [0.025      0.975]\n",
            "------------------------------------------------------------------------------\n",
            "x1            -3.8043      1.617     -2.353      0.020      -7.003      -0.605\n",
            "x2            -0.0667      0.014     -4.824      0.000      -0.094      -0.039\n",
            "x3          2.324e-05   1.03e-05      2.252      0.026    2.82e-06    4.37e-05\n",
            "x4            -0.0013      0.002     -0.846      0.399      -0.004       0.002\n",
            "x5             0.2309      0.105      2.191      0.030       0.022       0.440\n",
            "x6             0.9078      0.366      2.480      0.014       0.183       1.632\n",
            "==============================================================================\n",
            "Omnibus:                      170.993   Durbin-Watson:                   2.070\n",
            "Prob(Omnibus):                  0.000   Jarque-Bera (JB):             9802.575\n",
            "Skew:                           4.546   Prob(JB):                         0.00\n",
            "Kurtosis:                      43.902   Cond. No.                     1.16e+06\n",
            "==============================================================================\n",
            "\n",
            "Warnings:\n",
            "[1] Standard Errors assume that the covariance matrix of the errors is correctly specified.\n",
            "[2] The condition number is large, 1.16e+06. This might indicate that there are\n",
            "strong multicollinearity or other numerical problems.\n",
            "MSE =  23913775.726271693\n"
          ],
          "name": "stdout"
        }
      ]
    },
    {
      "cell_type": "markdown",
      "metadata": {
        "id": "uBuxoC0GaCxM",
        "colab_type": "text"
      },
      "source": [
        "QUESTION 7: Also, aggregate the data of all hashtags, and train 3 models (for the intervals mentioned above) to predict the number of tweets in the next hour on the aggregated data.\n",
        "Perform the same evaluations on your combined model and compare with models you trained for individual hashtags."
      ]
    },
    {
      "cell_type": "code",
      "metadata": {
        "id": "VP3eZpOU08Hw",
        "colab_type": "code",
        "colab": {}
      },
      "source": [
        "def grouping_data(data, time_option):\n",
        "  start = datetime.datetime(2015, 2, 1, 8, 0, 0).timestamp()\n",
        "  end = datetime.datetime(2015, 2, 1, 20, 0, 0).timestamp()\n",
        "  if(time_option == 'pre'):\n",
        "    data_pre = data.loc[data['timestamp'] < start]\n",
        "    df = data_pre.groupby(by=['month', 'day', 'hour']).agg({'tweet': sum,\n",
        "                                                       'retweet': sum,\n",
        "                                                       'followers': sum,\n",
        "                                                       'listed_count': sum,\n",
        "                                                       'hashtag_count': sum,\n",
        "                                                       'rank_score': sum\n",
        "                                                       })\n",
        "    \n",
        "  elif(time_option == 'feb1'):\n",
        "    data_feb1 = data.loc[(data['timestamp'] >= start) & (data['timestamp'] <= end)]\n",
        "    data_feb1.index = pd.to_datetime(data_feb1.time)\n",
        "    df = data_feb1[['tweet', 'retweet', 'followers','listed_count','hashtag_count', 'rank_score']].resample('5T').sum()\n",
        "    \n",
        "  elif(time_option == 'post'):\n",
        "    data_post = data.loc[data['timestamp'] > end]\n",
        "    df = data_post.groupby(by=['month', 'day', 'hour']).agg({'tweet': sum,\n",
        "                                                   'retweet': sum,\n",
        "                                                   'followers': sum,\n",
        "                                                   'listed_count': sum,\n",
        "                                                   'hashtag_count': sum,\n",
        "                                                   'rank_score': sum\n",
        "                                                   })\n",
        "  return df"
      ],
      "execution_count": 0,
      "outputs": []
    },
    {
      "cell_type": "code",
      "metadata": {
        "id": "35Avlmh5aECQ",
        "colab_type": "code",
        "colab": {}
      },
      "source": [
        "gohawks1 = pd.read_csv('./ECE219_tweet_data/extractedfeature#gohawks.csv')\n",
        "gopatriots1 = pd.read_csv('./ECE219_tweet_data/extractedfeature#gopatriots.csv')\n",
        "nfl1 = pd.read_csv('./ECE219_tweet_data/extractedfeature#nfl.csv')\n",
        "patriots1 = pd.read_csv('./ECE219_tweet_data/extractedfeature#patriots.csv')\n",
        "sb491 = pd.read_csv('./ECE219_tweet_data/extractedfeature#sb49.csv')\n",
        "superbowl1 = pd.read_csv('./ECE219_tweet_data/extractedfeature#superbowl.csv')"
      ],
      "execution_count": 0,
      "outputs": []
    },
    {
      "cell_type": "code",
      "metadata": {
        "id": "6F7zCszJ9kWR",
        "colab_type": "code",
        "colab": {}
      },
      "source": [
        "data_pre = pd.concat([grouping_data(gohawks1, 'pre'),\n",
        "                      grouping_data(gopatriots1, 'pre'),\n",
        "                      grouping_data(nfl1, 'pre'),\n",
        "                      grouping_data(patriots1, 'pre'),\n",
        "                      grouping_data(sb491, 'pre'),\n",
        "                      grouping_data(superbowl1, 'pre')])"
      ],
      "execution_count": 0,
      "outputs": []
    },
    {
      "cell_type": "code",
      "metadata": {
        "id": "JNZLh5fV-Hsc",
        "colab_type": "code",
        "colab": {}
      },
      "source": [
        "data_post = pd.concat([grouping_data(gohawks1, 'post'),\n",
        "                      grouping_data(gopatriots1, 'post'),\n",
        "                      grouping_data(nfl1, 'post'),\n",
        "                      grouping_data(patriots1, 'post'),\n",
        "                      grouping_data(sb491, 'post'),\n",
        "                      grouping_data(superbowl1, 'post')])"
      ],
      "execution_count": 0,
      "outputs": []
    },
    {
      "cell_type": "code",
      "metadata": {
        "id": "VSwYauIq-QdN",
        "colab_type": "code",
        "colab": {}
      },
      "source": [
        "data_feb1 = pd.concat([grouping_data(gohawks1, 'feb1'),\n",
        "                      grouping_data(gopatriots1, 'feb1'),\n",
        "                      grouping_data(nfl1, 'feb1'),\n",
        "                      grouping_data(patriots1, 'feb1'),\n",
        "                      grouping_data(sb491, 'feb1'),\n",
        "                      grouping_data(superbowl1, 'feb1')])"
      ],
      "execution_count": 0,
      "outputs": []
    },
    {
      "cell_type": "code",
      "metadata": {
        "id": "8GcsC9CI-hVA",
        "colab_type": "code",
        "colab": {}
      },
      "source": [
        "def ols_fitting(df):\n",
        "  y = df.values[1:, 0]\n",
        "  X = df.values[:-1, 0:]\n",
        "  results = sm.OLS(y,X).fit()\n",
        "  print(results.summary())\n",
        "  print('MSE = ', results.mse_model)"
      ],
      "execution_count": 0,
      "outputs": []
    },
    {
      "cell_type": "code",
      "metadata": {
        "id": "w3or18to-rtD",
        "colab_type": "code",
        "outputId": "097b054d-6f5e-4e5b-c1cd-4d9030323e71",
        "colab": {
          "base_uri": "https://localhost:8080/",
          "height": 561
        }
      },
      "source": [
        "ols_fitting(data_pre)"
      ],
      "execution_count": 0,
      "outputs": [
        {
          "output_type": "stream",
          "text": [
            "                            OLS Regression Results                            \n",
            "==============================================================================\n",
            "Dep. Variable:                      y   R-squared:                       0.466\n",
            "Model:                            OLS   Adj. R-squared:                  0.465\n",
            "Method:                 Least Squares   F-statistic:                     367.9\n",
            "Date:                Fri, 22 Mar 2019   Prob (F-statistic):               0.00\n",
            "Time:                        16:37:08   Log-Likelihood:                -19588.\n",
            "No. Observations:                2533   AIC:                         3.919e+04\n",
            "Df Residuals:                    2527   BIC:                         3.922e+04\n",
            "Df Model:                           6                                         \n",
            "Covariance Type:            nonrobust                                         \n",
            "==============================================================================\n",
            "                 coef    std err          t      P>|t|      [0.025      0.975]\n",
            "------------------------------------------------------------------------------\n",
            "x1            -3.3776      0.639     -5.286      0.000      -4.631      -2.125\n",
            "x2            -0.0416      0.020     -2.042      0.041      -0.081      -0.002\n",
            "x3         -6.427e-06    5.9e-06     -1.090      0.276    -1.8e-05    5.14e-06\n",
            "x4             0.0026      0.001      3.786      0.000       0.001       0.004\n",
            "x5             0.2218      0.034      6.510      0.000       0.155       0.289\n",
            "x6             0.7608      0.136      5.584      0.000       0.494       1.028\n",
            "==============================================================================\n",
            "Omnibus:                     4800.040   Durbin-Watson:                   2.105\n",
            "Prob(Omnibus):                  0.000   Jarque-Bera (JB):         13467187.997\n",
            "Skew:                          13.967   Prob(JB):                         0.00\n",
            "Kurtosis:                     359.118   Cond. No.                     4.36e+05\n",
            "==============================================================================\n",
            "\n",
            "Warnings:\n",
            "[1] Standard Errors assume that the covariance matrix of the errors is correctly specified.\n",
            "[2] The condition number is large, 4.36e+05. This might indicate that there are\n",
            "strong multicollinearity or other numerical problems.\n",
            "MSE =  112532266.46681066\n"
          ],
          "name": "stdout"
        }
      ]
    },
    {
      "cell_type": "code",
      "metadata": {
        "id": "GDdg1kcf-uRt",
        "colab_type": "code",
        "outputId": "0f0c5238-5000-4576-ed18-416d80d40e1d",
        "colab": {
          "base_uri": "https://localhost:8080/",
          "height": 561
        }
      },
      "source": [
        "ols_fitting(data_feb1)"
      ],
      "execution_count": 0,
      "outputs": [
        {
          "output_type": "stream",
          "text": [
            "                            OLS Regression Results                            \n",
            "==============================================================================\n",
            "Dep. Variable:                      y   R-squared:                       0.942\n",
            "Model:                            OLS   Adj. R-squared:                  0.941\n",
            "Method:                 Least Squares   F-statistic:                     2314.\n",
            "Date:                Wed, 20 Mar 2019   Prob (F-statistic):               0.00\n",
            "Time:                        23:40:43   Log-Likelihood:                -7317.7\n",
            "No. Observations:                 863   AIC:                         1.465e+04\n",
            "Df Residuals:                     857   BIC:                         1.468e+04\n",
            "Df Model:                           6                                         \n",
            "Covariance Type:            nonrobust                                         \n",
            "==============================================================================\n",
            "                 coef    std err          t      P>|t|      [0.025      0.975]\n",
            "------------------------------------------------------------------------------\n",
            "x1             2.3026      0.342      6.741      0.000       1.632       2.973\n",
            "x2            -0.1684      0.014    -12.034      0.000      -0.196      -0.141\n",
            "x3         -2.757e-05   4.23e-06     -6.517      0.000   -3.59e-05   -1.93e-05\n",
            "x4             0.0058      0.001     10.224      0.000       0.005       0.007\n",
            "x5            -0.2687      0.054     -4.950      0.000      -0.375      -0.162\n",
            "x6            -0.1407      0.063     -2.240      0.025      -0.264      -0.017\n",
            "==============================================================================\n",
            "Omnibus:                      272.702   Durbin-Watson:                   2.004\n",
            "Prob(Omnibus):                  0.000   Jarque-Bera (JB):            18196.424\n",
            "Skew:                           0.511   Prob(JB):                         0.00\n",
            "Kurtosis:                      25.472   Cond. No.                     3.00e+05\n",
            "==============================================================================\n",
            "\n",
            "Warnings:\n",
            "[1] Standard Errors assume that the covariance matrix of the errors is correctly specified.\n",
            "[2] The condition number is large,  3e+05. This might indicate that there are\n",
            "strong multicollinearity or other numerical problems.\n",
            "MSE =  3161561547.6540337\n"
          ],
          "name": "stdout"
        }
      ]
    },
    {
      "cell_type": "code",
      "metadata": {
        "id": "X2VOyGXY-wfY",
        "colab_type": "code",
        "outputId": "c3e55bc7-d3de-43df-8c40-9e12baf72e96",
        "colab": {
          "base_uri": "https://localhost:8080/",
          "height": 561
        }
      },
      "source": [
        "ols_fitting(data_post)"
      ],
      "execution_count": 0,
      "outputs": [
        {
          "output_type": "stream",
          "text": [
            "                            OLS Regression Results                            \n",
            "==============================================================================\n",
            "Dep. Variable:                      y   R-squared:                       0.705\n",
            "Model:                            OLS   Adj. R-squared:                  0.703\n",
            "Method:                 Least Squares   F-statistic:                     276.1\n",
            "Date:                Wed, 20 Mar 2019   Prob (F-statistic):          7.26e-180\n",
            "Time:                        23:40:53   Log-Likelihood:                -5155.9\n",
            "No. Observations:                 698   AIC:                         1.032e+04\n",
            "Df Residuals:                     692   BIC:                         1.035e+04\n",
            "Df Model:                           6                                         \n",
            "Covariance Type:            nonrobust                                         \n",
            "==============================================================================\n",
            "                 coef    std err          t      P>|t|      [0.025      0.975]\n",
            "------------------------------------------------------------------------------\n",
            "x1            -2.4566      0.830     -2.959      0.003      -4.087      -0.826\n",
            "x2            -0.0425      0.008     -5.296      0.000      -0.058      -0.027\n",
            "x3          7.917e-06   4.91e-06      1.612      0.108   -1.73e-06    1.76e-05\n",
            "x4            -0.0003      0.001     -0.486      0.627      -0.002       0.001\n",
            "x5             0.0299      0.069      0.437      0.662      -0.105       0.164\n",
            "x6             0.7393      0.197      3.760      0.000       0.353       1.125\n",
            "==============================================================================\n",
            "Omnibus:                     1175.662   Durbin-Watson:                   2.429\n",
            "Prob(Omnibus):                  0.000   Jarque-Bera (JB):           644241.710\n",
            "Skew:                          10.430   Prob(JB):                         0.00\n",
            "Kurtosis:                     150.365   Cond. No.                     7.08e+05\n",
            "==============================================================================\n",
            "\n",
            "Warnings:\n",
            "[1] Standard Errors assume that the covariance matrix of the errors is correctly specified.\n",
            "[2] The condition number is large, 7.08e+05. This might indicate that there are\n",
            "strong multicollinearity or other numerical problems.\n",
            "MSE =  42489741.18328052\n"
          ],
          "name": "stdout"
        }
      ]
    },
    {
      "cell_type": "markdown",
      "metadata": {
        "id": "g8Iea5oKtWOl",
        "colab_type": "text"
      },
      "source": [
        "### 5. Nonlinear Regression"
      ]
    },
    {
      "cell_type": "code",
      "metadata": {
        "id": "Lwnwiky7xVNk",
        "colab_type": "code",
        "colab": {}
      },
      "source": [
        "def aggr_data(data):\n",
        "  df = data.groupby(by=['month', 'day', 'hour']).agg({'tweet': sum,\n",
        "                                                      'retweet': sum,\n",
        "                                                      'followers': sum,\n",
        "                                                      'listed_count': sum,\n",
        "                                                      'hashtag_count': sum,\n",
        "                                                      'rank_score': sum\n",
        "                                                     })\n",
        "  return df"
      ],
      "execution_count": 0,
      "outputs": []
    },
    {
      "cell_type": "code",
      "metadata": {
        "id": "zAp_NYy_z__K",
        "colab_type": "code",
        "colab": {}
      },
      "source": [
        "gohawks1 = pd.read_csv('./ECE219_tweet_data/extractedfeature#gohawks.csv')\n",
        "gopatriots1 = pd.read_csv('./ECE219_tweet_data/extractedfeature#gopatriots.csv')\n",
        "nfl1 = pd.read_csv('./ECE219_tweet_data/extractedfeature#nfl.csv')\n",
        "patriots1 = pd.read_csv('./ECE219_tweet_data/extractedfeature#patriots.csv')\n",
        "sb491 = pd.read_csv('./ECE219_tweet_data/extractedfeature#sb49.csv')\n",
        "superbowl1 = pd.read_csv('./ECE219_tweet_data/extractedfeature#superbowl.csv')"
      ],
      "execution_count": 0,
      "outputs": []
    },
    {
      "cell_type": "code",
      "metadata": {
        "id": "Hsn0qEOW0fKj",
        "colab_type": "code",
        "outputId": "32dede29-2982-4394-9d9b-5b23f4d7543e",
        "colab": {
          "base_uri": "https://localhost:8080/",
          "height": 122
        }
      },
      "source": [
        "#if using google drive\n",
        "# from google.colab import drive\n",
        "# drive.mount('/content/gdrive', force_remount=True)\n",
        "\n",
        "# gohawks1 = pd.read_csv('gdrive/My Drive/ECE219_tweet_data/extractedfeature#gohawks.csv')\n",
        "# gopatriots1 = pd.read_csv('gdrive/My Drive/ECE219_tweet_data/extractedfeature#gopatriots.csv')\n",
        "# nfl1 = pd.read_csv('gdrive/My Drive/ECE219_tweet_data/extractedfeature#nfl.csv')\n",
        "# patriots1 = pd.read_csv('gdrive/My Drive/ECE219_tweet_data/extractedfeature#patriots.csv')\n",
        "# sb491 = pd.read_csv('gdrive/My Drive/ECE219_tweet_data/extractedfeature#sb49.csv')\n",
        "# superbowl1 = pd.read_csv('gdrive/My Drive/ECE219_tweet_data/extractedfeature#superbowl.csv')"
      ],
      "execution_count": 0,
      "outputs": [
        {
          "output_type": "stream",
          "text": [
            "Go to this URL in a browser: https://accounts.google.com/o/oauth2/auth?client_id=947318989803-6bn6qk8qdgf4n4g3pfee6491hc0brc4i.apps.googleusercontent.com&redirect_uri=urn%3Aietf%3Awg%3Aoauth%3A2.0%3Aoob&scope=email%20https%3A%2F%2Fwww.googleapis.com%2Fauth%2Fdocs.test%20https%3A%2F%2Fwww.googleapis.com%2Fauth%2Fdrive%20https%3A%2F%2Fwww.googleapis.com%2Fauth%2Fdrive.photos.readonly%20https%3A%2F%2Fwww.googleapis.com%2Fauth%2Fpeopleapi.readonly&response_type=code\n",
            "\n",
            "Enter your authorization code:\n",
            "··········\n",
            "Mounted at /content/gdrive\n"
          ],
          "name": "stdout"
        }
      ]
    },
    {
      "cell_type": "code",
      "metadata": {
        "id": "DaVY0Up2x238",
        "colab_type": "code",
        "colab": {}
      },
      "source": [
        "data_aggr = pd.concat([aggr_data(gohawks1),\n",
        "                      aggr_data(gopatriots1),\n",
        "                      aggr_data(nfl1),\n",
        "                      aggr_data(patriots1),\n",
        "                      aggr_data(sb491),\n",
        "                      aggr_data(superbowl1)])"
      ],
      "execution_count": 0,
      "outputs": []
    },
    {
      "cell_type": "code",
      "metadata": {
        "id": "8aFjGpMv0iqd",
        "colab_type": "code",
        "outputId": "c5e83dc7-e90b-4cd0-d971-d068e750c05f",
        "colab": {
          "base_uri": "https://localhost:8080/",
          "height": 235
        }
      },
      "source": [
        "data_aggr.head()"
      ],
      "execution_count": 0,
      "outputs": [
        {
          "output_type": "execute_result",
          "data": {
            "text/plain": [
              "                tweet  retweet  followers  listed_count  hashtag_count  \\\n",
              "month day hour                                                           \n",
              "1     14  0        29      459    23814.0       29608.0             62   \n",
              "          1        13       32     7774.0        6640.0             39   \n",
              "          2        14      378    26891.0        7215.0             52   \n",
              "          3         9       28    19094.0         268.0             23   \n",
              "          4        24       62    31949.0        3240.0             50   \n",
              "\n",
              "                rank_score  \n",
              "month day hour              \n",
              "1     14  0     115.635633  \n",
              "          1      51.273417  \n",
              "          2      62.687126  \n",
              "          3      39.823378  \n",
              "          4     101.774310  "
            ],
            "text/html": [
              "<div>\n",
              "<style scoped>\n",
              "    .dataframe tbody tr th:only-of-type {\n",
              "        vertical-align: middle;\n",
              "    }\n",
              "\n",
              "    .dataframe tbody tr th {\n",
              "        vertical-align: top;\n",
              "    }\n",
              "\n",
              "    .dataframe thead th {\n",
              "        text-align: right;\n",
              "    }\n",
              "</style>\n",
              "<table border=\"1\" class=\"dataframe\">\n",
              "  <thead>\n",
              "    <tr style=\"text-align: right;\">\n",
              "      <th></th>\n",
              "      <th></th>\n",
              "      <th></th>\n",
              "      <th>tweet</th>\n",
              "      <th>retweet</th>\n",
              "      <th>followers</th>\n",
              "      <th>listed_count</th>\n",
              "      <th>hashtag_count</th>\n",
              "      <th>rank_score</th>\n",
              "    </tr>\n",
              "    <tr>\n",
              "      <th>month</th>\n",
              "      <th>day</th>\n",
              "      <th>hour</th>\n",
              "      <th></th>\n",
              "      <th></th>\n",
              "      <th></th>\n",
              "      <th></th>\n",
              "      <th></th>\n",
              "      <th></th>\n",
              "    </tr>\n",
              "  </thead>\n",
              "  <tbody>\n",
              "    <tr>\n",
              "      <th rowspan=\"5\" valign=\"top\">1</th>\n",
              "      <th rowspan=\"5\" valign=\"top\">14</th>\n",
              "      <th>0</th>\n",
              "      <td>29</td>\n",
              "      <td>459</td>\n",
              "      <td>23814.0</td>\n",
              "      <td>29608.0</td>\n",
              "      <td>62</td>\n",
              "      <td>115.635633</td>\n",
              "    </tr>\n",
              "    <tr>\n",
              "      <th>1</th>\n",
              "      <td>13</td>\n",
              "      <td>32</td>\n",
              "      <td>7774.0</td>\n",
              "      <td>6640.0</td>\n",
              "      <td>39</td>\n",
              "      <td>51.273417</td>\n",
              "    </tr>\n",
              "    <tr>\n",
              "      <th>2</th>\n",
              "      <td>14</td>\n",
              "      <td>378</td>\n",
              "      <td>26891.0</td>\n",
              "      <td>7215.0</td>\n",
              "      <td>52</td>\n",
              "      <td>62.687126</td>\n",
              "    </tr>\n",
              "    <tr>\n",
              "      <th>3</th>\n",
              "      <td>9</td>\n",
              "      <td>28</td>\n",
              "      <td>19094.0</td>\n",
              "      <td>268.0</td>\n",
              "      <td>23</td>\n",
              "      <td>39.823378</td>\n",
              "    </tr>\n",
              "    <tr>\n",
              "      <th>4</th>\n",
              "      <td>24</td>\n",
              "      <td>62</td>\n",
              "      <td>31949.0</td>\n",
              "      <td>3240.0</td>\n",
              "      <td>50</td>\n",
              "      <td>101.774310</td>\n",
              "    </tr>\n",
              "  </tbody>\n",
              "</table>\n",
              "</div>"
            ]
          },
          "metadata": {
            "tags": []
          },
          "execution_count": 43
        }
      ]
    },
    {
      "cell_type": "code",
      "metadata": {
        "id": "BkfXgju-0ehe",
        "colab_type": "code",
        "colab": {}
      },
      "source": [
        "y_aggr = data_aggr.values[1:, 0]\n",
        "X_aggr = data_aggr.values[:-1, 0:]"
      ],
      "execution_count": 0,
      "outputs": []
    },
    {
      "cell_type": "code",
      "metadata": {
        "id": "QJB7S3Go0nNC",
        "colab_type": "code",
        "colab": {}
      },
      "source": [
        "ols_fitting(data_aggr)"
      ],
      "execution_count": 0,
      "outputs": []
    },
    {
      "cell_type": "code",
      "metadata": {
        "id": "jFS54xxssWQ2",
        "colab_type": "code",
        "colab": {}
      },
      "source": [
        "from sklearn.model_selection import KFold\n",
        "from sklearn.ensemble import RandomForestRegressor, GradientBoostingRegressor\n",
        "from sklearn.model_selection import GridSearchCV\n",
        "gs_params = {\n",
        "  'max_depth': [10, 20, 40, 60, 80, 100, 200, None],\n",
        "  'max_features': ['auto', 'sqrt'],\n",
        "  'min_samples_leaf': [1, 2, 4],\n",
        "  'min_samples_split': [2, 5, 10],\n",
        "  'n_estimators': [200, 400, 600, 800, 1000, 1200, 1400, 1600, 1800, 2000]\n",
        "}\n",
        "cv = KFold(5, shuffle=True, random_state=42)\n",
        "rfr = RandomForestRegressor()\n",
        "gbr = GradientBoostingRegressor()\n",
        "\n",
        "gs_rfr = GridSearchCV(rfr,param_grid=gs_params,cv=cv,scoring='neg_mean_squared_error',n_jobs=-1)\n",
        "gs_gbr = GridSearchCV(gbr,param_grid=gs_params,cv=cv,scoring='neg_mean_squared_error',n_jobs=-1)"
      ],
      "execution_count": 0,
      "outputs": []
    },
    {
      "cell_type": "code",
      "metadata": {
        "id": "aiz1lkN90FQA",
        "colab_type": "code",
        "colab": {}
      },
      "source": [
        "gs_rfr.fit(X_aggr, y_aggr)"
      ],
      "execution_count": 0,
      "outputs": []
    },
    {
      "cell_type": "code",
      "metadata": {
        "id": "_U-51wbH1ssK",
        "colab_type": "code",
        "colab": {}
      },
      "source": [
        "pd.DataFrame(gs_rfr.cv_results_)"
      ],
      "execution_count": 0,
      "outputs": []
    },
    {
      "cell_type": "code",
      "metadata": {
        "id": "gn_Derp7rAdl",
        "colab_type": "code",
        "colab": {}
      },
      "source": [
        "gs_gbr.fit(X_aggr, y_aggr)\n",
        "pd.DataFrame(gs_gbr.cv_results_)"
      ],
      "execution_count": 0,
      "outputs": []
    },
    {
      "cell_type": "code",
      "metadata": {
        "id": "9n4jZAyUrZBN",
        "colab_type": "code",
        "colab": {}
      },
      "source": [
        "#best estimator\n",
        "print(gs_rfr.best_estimator_)"
      ],
      "execution_count": 0,
      "outputs": []
    },
    {
      "cell_type": "code",
      "metadata": {
        "id": "_hlHodeNrZRp",
        "colab_type": "code",
        "colab": {}
      },
      "source": [
        "print(gs_gbr.best_estimator_)"
      ],
      "execution_count": 0,
      "outputs": []
    },
    {
      "cell_type": "code",
      "metadata": {
        "id": "BFr-1LMy0VLf",
        "colab_type": "code",
        "colab": {}
      },
      "source": [
        "print(gs_rfr.best_params_)"
      ],
      "execution_count": 0,
      "outputs": []
    },
    {
      "cell_type": "code",
      "metadata": {
        "id": "V1US6gfx0VnS",
        "colab_type": "code",
        "colab": {}
      },
      "source": [
        "print(gs_gbr.best_params_)"
      ],
      "execution_count": 0,
      "outputs": []
    },
    {
      "cell_type": "markdown",
      "metadata": {
        "id": "6_oPaAPpsK7C",
        "colab_type": "text"
      },
      "source": [
        "Question 10:"
      ]
    },
    {
      "cell_type": "code",
      "metadata": {
        "id": "BxYOqvcGsa3b",
        "colab_type": "code",
        "colab": {}
      },
      "source": [
        "def grid_search_fit(data, method):\n",
        "  y = data.values[1:, 0]\n",
        "  X = data.values[:-1, 0:]\n",
        "  \n",
        "  gs_params = {\n",
        "      'max_depth': [10, 20, 40, 60, 80, 100, 200, None],\n",
        "      'max_features': ['auto', 'sqrt'],\n",
        "      'min_samples_leaf': [1, 2, 4],\n",
        "      'min_samples_split': [2, 5, 10],\n",
        "      'n_estimators': [200, 400, 600, 800, 1000, 1200, 1400, 1600, 1800, 2000]\n",
        "  }\n",
        "  cv = KFold(5, shuffle=True, random_state=42)\n",
        "  \n",
        "  if(method == 'Gradient Boosting'):\n",
        "    algo = GradientBoostingRegressor()\n",
        "  elif(method == 'Random Forest'):\n",
        "    algo = RandomForestRegressor()\n",
        "  gs = GridSearchCV(algo,param_grid=gs_params,cv=cv,scoring='neg_mean_squared_error',n_jobs=-1)\n",
        "  gs.fit(X, y)\n",
        "  print(pd.DataFrame(gs.cv_results_))\n",
        "  print(gs.best_estimator_)\n",
        "  print(gs.best_params_)"
      ],
      "execution_count": 0,
      "outputs": []
    },
    {
      "cell_type": "code",
      "metadata": {
        "id": "JNTAvEAasIgM",
        "colab_type": "code",
        "colab": {}
      },
      "source": [
        "grid_search_fit(data_pre, 'Gradient Boosting')"
      ],
      "execution_count": 0,
      "outputs": []
    },
    {
      "cell_type": "code",
      "metadata": {
        "id": "mVtqumtjt6Ui",
        "colab_type": "code",
        "colab": {}
      },
      "source": [
        "grid_search_fit(data_feb1, 'Gradient Boosting')"
      ],
      "execution_count": 0,
      "outputs": []
    },
    {
      "cell_type": "code",
      "metadata": {
        "id": "qhKqFIx6t-zA",
        "colab_type": "code",
        "colab": {}
      },
      "source": [
        "grid_search_fit(data_post, 'Gradient Boosting')"
      ],
      "execution_count": 0,
      "outputs": []
    },
    {
      "cell_type": "markdown",
      "metadata": {
        "id": "llyfk4vtr6PY",
        "colab_type": "text"
      },
      "source": [
        "### Neural Network"
      ]
    },
    {
      "cell_type": "code",
      "metadata": {
        "id": "R5PsfP9UydYo",
        "colab_type": "code",
        "colab": {}
      },
      "source": [
        "from sklearn.neural_network import MLPRegressor\n",
        "from sklearn.preprocessing import StandardScaler\n",
        "\n",
        "def mlp_gridsearch(data, scale):\n",
        "  y = data.values[1:, 0]\n",
        "  if(scale == 'True'):\n",
        "    scalar = StandardScaler()\n",
        "    X = scalar.fit_transform(data.values[:-1, 0:])\n",
        "  elif(scale == 'False'):\n",
        "    X = data.values[:-1, 0:]\n",
        "    \n",
        "  mlp_params = {\n",
        "      'hidden_layer_sizes': [(100,), (50,), (50,50), (100,25), (50, 20, 20)]\n",
        "  }\n",
        "  mlp = MLPRegressor()\n",
        "  gs_mlp = GridSearchCV(mlp,param_grid=mlp_params,cv=cv,scoring='neg_mean_squared_error',n_jobs=-1)\n",
        "  gs_mlp.fit(X, y)\n",
        "  print(pd.DataFrame(gs_mlp.cv_results_))\n",
        "  print(gs_mlp.best_estimator_)\n",
        "  print(gs_mlp.best_params_)"
      ],
      "execution_count": 0,
      "outputs": []
    },
    {
      "cell_type": "code",
      "metadata": {
        "id": "JmTYf8IDyTQj",
        "colab_type": "code",
        "colab": {}
      },
      "source": [
        "mlp_gridsearch(data_aggr, 'False')"
      ],
      "execution_count": 0,
      "outputs": []
    },
    {
      "cell_type": "code",
      "metadata": {
        "id": "j63Sq48Iyp3e",
        "colab_type": "code",
        "colab": {}
      },
      "source": [
        "#Q12\n",
        "from sklearn.metrics import mean_squared_error\n",
        "scalar = StandardScaler()\n",
        "y_aggr_s = data_aggr.values[1:, 0]\n",
        "X_aggr_s = scalar.fit_transform(data_aggr.values[:-1, 0:])\n",
        "\n",
        "best_mlp = MLPRegressor(hidden_layer_sizes = (50, 20, 20))\n",
        "best_mlp.fit(X_aggr_s, y_aggr_s)\n",
        "y_pred = best_mlp.predict(X_aggr_s)\n",
        "\n",
        "mse = mean_squared_error(y_aggr_s, y_pred)\n",
        "print(mse)"
      ],
      "execution_count": 0,
      "outputs": []
    },
    {
      "cell_type": "code",
      "metadata": {
        "id": "3Eq-apn7ygwJ",
        "colab_type": "code",
        "colab": {}
      },
      "source": [
        "#Q13\n",
        "mlp_gridsearch(data_pre, 'True')"
      ],
      "execution_count": 0,
      "outputs": []
    },
    {
      "cell_type": "code",
      "metadata": {
        "id": "t496TPrJykn9",
        "colab_type": "code",
        "colab": {}
      },
      "source": [
        "mlp_gridsearch(data_feb1, 'True')"
      ],
      "execution_count": 0,
      "outputs": []
    },
    {
      "cell_type": "code",
      "metadata": {
        "id": "ZuOQzeWQym9s",
        "colab_type": "code",
        "colab": {}
      },
      "source": [
        "mlp_gridsearch(data_post, 'True')"
      ],
      "execution_count": 0,
      "outputs": []
    },
    {
      "cell_type": "code",
      "metadata": {
        "id": "CvXBM5b1e_5s",
        "colab_type": "code",
        "colab": {}
      },
      "source": [
        "def grouping_data_6(data, time_option):\n",
        "  start = datetime.datetime(2015, 2, 1, 8, 0, 0).timestamp()\n",
        "  end = datetime.datetime(2015, 2, 1, 20, 0, 0).timestamp()\n",
        "  if(time_option == 'pre'):\n",
        "    data_pre = data.loc[data['timestamp'] < start]\n",
        "    data_pre['6h'] = data['hour'] // 6\n",
        "    df = data_pre.groupby(by=['month', 'day', '6h']).agg({'tweet': sum,\n",
        "                                                       'retweet': sum,\n",
        "                                                       'followers': sum,\n",
        "                                                       'listed_count': sum,\n",
        "                                                       'hashtag_count': sum,\n",
        "                                                       'rank_score': sum\n",
        "                                                       })\n",
        "    \n",
        "  elif(time_option == 'feb1'):\n",
        "    data_feb1 = data.loc[(data['timestamp'] >= start) & (data['timestamp'] <= end)]\n",
        "    data_feb1.index = pd.to_datetime(data_feb1.time)\n",
        "    df = data_feb1[['tweet', 'retweet', 'followers','listed_count','hashtag_count', 'rank_score']].resample('30T').sum()\n",
        "    \n",
        "  elif(time_option == 'post'):\n",
        "    data_post = data.loc[data['timestamp'] > end]\n",
        "    data_post['6h'] = data['hour'] // 6\n",
        "    df = data_post.groupby(by=['month', 'day', '6h']).agg({'tweet': sum,\n",
        "                                                   'retweet': sum,\n",
        "                                                   'followers': sum,\n",
        "                                                   'listed_count': sum,\n",
        "                                                   'hashtag_count': sum,\n",
        "                                                   'rank_score': sum\n",
        "                                                   })\n",
        "  return df"
      ],
      "execution_count": 0,
      "outputs": []
    },
    {
      "cell_type": "code",
      "metadata": {
        "id": "fSxsjOBifoZh",
        "colab_type": "code",
        "colab": {}
      },
      "source": [
        "def grouping_test_data_6(data, time_option):\n",
        "    if(time_option == 'pre'):\n",
        "      df = data.agg({'tweet': sum,\n",
        "                     'retweet': sum,\n",
        "                     'followers': sum,\n",
        "                     'listed_count': sum,\n",
        "                     'hashtag_count': sum,\n",
        "                     'rank_score': sum\n",
        "                     })\n",
        "\n",
        "    elif(time_option == 'feb1'):\n",
        "      data_feb1 = data\n",
        "      data_feb1.index = pd.to_datetime(data.time)\n",
        "      df = data_feb1[['tweet', 'retweet', 'followers','listed_count','hashtag_count', 'rank_score']].sum()\n",
        "\n",
        "    elif(time_option == 'post'):\n",
        "      df = data.agg({'tweet': sum,\n",
        "                     'retweet': sum,\n",
        "                     'followers': sum,\n",
        "                     'listed_count': sum,\n",
        "                     'hashtag_count': sum,\n",
        "                     'rank_score': sum\n",
        "                     })\n",
        "    return df"
      ],
      "execution_count": 0,
      "outputs": []
    },
    {
      "cell_type": "code",
      "metadata": {
        "id": "CkAFRVXUgtcz",
        "colab_type": "code",
        "colab": {}
      },
      "source": [
        "data_pre_6 = pd.concat([grouping_data_6(gohawks1, 'pre'),\n",
        "                      grouping_data_6(gopatriots1, 'pre'),\n",
        "                      grouping_data_6(nfl1, 'pre'),\n",
        "                      grouping_data_6(patriots1, 'pre'),\n",
        "                      grouping_data_6(sb491, 'pre'),\n",
        "                      grouping_data_6(superbowl1, 'pre')])"
      ],
      "execution_count": 0,
      "outputs": []
    },
    {
      "cell_type": "code",
      "metadata": {
        "id": "K9cW5pXegzhN",
        "colab_type": "code",
        "colab": {}
      },
      "source": [
        "data_post_6 = pd.concat([grouping_data_6(gohawks1, 'post'),\n",
        "                        grouping_data_6(gopatriots1, 'post'),\n",
        "                        grouping_data_6(nfl1, 'post'),\n",
        "                        grouping_data_6(patriots1, 'post'),\n",
        "                        grouping_data_6(sb491, 'post'),\n",
        "                        grouping_data_6(superbowl1, 'post')])"
      ],
      "execution_count": 0,
      "outputs": []
    },
    {
      "cell_type": "code",
      "metadata": {
        "id": "Y2DOtOulg8XF",
        "colab_type": "code",
        "colab": {}
      },
      "source": [
        "data_feb1_6 = pd.concat([grouping_data_6(gohawks1, 'feb1'),\n",
        "                    grouping_data_6(gopatriots1, 'feb1'),\n",
        "                    grouping_data_6(nfl1, 'feb1'),\n",
        "                    grouping_data_6(patriots1, 'feb1'),\n",
        "                    grouping_data_6(sb491, 'feb1'),\n",
        "                    grouping_data_6(superbowl1, 'feb1')])"
      ],
      "execution_count": 0,
      "outputs": []
    },
    {
      "cell_type": "code",
      "metadata": {
        "id": "xQ8XmKXtiq0D",
        "colab_type": "code",
        "colab": {}
      },
      "source": [
        "def get_file_new_feature_test(file_path):\n",
        "  timestamp = []\n",
        "  tweet = []\n",
        "  retweet = []\n",
        "  followers = []\n",
        "  time = []\n",
        "  month = []\n",
        "  day = []\n",
        "  hour = []\n",
        "  location = []\n",
        "  favorited = []\n",
        "  followers_count = []\n",
        "  listed_count = []\n",
        "  statuses_count = []\n",
        "  hashtag_count = []\n",
        "  rank_score = []\n",
        "  pst_tz = pytz.timezone('America/Los_Angeles')\n",
        "\n",
        "  with open(file_path, 'r') as json_file:  \n",
        "    for line in json_file:\n",
        "      data = json.loads(line)\n",
        "      timestamp.append(data['citation_date'])\n",
        "      tweet.append(1)\n",
        "      retweet.append(data['metrics']['citations']['total'])\n",
        "      followers.append(data['author']['followers'])\n",
        "      time.append(datetime.datetime.fromtimestamp(data['citation_date'], pst_tz))\n",
        "      month.append(datetime.datetime.fromtimestamp(data['citation_date'], pst_tz).month)\n",
        "      day.append(datetime.datetime.fromtimestamp(data['citation_date'], pst_tz).day)\n",
        "      hour.append(datetime.datetime.fromtimestamp(data['citation_date'], pst_tz).hour)\n",
        "      location.append(data['tweet']['user']['location'])\n",
        "      favorited.append(data['tweet']['favorited'])\n",
        "      followers_count.append(data['tweet']['user']['followers_count'])\n",
        "      listed_count.append(data['tweet']['user']['listed_count'])\n",
        "      statuses_count.append(data['tweet']['user']['statuses_count'])\n",
        "      hashtag_count.append(data['title'].count('#'))\n",
        "      rank_score.append(data['metrics']['ranking_score'])\n",
        "    df = pd.DataFrame({\n",
        "        'tweet': tweet,\n",
        "        'timestamp': timestamp,\n",
        "        'retweet': retweet,\n",
        "        'followers': followers,\n",
        "        'time': time,\n",
        "        'month': month,\n",
        "        'day': day,\n",
        "        'hour': hour,\n",
        "        'location': location,\n",
        "        'favorited': favorited,\n",
        "        'follwers_count': followers_count,\n",
        "        'listed_count': listed_count,\n",
        "        'statuses_count': statuses_count,\n",
        "        'hashtag_count': hashtag_count,\n",
        "        'rank_score': rank_score\n",
        "    }, columns = ['tweet', 'timestamp', 'retweet', 'followers', 'time', 'month', 'day', 'hour',\n",
        "                 'location','favorited','followers_count','listed_count', 'statuses_count', 'hashtag_count','rank_score'])\n",
        "    \n",
        "    df.to_csv('./ECE219_tweet_test/extractedfeature'+file_path[-19:-4]+'.csv', index = False,encoding='utf-8')"
      ],
      "execution_count": 0,
      "outputs": []
    },
    {
      "cell_type": "code",
      "metadata": {
        "id": "EWNtj27nhb0C",
        "colab_type": "code",
        "colab": {}
      },
      "source": [
        "get_file_new_feature_test('./ECE219_tweet_test/sample0_period1.txt')\n",
        "get_file_new_feature_test('./ECE219_tweet_test/sample0_period2.txt')\n",
        "get_file_new_feature_test('./ECE219_tweet_test/sample0_period3.txt')\n",
        "get_file_new_feature_test('./ECE219_tweet_test/sample1_period1.txt')\n",
        "get_file_new_feature_test('./ECE219_tweet_test/sample1_period2.txt')\n",
        "get_file_new_feature_test('./ECE219_tweet_test/sample1_period3.txt')\n",
        "get_file_new_feature_test('./ECE219_tweet_test/sample2_period1.txt')\n",
        "get_file_new_feature_test('./ECE219_tweet_test/sample2_period2.txt')\n",
        "get_file_new_feature_test('./ECE219_tweet_test/sample2_period3.txt')"
      ],
      "execution_count": 0,
      "outputs": []
    },
    {
      "cell_type": "code",
      "metadata": {
        "id": "edOVICyNi_0E",
        "colab_type": "code",
        "colab": {}
      },
      "source": [
        "s0p1 = grouping_test_data_6(pd.read_csv('./ECE219_tweet_test/extractedfeaturesample0_period1.csv'),'pre')\n",
        "s0p2 = grouping_test_data_6(pd.read_csv('./ECE219_tweet_test/extractedfeaturesample0_period2.csv'),'feb1')\n",
        "s0p3 = grouping_test_data_6(pd.read_csv('./ECE219_tweet_test/extractedfeaturesample0_period3.csv'),'post')\n",
        "s1p1 = grouping_test_data_6(pd.read_csv('./ECE219_tweet_test/extractedfeaturesample1_period1.csv'),'pre')\n",
        "s1p2 = grouping_test_data_6(pd.read_csv('./ECE219_tweet_test/extractedfeaturesample1_period2.csv'),'feb1')\n",
        "s1p3 = grouping_test_data_6(pd.read_csv('./ECE219_tweet_test/extractedfeaturesample1_period3.csv'),'post')\n",
        "s2p1 = grouping_test_data_6(pd.read_csv('./ECE219_tweet_test/extractedfeaturesample2_period1.csv'),'pre')\n",
        "s2p2 = grouping_test_data_6(pd.read_csv('./ECE219_tweet_test/extractedfeaturesample2_period2.csv'),'feb1')\n",
        "s2p3 = grouping_test_data_6(pd.read_csv('./ECE219_tweet_test/extractedfeaturesample2_period3.csv'),'post')"
      ],
      "execution_count": 0,
      "outputs": []
    },
    {
      "cell_type": "code",
      "metadata": {
        "id": "Kv4Z4B97j-06",
        "colab_type": "code",
        "colab": {}
      },
      "source": [
        "y_pre = data_pre_6.values[1:, 0]\n",
        "X_pre = scalar.fit_transform(data_pre_6.values[:-1, 0:])\n",
        "\n",
        "best_mlp = MLPRegressor(hidden_layer_sizes = (50, 20, 20))\n",
        "best_mlp.fit(X_pre, y_pre)\n",
        "print(\"Predicition for S0P1: \")\n",
        "print(best_mlp.predict(scalar.transform(s0p1.values.reshape(-1, 1).T)))\n",
        "print(\"Predicition for S1P1: \")\n",
        "print(best_mlp.predict(scalar.transform(s1p1.values.reshape(-1, 1).T)))\n",
        "print(\"Predicition for S3P1: \")\n",
        "print(best_mlp.predict(scalar.transform(s2p1.values.reshape(-1, 1).T)))"
      ],
      "execution_count": 0,
      "outputs": []
    },
    {
      "cell_type": "code",
      "metadata": {
        "id": "e6JDRx71kQ6t",
        "colab_type": "code",
        "colab": {}
      },
      "source": [
        "y_feb1 = data_feb1_6.values[1:, 0]\n",
        "X_feb1 = scalar.fit_transform(data_feb1_6.values[:-1, 0:])\n",
        "\n",
        "best_mlp = MLPRegressor(hidden_layer_sizes = (50, 20, 20))\n",
        "best_mlp.fit(X_feb1, y_feb1)\n",
        "print(\"Predicition for S0P2: \")\n",
        "print(best_mlp.predict(scalar.transform(s0p2.values.reshape(-1, 1).T)))\n",
        "print(\"Predicition for S1P2: \")\n",
        "print(best_mlp.predict(scalar.transform(s1p2.values.reshape(-1, 1).T)))\n",
        "print(\"Predicition for S3P2: \")\n",
        "print(best_mlp.predict(scalar.transform(s2p2.values.reshape(-1, 1).T)))"
      ],
      "execution_count": 0,
      "outputs": []
    },
    {
      "cell_type": "code",
      "metadata": {
        "id": "JGEPuTfGkSYk",
        "colab_type": "code",
        "colab": {}
      },
      "source": [
        "y_post = data_post_6.values[1:, 0]\n",
        "X_post = scalar.fit_transform(data_post_6.values[:-1, 0:])\n",
        "\n",
        "best_mlp = MLPRegressor(hidden_layer_sizes = (50, 20, 20))\n",
        "best_mlp.fit(X_post, y_post)\n",
        "print(\"Predicition for S0P3: \")\n",
        "print(best_mlp.predict(scalar.transform(s0p3.values.reshape(-1, 1).T)))\n",
        "print(\"Predicition for S1P3: \")\n",
        "print(best_mlp.predict(scalar.transform(s1p3.values.reshape(-1, 1).T)))\n",
        "print(\"Predicition for S2P3: \")\n",
        "print(best_mlp.predict(scalar.transform(s2p3.values.reshape(-1, 1).T)))"
      ],
      "execution_count": 0,
      "outputs": []
    }
  ]
}